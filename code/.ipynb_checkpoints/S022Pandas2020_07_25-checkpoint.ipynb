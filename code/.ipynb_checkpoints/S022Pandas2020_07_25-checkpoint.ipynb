{
 "cells": [
  {
   "cell_type": "code",
   "execution_count": 1,
   "metadata": {},
   "outputs": [],
   "source": [
    "# all imports go at the top, even though python is a very open language\n",
    "import numpy as np\n",
    "import pandas as pd"
   ]
  },
  {
   "cell_type": "markdown",
   "metadata": {},
   "source": [
    "## Series"
   ]
  },
  {
   "cell_type": "code",
   "execution_count": 6,
   "metadata": {},
   "outputs": [
    {
     "name": "stdout",
     "output_type": "stream",
     "text": [
      "0    1\n",
      "1    2\n",
      "2    3\n",
      "dtype: int64\n",
      "\n",
      "a    1.0\n",
      "b    2.0\n",
      "c    3.0\n",
      "d    NaN\n",
      "dtype: float64\n",
      "\n",
      "0    0\n",
      "1    1\n",
      "2    2\n",
      "3    3\n",
      "4    4\n",
      "dtype: int64\n"
     ]
    }
   ],
   "source": [
    "# Normal series and series with custom index\n",
    "s1 = pd.Series([1,2,3])\n",
    "s2 = pd.Series([1,2,3, np.nan], index=list(\"abcd\"))\n",
    "print(s1)\n",
    "print()\n",
    "print(s2)\n",
    "\n",
    "print()\n",
    "print(pd.Series(range(5)))"
   ]
  },
  {
   "cell_type": "code",
   "execution_count": 11,
   "metadata": {},
   "outputs": [
    {
     "name": "stdout",
     "output_type": "stream",
     "text": [
      "0    1.0\n",
      "1    2.0\n",
      "2    3.0\n",
      "dtype: float64\n",
      "\n",
      "0    1.0\n",
      "1    2.0\n",
      "2    3.0\n",
      "dtype: float32\n"
     ]
    }
   ],
   "source": [
    "# changing dtype: astype\n",
    "print(s1.astype('float64'))\n",
    "print()\n",
    "print(s1.astype(np.float32))"
   ]
  },
  {
   "cell_type": "code",
   "execution_count": 13,
   "metadata": {},
   "outputs": [
    {
     "name": "stdout",
     "output_type": "stream",
     "text": [
      "(3,)\n",
      "int64\n",
      "RangeIndex(start=0, stop=3, step=1)\n",
      "[1 2 3]\n",
      "3\n",
      "\n",
      "Index(['a', 'b', 'c', 'd'], dtype='object')\n"
     ]
    }
   ],
   "source": [
    "# shape, size, dtype, index, values\n",
    "print(s1.shape)\n",
    "print(s1.dtype)\n",
    "print(s1.index)\n",
    "print(s1.values)\n",
    "print(s1.size)\n",
    "\n",
    "print()\n",
    "print(s2.index)"
   ]
  },
  {
   "cell_type": "code",
   "execution_count": 31,
   "metadata": {},
   "outputs": [
    {
     "name": "stdout",
     "output_type": "stream",
     "text": [
      "nan\n",
      "0    1\n",
      "1    2\n",
      "2    3\n",
      "dtype: int64\n",
      "a    1.0\n",
      "b    2.0\n",
      "c    3.0\n",
      "d    NaN\n",
      "dtype: float64\n",
      "\n",
      "3\n",
      "1\n",
      "6\n",
      "\n",
      "nan\n",
      "1.0\n",
      "6.0\n",
      "\n",
      "[ 1.  2.  3. nan]\n"
     ]
    }
   ],
   "source": [
    "# aggregate operations: min, max, unique, sum etc.\n",
    "a = np.array([1,2, np.nan])\n",
    "print(a.max())\n",
    "\n",
    "print(s1)\n",
    "print(s2)\n",
    "print()\n",
    "print(s1.max())\n",
    "print(s1.min())\n",
    "print(s1.sum())\n",
    "\n",
    "print()\n",
    "print(s2.max(skipna=False))\n",
    "print(s2.min())\n",
    "print(s2.sum())\n",
    "print()\n",
    "print(s2.unique())"
   ]
  },
  {
   "cell_type": "code",
   "execution_count": 21,
   "metadata": {},
   "outputs": [
    {
     "name": "stdout",
     "output_type": "stream",
     "text": [
      "0    10\n",
      "1    20\n",
      "2    30\n",
      "dtype: int64\n",
      "a   -99.0\n",
      "b   -98.0\n",
      "c   -97.0\n",
      "d     NaN\n",
      "dtype: float64\n",
      "\n",
      "0   NaN\n",
      "1   NaN\n",
      "2   NaN\n",
      "a   NaN\n",
      "b   NaN\n",
      "c   NaN\n",
      "d   NaN\n",
      "dtype: float64\n",
      "0      NaN\n",
      "1      NaN\n",
      "2   -180.0\n",
      "3   -270.0\n",
      "4      NaN\n",
      "dtype: float64\n"
     ]
    }
   ],
   "source": [
    "# arithmetic operations(new copy) and broadcast like numpy\n",
    "print(s1*10)\n",
    "print(s2-100)\n",
    "\n",
    "print()\n",
    "print(s1 - s2)\n",
    "\n",
    "t1 = pd.Series([10,20,30], index=[1,2,3])\n",
    "t2 = pd.Series([100,200,300, 400], index=[0,2,3,4])\n",
    "print(t1 - t2)"
   ]
  },
  {
   "cell_type": "code",
   "execution_count": 28,
   "metadata": {},
   "outputs": [
    {
     "name": "stdout",
     "output_type": "stream",
     "text": [
      "0    1\n",
      "1    2\n",
      "2    3\n",
      "dtype: int64\n",
      "1\n",
      "\n",
      "a    1.0\n",
      "b    2.0\n",
      "c    3.0\n",
      "d    NaN\n",
      "dtype: float64\n",
      "\n",
      "3.0\n",
      "c    3.0\n",
      "d    NaN\n",
      "dtype: float64\n",
      "\n",
      "a    1.0\n",
      "d    NaN\n",
      "dtype: float64\n"
     ]
    }
   ],
   "source": [
    "# indexing and slicing\n",
    "print(s1)\n",
    "print(s1[0])\n",
    "\n",
    "print()\n",
    "print(s2)\n",
    "print()\n",
    "print(s2['c'])\n",
    "print(s2['c' :])\n",
    "\n",
    "print()\n",
    "print(s2[ [True, False, False, True] ])"
   ]
  },
  {
   "cell_type": "code",
   "execution_count": 34,
   "metadata": {},
   "outputs": [
    {
     "name": "stdout",
     "output_type": "stream",
     "text": [
      "<class 'numpy.float64'>\n",
      "<class 'pandas.core.series.Series'>\n"
     ]
    }
   ],
   "source": [
    "# result of operations as index\n",
    "print(type(s2['c']))\n",
    "print(type(s2['c' :]))\n"
   ]
  },
  {
   "cell_type": "code",
   "execution_count": 59,
   "metadata": {},
   "outputs": [
    {
     "name": "stdout",
     "output_type": "stream",
     "text": [
      "0    a\n",
      "1    b\n",
      "2    c\n",
      "3    d\n",
      "4    a\n",
      "5    b\n",
      "6    A\n",
      "7    A\n",
      "8    b\n",
      "dtype: object\n",
      "\n",
      "b    3\n",
      "A    2\n",
      "a    2\n",
      "c    1\n",
      "d    1\n",
      "dtype: int64\n",
      "Index(['b', 'A', 'a', 'c', 'd'], dtype='object')\n",
      "[3 2 2 1 1]\n"
     ]
    }
   ],
   "source": [
    "# frequency : value_counts\n",
    "s = pd.Series(list(\"abcdabAAb\"))\n",
    "print(s)\n",
    "print()\n",
    "r = s.value_counts()\n",
    "print(r)\n",
    "\n",
    "r.reindex()\n",
    "\n",
    "print(r.index)\n",
    "print(r.values)"
   ]
  },
  {
   "cell_type": "markdown",
   "metadata": {},
   "source": [
    "## DataFrame"
   ]
  },
  {
   "cell_type": "code",
   "execution_count": 1,
   "metadata": {},
   "outputs": [],
   "source": [
    "import numpy as np\n",
    "import pandas as pd"
   ]
  },
  {
   "cell_type": "code",
   "execution_count": 2,
   "metadata": {},
   "outputs": [
    {
     "name": "stdout",
     "output_type": "stream",
     "text": [
      "        Name  Age  Gender\n",
      "0     Gaurav  0.0     0.0\n",
      "1  Abhishek1  1.0     0.0\n",
      "2    Krishna  2.0     0.0\n",
      "3  Abhishek2  2.0     0.0\n",
      "4   Harshita  1.0     1.0\n",
      "5       Joey  2.0     1.0\n",
      "6     Shweta  3.0     1.0\n",
      "7       na-1  1.0     NaN\n",
      "8       na-2  NaN     0.0\n",
      "9        NaN  2.0     0.0\n",
      "\n",
      "         Name  Number\n",
      "0      Gaurav       1\n",
      "11   Abhiskek       2\n",
      "2     Krishna       3\n",
      "3   Abhishek2       4\n"
     ]
    }
   ],
   "source": [
    "# dataframe from dict or list of rows\n",
    "df1 = pd.DataFrame(\n",
    "    {\n",
    "        \"Name\":   [\"Gaurav\", \"Abhishek1\", \"Krishna\", \"Abhishek2\", \"Harshita\", \"Joey\", \"Shweta\", \"na-1\" , \"na-2\"  , np.nan],\n",
    "        \"Age\":    [ 0      , 1          , 2        , 2          , 1         , 2     , 3       , 1      ,  np.nan , 2     ],\n",
    "        \"Gender\": [ 0      , 0          , 0        , 0          , 1         , 1     , 1       , np.nan ,  0      , 0     ]\n",
    "    }\n",
    ")\n",
    "df2 = pd.DataFrame([(\"Gaurav\",1), (\"Abhiskek\",2), (\"Krishna\",3), (\"Abhishek2\",4)],\n",
    "                    index=[0,11,2,3], \n",
    "                    columns=[\"Name\", \"Number\"])\n",
    "print(df1)\n",
    "print()\n",
    "print(df2)"
   ]
  },
  {
   "cell_type": "code",
   "execution_count": 44,
   "metadata": {},
   "outputs": [
    {
     "name": "stdout",
     "output_type": "stream",
     "text": [
      "30\n",
      "\n",
      "(10, 3)\n",
      "\n",
      "Name       object\n",
      "Age       float64\n",
      "Gender    float64\n",
      "dtype: object\n",
      "\n",
      "RangeIndex(start=0, stop=10, step=1)\n",
      "\n",
      "Index(['Name', 'Age', 'Gender'], dtype='object')\n",
      "\n",
      "             0          1        2          3         4     5       6     7  \\\n",
      "Name    Gaurav  Abhishek1  Krishna  Abhishek2  Harshita  Joey  Shweta  na-1   \n",
      "Age          0          1        2          2         1     2       3     1   \n",
      "Gender       0          0        0          0         1     1       1   NaN   \n",
      "\n",
      "           8    9  \n",
      "Name    na-2  NaN  \n",
      "Age      NaN    2  \n",
      "Gender     0    0  \n",
      "\n",
      "\n",
      "Int64Index([0, 11, 2, 3], dtype='int64')\n",
      "\n",
      "Index(['Name', 'Number'], dtype='object')\n"
     ]
    }
   ],
   "source": [
    "# shape, size, dtype, index, columns, T\n",
    "print(df1.size)\n",
    "print()\n",
    "print(df1.shape)\n",
    "print()\n",
    "print(df1.dtypes)\n",
    "print()\n",
    "print(df1.index)\n",
    "print()\n",
    "print(df1.columns)\n",
    "print()\n",
    "print(df1.T)\n",
    "\n",
    "print()\n",
    "print()\n",
    "print(df2.index)\n",
    "print()\n",
    "print(df2.columns)"
   ]
  },
  {
   "cell_type": "code",
   "execution_count": 55,
   "metadata": {},
   "outputs": [
    {
     "name": "stdout",
     "output_type": "stream",
     "text": [
      "         NAME  NUMBER\n",
      "0      Gaurav       1\n",
      "11   Abhiskek       2\n",
      "2     Krishna       3\n",
      "3   Abhishek2       4\n",
      "\n",
      "         NAME  NUMBER\n",
      "0      Gaurav       1\n",
      "11   Abhiskek       2\n",
      "2     Krishna       3\n",
      "3   Abhishek2       4\n",
      "\n",
      "          NAME  NUMBER\n",
      "0       Gaurav       1\n",
      "110   Abhiskek       2\n",
      "20     Krishna       3\n",
      "30   Abhishek2       4\n",
      "\n",
      "T None\n",
      "df2\n",
      "         NAME  NUMBER\n",
      "0      Gaurav       1\n",
      "11   Abhiskek       2\n",
      "2     Krishna       3\n",
      "3   Abhishek2       4\n"
     ]
    }
   ],
   "source": [
    "# Rename index and columns on df2.\n",
    "# Inplace vs normal operation\n",
    "t = df2.rename(columns={\"Name\":\"n\", \"Number\" : \"Num\"})\n",
    "#t = df2.rename({\"Name\":\"n\", \"Number\" : \"Num\"}, axis=1)\n",
    "print(t)\n",
    "print()\n",
    "print(df2)\n",
    "\n",
    "t = df2.rename(lambda x : x*10, axis=0)\n",
    "print()\n",
    "print(t)\n",
    "\n",
    "print()\n",
    "t = df2.rename(lambda s: s.upper(), axis=1, inplace=True)\n",
    "print(\"T\", t)\n",
    "print(\"df2\")\n",
    "print(df2)"
   ]
  },
  {
   "cell_type": "code",
   "execution_count": 57,
   "metadata": {},
   "outputs": [
    {
     "name": "stdout",
     "output_type": "stream",
     "text": [
      "[1, 2, 3]\n",
      "[1, 2, 3]\n",
      "[1, 2, 3, 4]\n",
      "[1, 2, 3, 4]\n"
     ]
    }
   ],
   "source": [
    "a = [1,2]\n",
    "a.append(3)\n",
    "b = a\n",
    "print(a)\n",
    "print(b)\n",
    "\n",
    "b.append(4)\n",
    "print(a)\n",
    "print(b)"
   ]
  },
  {
   "cell_type": "code",
   "execution_count": 68,
   "metadata": {},
   "outputs": [
    {
     "name": "stdout",
     "output_type": "stream",
     "text": [
      "Index(['Name', 'Age', 'Gender'], dtype='object')\n",
      "\n",
      "0       Gaurav\n",
      "1    Abhishek1\n",
      "2      Krishna\n",
      "3    Abhishek2\n",
      "4     Harshita\n",
      "5         Joey\n",
      "6       Shweta\n",
      "7         na-1\n",
      "8         na-2\n",
      "9          NaN\n",
      "Name: Name, dtype: object\n",
      "\n",
      "0    0.0\n",
      "1    1.0\n",
      "2    2.0\n",
      "3    2.0\n",
      "4    1.0\n",
      "5    2.0\n",
      "6    3.0\n",
      "7    1.0\n",
      "8    NaN\n",
      "9    2.0\n",
      "Name: Age, dtype: float64\n"
     ]
    }
   ],
   "source": [
    "# Indexing columns directly and via index.\n",
    "print(df1.columns)\n",
    "print()\n",
    "print(df1.Name)\n",
    "print()\n",
    "print(df1['Age'])"
   ]
  },
  {
   "cell_type": "code",
   "execution_count": 69,
   "metadata": {},
   "outputs": [
    {
     "name": "stdout",
     "output_type": "stream",
     "text": [
      "<class 'pandas.core.series.Series'>\n"
     ]
    }
   ],
   "source": [
    "# Series in a DataFrame\n",
    "print(type(df1.Name))"
   ]
  },
  {
   "cell_type": "code",
   "execution_count": 83,
   "metadata": {
    "scrolled": false
   },
   "outputs": [
    {
     "name": "stdout",
     "output_type": "stream",
     "text": [
      "Index(['Name', 'Age', 'Gender'], dtype='object')\n",
      "\n",
      "            Age    Gender\n",
      "count  9.000000  9.000000\n",
      "mean   1.555556  0.333333\n",
      "std    0.881917  0.500000\n",
      "min    0.000000  0.000000\n",
      "25%    1.000000  0.000000\n",
      "50%    2.000000  0.000000\n",
      "75%    2.000000  1.000000\n",
      "max    3.000000  1.000000\n",
      "\n",
      "            Name       Age    Gender\n",
      "count          9  9.000000  9.000000\n",
      "unique         9       NaN       NaN\n",
      "top     Harshita       NaN       NaN\n",
      "freq           1       NaN       NaN\n",
      "mean         NaN  1.555556  0.333333\n",
      "std          NaN  0.881917  0.500000\n",
      "min          NaN  0.000000  0.000000\n",
      "25%          NaN  1.000000  0.000000\n",
      "50%          NaN  2.000000  0.000000\n",
      "75%          NaN  2.000000  1.000000\n",
      "max          NaN  3.000000  1.000000\n",
      "\n",
      "1\n",
      "\n",
      "Name      9\n",
      "Age       9\n",
      "Gender    9\n",
      "dtype: int64\n",
      "\n",
      "Name      1\n",
      "Age       1\n",
      "Gender    1\n",
      "dtype: int64\n"
     ]
    }
   ],
   "source": [
    "# describe, top/bottom rows of data\n",
    "print(df1.columns)\n",
    "print()\n",
    "print(df1.describe())\n",
    "\n",
    "print()\n",
    "print(df1.describe(include='all'))\n",
    "\n",
    "print()\n",
    "print(df1.Name.isna().sum())\n",
    "print()\n",
    "print(df1.count())\n",
    "print()\n",
    "print(df1.isna().sum())"
   ]
  },
  {
   "cell_type": "code",
   "execution_count": 80,
   "metadata": {},
   "outputs": [
    {
     "name": "stdout",
     "output_type": "stream",
     "text": [
      "        Name  Age  Gender\n",
      "0     Gaurav  0.0     0.0\n",
      "1  Abhishek1  1.0     0.0\n",
      "2    Krishna  2.0     0.0\n",
      "3  Abhishek2  2.0     0.0\n",
      "4   Harshita  1.0     1.0\n",
      "\n",
      "     Name  Age  Gender\n",
      "5    Joey  2.0     1.0\n",
      "6  Shweta  3.0     1.0\n",
      "7    na-1  1.0     NaN\n",
      "8    na-2  NaN     0.0\n",
      "9     NaN  2.0     0.0\n",
      "\n",
      "   Name  Age  Gender\n",
      "8  na-2  NaN     0.0\n",
      "9   NaN  2.0     0.0\n"
     ]
    }
   ],
   "source": [
    "print(df1.head())\n",
    "print()\n",
    "print(df1.tail())\n",
    "print()\n",
    "print(df1.tail(2))"
   ]
  },
  {
   "cell_type": "code",
   "execution_count": 89,
   "metadata": {},
   "outputs": [
    {
     "name": "stdout",
     "output_type": "stream",
     "text": [
      "Name      Gaurav\n",
      "Age            0\n",
      "Gender         0\n",
      "Name: 0, dtype: object\n",
      "\n",
      "        Name  Age  Gender\n",
      "1  Abhishek1  1.0     0.0\n",
      "2    Krishna  2.0     0.0\n",
      "3  Abhishek2  2.0     0.0\n",
      "\n",
      "0       Gaurav\n",
      "1    Abhishek1\n",
      "2      Krishna\n",
      "3    Abhishek2\n",
      "4     Harshita\n",
      "5         Joey\n",
      "6       Shweta\n",
      "7         na-1\n",
      "8         na-2\n",
      "9          NaN\n",
      "Name: Name, dtype: object\n",
      "\n",
      "3    Abhishek2\n",
      "4     Harshita\n",
      "5         Joey\n",
      "Name: Name, dtype: object\n",
      "\n",
      "        Name  Age\n",
      "3  Abhishek2  2.0\n",
      "4   Harshita  1.0\n",
      "5       Joey  2.0\n"
     ]
    }
   ],
   "source": [
    "# indexing and slicing\n",
    "# loc, iloc [rows, cols]\n",
    "print(df1.loc[0])\n",
    "print()\n",
    "print(df1.loc[1:3])\n",
    "print()\n",
    "print(df1.loc[ :, 'Name' ])\n",
    "print()\n",
    "print(df1.loc[ 3:5, 'Name' ])\n",
    "\n",
    "print()\n",
    "print(df1.loc[ 3:5, 'Name':'Age' ])"
   ]
  },
  {
   "cell_type": "code",
   "execution_count": 107,
   "metadata": {},
   "outputs": [
    {
     "name": "stdout",
     "output_type": "stream",
     "text": [
      "NAME      Gaurav\n",
      "NUMBER         1\n",
      "Name: 0, dtype: object\n",
      "\n",
      "        NAME  NUMBER\n",
      "11  Abhiskek       2\n",
      "2    Krishna       3\n",
      "\n",
      "11    Abhiskek\n",
      "2      Krishna\n",
      "Name: NAME, dtype: object\n",
      "\n",
      "         NAME  NUMBER\n",
      "0      Gaurav       1\n",
      "11   Abhiskek       2\n",
      "2     Krishna       3\n",
      "3   Abhishek2       4\n",
      "    NUMBER      NAME\n",
      "11       2  Abhiskek\n",
      "2        3   Krishna\n"
     ]
    }
   ],
   "source": [
    "# loc, iloc [rows, cols]\n",
    "print(df2.iloc[0])\n",
    "print()\n",
    "print(df2.iloc[1:3])\n",
    "print()\n",
    "print(df2.iloc[1:3, 0])\n",
    "\n",
    "print()\n",
    "print(df2)\n",
    "print(df2.iloc[1:3, ::-1])"
   ]
  },
  {
   "cell_type": "code",
   "execution_count": 109,
   "metadata": {},
   "outputs": [
    {
     "name": "stdout",
     "output_type": "stream",
     "text": [
      "[3, 2, 1]\n",
      "[1, 2]\n"
     ]
    }
   ],
   "source": [
    "a = [1,2,3]\n",
    "print(a[::-1])\n",
    "print(a[:-1])"
   ]
  },
  {
   "cell_type": "code",
   "execution_count": 104,
   "metadata": {},
   "outputs": [
    {
     "name": "stdout",
     "output_type": "stream",
     "text": [
      "\n",
      "NAME      Krishna\n",
      "NUMBER          3\n",
      "Name: 2, dtype: object\n",
      "\n",
      "Empty DataFrame\n",
      "Columns: [Name, Age, Gender]\n",
      "Index: []\n",
      "\n",
      "     Name  Age  Gender\n",
      "9     NaN  2.0     0.0\n",
      "8    na-2  NaN     0.0\n",
      "7    na-1  1.0     NaN\n",
      "6  Shweta  3.0     1.0\n",
      "\n",
      "     Name  Age  Gender\n",
      "5    Joey  2.0     1.0\n",
      "6  Shweta  3.0     1.0\n",
      "7    na-1  1.0     NaN\n",
      "8    na-2  NaN     0.0\n"
     ]
    }
   ],
   "source": [
    "print()\n",
    "print(df2.iloc[-2])\n",
    "\n",
    "print()\n",
    "print(df1.iloc[-1:-5])\n",
    "print()\n",
    "print(df1.iloc[-1:-5: -1])\n",
    "print()\n",
    "print(df1.iloc[-5:-1])"
   ]
  },
  {
   "cell_type": "code",
   "execution_count": 115,
   "metadata": {},
   "outputs": [
    {
     "name": "stdout",
     "output_type": "stream",
     "text": [
      "Age       0.0\n",
      "Gender    0.0\n",
      "dtype: float64\n",
      "\n",
      "Age       14.0\n",
      "Gender     3.0\n",
      "dtype: float64\n",
      "\n",
      "        Name  Age  Gender\n",
      "0     Gaurav  0.0     0.0\n",
      "1  Abhishek1  1.0     0.0\n",
      "2    Krishna  2.0     0.0\n",
      "3  Abhishek2  2.0     0.0\n",
      "4   Harshita  1.0     1.0\n",
      "5       Joey  2.0     1.0\n",
      "6     Shweta  3.0     1.0\n",
      "7       na-1  1.0     NaN\n",
      "8       na-2  NaN     0.0\n",
      "9        NaN  2.0     0.0\n",
      "0    0.0\n",
      "1    0.0\n",
      "2    0.0\n",
      "3    0.0\n",
      "4    1.0\n",
      "5    1.0\n",
      "6    1.0\n",
      "7    1.0\n",
      "8    0.0\n",
      "9    0.0\n",
      "dtype: float64\n",
      "0    0.0\n",
      "1    1.0\n",
      "2    2.0\n",
      "3    2.0\n",
      "4    1.0\n",
      "5    2.0\n",
      "6    3.0\n",
      "7    1.0\n",
      "8    0.0\n",
      "9    2.0\n",
      "dtype: float64\n"
     ]
    }
   ],
   "source": [
    "# aggregate operations (with and without axis : row-1, col-0)\n",
    "# min, max, count, ...\n",
    "print(df1.min())\n",
    "print()\n",
    "print(df1.sum())\n",
    "\n",
    "print()\n",
    "print(df1)\n",
    "print(df1.min(axis=1))\n",
    "print(df1.max(axis=1))"
   ]
  },
  {
   "cell_type": "code",
   "execution_count": 120,
   "metadata": {},
   "outputs": [
    {
     "name": "stdout",
     "output_type": "stream",
     "text": [
      "                 Name  Age  Gender\n",
      "0        GauravGaurav  0.0     0.0\n",
      "1  Abhishek1Abhishek1  2.0     0.0\n",
      "2      KrishnaKrishna  4.0     0.0\n",
      "3  Abhishek2Abhishek2  4.0     0.0\n",
      "4    HarshitaHarshita  2.0     2.0\n",
      "5            JoeyJoey  4.0     2.0\n",
      "6        ShwetaShweta  6.0     2.0\n",
      "7            na-1na-1  2.0     NaN\n",
      "8            na-2na-2  NaN     0.0\n",
      "9                 NaN  4.0     0.0\n",
      "   Age  Gender\n",
      "0 -2.0    -2.0\n",
      "1 -1.0    -2.0\n",
      "2  0.0    -2.0\n",
      "3  0.0    -2.0\n",
      "4 -1.0    -1.0\n",
      "5  0.0    -1.0\n",
      "6  1.0    -1.0\n",
      "7 -1.0     NaN\n",
      "8  NaN    -2.0\n",
      "9  0.0    -2.0\n"
     ]
    }
   ],
   "source": [
    "# arithmetic operations\n",
    "print(df1*2)\n",
    "print(df1.iloc[:, 1:] - 2)\n",
    "#print(df1-2) # this gives exception"
   ]
  },
  {
   "cell_type": "code",
   "execution_count": 121,
   "metadata": {},
   "outputs": [
    {
     "name": "stdout",
     "output_type": "stream",
     "text": [
      "<class 'pandas.core.series.Series'>\n",
      "<class 'pandas.core.frame.DataFrame'>\n",
      "<class 'str'>\n"
     ]
    }
   ],
   "source": [
    "print(type(df1.iloc[0]))\n",
    "print(type(df1.iloc[0:3]))\n",
    "print(type(df1.iloc[0,0]))"
   ]
  },
  {
   "cell_type": "code",
   "execution_count": 124,
   "metadata": {},
   "outputs": [
    {
     "name": "stdout",
     "output_type": "stream",
     "text": [
      "    Name    Age  Gender\n",
      "0  False  False   False\n",
      "1  False  False   False\n",
      "2  False  False   False\n",
      "3  False  False   False\n",
      "4  False  False   False\n",
      "5  False  False   False\n",
      "6  False  False   False\n",
      "7  False  False    True\n",
      "8  False   True   False\n",
      "9   True  False   False\n",
      "\n",
      "Name      1\n",
      "Age       1\n",
      "Gender    1\n",
      "dtype: int64\n"
     ]
    }
   ],
   "source": [
    "# Na Values: isna, fillna, dropna\n",
    "print(df1.isna())\n",
    "print()\n",
    "print(df1.isna().sum())\n"
   ]
  },
  {
   "cell_type": "code",
   "execution_count": 128,
   "metadata": {},
   "outputs": [
    {
     "name": "stdout",
     "output_type": "stream",
     "text": [
      "     Name  Age  Gender\n",
      "5    Joey  2.0     1.0\n",
      "6  Shweta  3.0     1.0\n",
      "7    na-1  1.0     NaN\n",
      "8    na-2  NaN     0.0\n",
      "9     NaN  2.0     0.0\n",
      "\n",
      "        Name  Age  Gender\n",
      "0     Gaurav  0.0     0.0\n",
      "1  Abhishek1  1.0     0.0\n",
      "2    Krishna  2.0     0.0\n",
      "3  Abhishek2  2.0     0.0\n",
      "4   Harshita  1.0     1.0\n",
      "5       Joey  2.0     1.0\n",
      "6     Shweta  3.0     1.0\n",
      "7       na-1  1.0     1.0\n",
      "8       na-2  1.0     0.0\n",
      "9       na-2  2.0     0.0\n",
      "        Name  Age  Gender\n",
      "0     Gaurav  0.0     0.0\n",
      "1  Abhishek1  1.0     0.0\n",
      "2    Krishna  2.0     0.0\n",
      "3  Abhishek2  2.0     0.0\n",
      "4   Harshita  1.0     1.0\n",
      "5       Joey  2.0     1.0\n",
      "6     Shweta  3.0     1.0\n",
      "7       na-1  1.0     0.0\n",
      "8       na-2  2.0     0.0\n",
      "9        NaN  2.0     0.0\n"
     ]
    }
   ],
   "source": [
    "print(df1.tail())\n",
    "print()\n",
    "\n",
    "r = df1.fillna(method='ffill')\n",
    "print(r)\n",
    "\n",
    "r = df1.fillna(method='bfill')\n",
    "print(r)"
   ]
  },
  {
   "cell_type": "code",
   "execution_count": 133,
   "metadata": {},
   "outputs": [
    {
     "name": "stdout",
     "output_type": "stream",
     "text": [
      "     Name  Age  Gender\n",
      "5    Joey  2.0     1.0\n",
      "6  Shweta  3.0     1.0\n",
      "7    na-1  1.0     NaN\n",
      "8    na-2  NaN     0.0\n",
      "9     NaN  2.0     0.0\n",
      "\n",
      "        Name   Age  Gender\n",
      "0     Gaurav   0.0     0.0\n",
      "1  Abhishek1   1.0     0.0\n",
      "2    Krishna   2.0     0.0\n",
      "3  Abhishek2   2.0     0.0\n",
      "4   Harshita   1.0     1.0\n",
      "5       Joey   2.0     1.0\n",
      "6     Shweta   3.0     1.0\n",
      "7       na-1   1.0    10.0\n",
      "8       na-2  10.0     0.0\n",
      "9         10   2.0     0.0\n",
      "        Name  Age  Gender\n",
      "0     Gaurav  0.0     0.0\n",
      "1  Abhishek1  1.0     0.0\n",
      "2    Krishna  2.0     0.0\n",
      "3  Abhishek2  2.0     0.0\n",
      "4   Harshita  1.0     1.0\n",
      "5       Joey  2.0     1.0\n",
      "6     Shweta  3.0     1.0\n",
      "7       na-1  1.0     1.0\n",
      "8       na-2  NaN     0.0\n",
      "9         --  2.0     0.0\n",
      "\n",
      "0    0.000000\n",
      "1    1.000000\n",
      "2    2.000000\n",
      "3    2.000000\n",
      "4    1.000000\n",
      "5    2.000000\n",
      "6    3.000000\n",
      "7    1.000000\n",
      "8    1.555556\n",
      "9    2.000000\n",
      "Name: Age, dtype: float64\n",
      "     Name  Age  Gender\n",
      "5    Joey  2.0     1.0\n",
      "6  Shweta  3.0     1.0\n",
      "7    na-1  1.0     NaN\n",
      "8    na-2  NaN     0.0\n",
      "9     NaN  2.0     0.0\n"
     ]
    }
   ],
   "source": [
    "print(df1.tail())\n",
    "print()\n",
    "\n",
    "r = df1.fillna(10)\n",
    "print(r)\n",
    "\n",
    "r = df1.fillna({'Name': '--', 'Gender': 1.0})\n",
    "print(r)\n",
    "\n",
    "print()\n",
    "r = df1.Age.fillna(df1.Age.mean())\n",
    "print(r)\n",
    "\n",
    "print(df1.tail())"
   ]
  },
  {
   "cell_type": "code",
   "execution_count": 138,
   "metadata": {},
   "outputs": [
    {
     "name": "stdout",
     "output_type": "stream",
     "text": [
      "        Name  Age  Gender\n",
      "0     Gaurav  0.0     0.0\n",
      "1  Abhishek1  1.0     0.0\n",
      "2    Krishna  2.0     0.0\n",
      "3  Abhishek2  2.0     0.0\n",
      "4   Harshita  1.0     1.0\n",
      "5       Joey  2.0     1.0\n",
      "6     Shweta  3.0     1.0\n",
      "\n",
      "Empty DataFrame\n",
      "Columns: []\n",
      "Index: [0, 1, 2, 3, 4, 5, 6, 7, 8, 9]\n",
      "\n",
      "        Name  Age  Gender\n",
      "0     Gaurav  0.0     0.0\n",
      "1  Abhishek1  1.0     0.0\n",
      "2    Krishna  2.0     0.0\n",
      "3  Abhishek2  2.0     0.0\n",
      "4   Harshita  1.0     1.0\n",
      "5       Joey  2.0     1.0\n",
      "6     Shweta  3.0     1.0\n",
      "7       na-1  1.0     NaN\n",
      "8       na-2  NaN     0.0\n",
      "9        NaN  2.0     0.0\n"
     ]
    }
   ],
   "source": [
    "print(df1.dropna()) # remove all rows where any column contains a na value\n",
    "print()\n",
    "\n",
    "print(df1.dropna(axis=1))\n",
    "\n",
    "print()\n",
    "print(df1)"
   ]
  },
  {
   "cell_type": "code",
   "execution_count": 142,
   "metadata": {},
   "outputs": [
    {
     "name": "stdout",
     "output_type": "stream",
     "text": [
      "True\n"
     ]
    }
   ],
   "source": [
    "print(bool(np.nan))"
   ]
  },
  {
   "cell_type": "code",
   "execution_count": 143,
   "metadata": {},
   "outputs": [
    {
     "name": "stdout",
     "output_type": "stream",
     "text": [
      "Name      True\n",
      "Age       True\n",
      "Gender    True\n",
      "dtype: bool\n",
      "\n",
      "Name       True\n",
      "Age       False\n",
      "Gender    False\n",
      "dtype: bool\n",
      "\n",
      "0    False\n",
      "1    False\n",
      "2    False\n",
      "3    False\n",
      "4     True\n",
      "5     True\n",
      "6     True\n",
      "7     True\n",
      "8    False\n",
      "9    False\n",
      "dtype: bool\n"
     ]
    }
   ],
   "source": [
    "# any, all\n",
    "print(df1.any())\n",
    "print()\n",
    "print(df1.all())\n",
    "print()\n",
    "print(df1.all(axis=1))"
   ]
  },
  {
   "cell_type": "code",
   "execution_count": 149,
   "metadata": {},
   "outputs": [
    {
     "name": "stdout",
     "output_type": "stream",
     "text": [
      "        Name  Age  Gender\n",
      "8       na-2  NaN     0.0\n",
      "7       na-1  1.0     NaN\n",
      "6     Shweta  3.0     1.0\n",
      "2    Krishna  2.0     0.0\n",
      "5       Joey  2.0     1.0\n",
      "4   Harshita  1.0     1.0\n",
      "0     Gaurav  0.0     0.0\n",
      "3  Abhishek2  2.0     0.0\n",
      "1  Abhishek1  1.0     0.0\n",
      "9        NaN  2.0     0.0\n",
      "\n",
      "        Name  Age  Gender\n",
      "6     Shweta  3.0     1.0\n",
      "2    Krishna  2.0     0.0\n",
      "5       Joey  2.0     1.0\n",
      "3  Abhishek2  2.0     0.0\n",
      "9        NaN  2.0     0.0\n",
      "7       na-1  1.0     NaN\n",
      "4   Harshita  1.0     1.0\n",
      "1  Abhishek1  1.0     0.0\n",
      "0     Gaurav  0.0     0.0\n",
      "8       na-2  NaN     0.0\n",
      "\n",
      "        Name  Age  Gender\n",
      "6     Shweta  3.0     1.0\n",
      "3  Abhishek2  2.0     0.0\n",
      "5       Joey  2.0     1.0\n",
      "2    Krishna  2.0     0.0\n",
      "9        NaN  2.0     0.0\n",
      "1  Abhishek1  1.0     0.0\n",
      "4   Harshita  1.0     1.0\n",
      "7       na-1  1.0     NaN\n",
      "0     Gaurav  0.0     0.0\n",
      "8       na-2  NaN     0.0\n"
     ]
    }
   ],
   "source": [
    "# ordering data, sort_values\n",
    "print(df1.sort_values(by='Name', ascending=False))\n",
    "\n",
    "print()\n",
    "print(df1.sort_values(by=['Age', \"Name\"], ascending=False))\n",
    "\n",
    "print()\n",
    "print(df1.sort_values(by=['Age', \"Name\"], ascending=[False, True]))"
   ]
  },
  {
   "cell_type": "code",
   "execution_count": 164,
   "metadata": {},
   "outputs": [
    {
     "name": "stdout",
     "output_type": "stream",
     "text": [
      "   One   a   b  10\n",
      "0   18  13  10  15\n",
      "1   18  17  19  11\n",
      "2   17  12  19  16\n",
      "3   14  14  17  17\n",
      "4   17  13  17  18\n"
     ]
    }
   ],
   "source": [
    "# row / column wise operation: apply\n",
    "tmp = pd.DataFrame(np.random.randint(10,20,20).reshape(5,4), columns=[\"One\", 'a',  'b', 10])\n",
    "print(tmp)"
   ]
  },
  {
   "cell_type": "code",
   "execution_count": 165,
   "metadata": {},
   "outputs": [
    {
     "name": "stdout",
     "output_type": "stream",
     "text": [
      "One    84\n",
      "a      69\n",
      "b      82\n",
      "10     77\n",
      "dtype: int64\n",
      "\n",
      "0    56\n",
      "1    65\n",
      "2    64\n",
      "3    62\n",
      "4    65\n",
      "dtype: int64\n",
      "        One         a         b        10\n",
      "0  4.242641  3.605551  3.162278  3.872983\n",
      "1  4.242641  4.123106  4.358899  3.316625\n",
      "2  4.123106  3.464102  4.358899  4.000000\n",
      "3  3.741657  3.741657  4.123106  4.123106\n",
      "4  4.123106  3.605551  4.123106  4.242641\n"
     ]
    }
   ],
   "source": [
    "print(tmp.apply(sum))\n",
    "print()\n",
    "print(tmp.apply(sum, axis=1))\n",
    "\n",
    "import math\n",
    "\n",
    "print(tmp.apply( lambda s : list(map(math.sqrt, s))   ))"
   ]
  },
  {
   "cell_type": "code",
   "execution_count": 170,
   "metadata": {},
   "outputs": [
    {
     "name": "stdout",
     "output_type": "stream",
     "text": [
      "         NAME  NUMBER\n",
      "0      Gaurav       1\n",
      "11   Abhiskek       2\n",
      "2     Krishna       3\n",
      "3   Abhishek2       4\n",
      "\n",
      "NAME      GauravAbhiskekKrishnaAbhishek2\n",
      "NUMBER                                10\n",
      "dtype: object\n"
     ]
    }
   ],
   "source": [
    "print(df2)\n",
    "print()\n",
    "print(df2.apply(pd.Series.sum))\n",
    "\n",
    "def sum(iterable):\n",
    "    start = 0\n",
    "    for d in iterable:\n",
    "        start += d\n",
    "    return d\n",
    "\n",
    "\n",
    "def sum(iterable):\n",
    "    if isinstance(iterable[0], str):\n",
    "        start = ''\n",
    "    else:\n",
    "        start = 0\n",
    "\n",
    "    for d in iterable:\n",
    "        start += d\n",
    "    return d"
   ]
  },
  {
   "cell_type": "code",
   "execution_count": 175,
   "metadata": {},
   "outputs": [
    {
     "name": "stdout",
     "output_type": "stream",
     "text": [
      "abc11bc\n",
      "['__add__', '__class__', '__contains__', '__delattr__', '__dir__', '__doc__', '__eq__', '__format__', '__ge__', '__getattribute__', '__getitem__', '__getnewargs__', '__gt__', '__hash__', '__init__', '__init_subclass__', '__iter__', '__le__', '__len__', '__lt__', '__mod__', '__mul__', '__ne__', '__new__', '__reduce__', '__reduce_ex__', '__repr__', '__rmod__', '__rmul__', '__setattr__', '__sizeof__', '__str__', '__subclasshook__', 'capitalize', 'casefold', 'center', 'count', 'encode', 'endswith', 'expandtabs', 'find', 'format', 'format_map', 'index', 'isalnum', 'isalpha', 'isascii', 'isdecimal', 'isdigit', 'isidentifier', 'islower', 'isnumeric', 'isprintable', 'isspace', 'istitle', 'isupper', 'join', 'ljust', 'lower', 'lstrip', 'maketrans', 'partition', 'replace', 'rfind', 'rindex', 'rjust', 'rpartition', 'rsplit', 'rstrip', 'split', 'splitlines', 'startswith', 'strip', 'swapcase', 'title', 'translate', 'upper', 'zfill']\n"
     ]
    }
   ],
   "source": [
    "s  =  'abcAAbc'\n",
    "print(s.replace('A','1'))\n",
    "print(dir(s))"
   ]
  },
  {
   "cell_type": "code",
   "execution_count": 179,
   "metadata": {},
   "outputs": [
    {
     "name": "stdout",
     "output_type": "stream",
     "text": [
      "['__class__', '__delattr__', '__dict__', '__dir__', '__doc__', '__eq__', '__format__', '__frozen', '__ge__', '__getattribute__', '__getitem__', '__gt__', '__hash__', '__init__', '__init_subclass__', '__iter__', '__le__', '__lt__', '__module__', '__ne__', '__new__', '__reduce__', '__reduce_ex__', '__repr__', '__setattr__', '__sizeof__', '__str__', '__subclasshook__', '__weakref__', '_doc_args', '_freeze', '_get_series_list', '_inferred_dtype', '_is_categorical', '_make_accessor', '_orig', '_parent', '_validate', '_wrap_result', 'capitalize', 'casefold', 'cat', 'center', 'contains', 'count', 'decode', 'encode', 'endswith', 'extract', 'extractall', 'find', 'findall', 'get', 'get_dummies', 'index', 'isalnum', 'isalpha', 'isdecimal', 'isdigit', 'islower', 'isnumeric', 'isspace', 'istitle', 'isupper', 'join', 'len', 'ljust', 'lower', 'lstrip', 'match', 'normalize', 'pad', 'partition', 'repeat', 'replace', 'rfind', 'rindex', 'rjust', 'rpartition', 'rsplit', 'rstrip', 'slice', 'slice_replace', 'split', 'startswith', 'strip', 'swapcase', 'title', 'translate', 'upper', 'wrap', 'zfill']\n",
      "0       GAURAV\n",
      "1    ABHISHEK1\n",
      "2      KRISHNA\n",
      "3    ABHISHEK2\n",
      "4     HARSHITA\n",
      "5         JOEY\n",
      "6       SHWETA\n",
      "7         NA-1\n",
      "8         NA-2\n",
      "9          NaN\n",
      "Name: Name, dtype: object\n",
      "\n",
      "0     True\n",
      "1     True\n",
      "2     True\n",
      "3     True\n",
      "4     True\n",
      "5     True\n",
      "6     True\n",
      "7    False\n",
      "8    False\n",
      "9      NaN\n",
      "Name: Name, dtype: object\n"
     ]
    }
   ],
   "source": [
    "# str submodule (replace etc)\n",
    "print(dir(df1.Name.str))\n",
    "print(df1.Name.str.upper())\n",
    "print()\n",
    "\n",
    "print(df1.Name.str.isalnum())"
   ]
  },
  {
   "cell_type": "code",
   "execution_count": 182,
   "metadata": {},
   "outputs": [
    {
     "name": "stdout",
     "output_type": "stream",
     "text": [
      "   Unnamed: 0  pclass  survived  gender      age  sibsp  parch    fare  \\\n",
      "0           0       1         1  female  29.0000      0      0  211.34   \n",
      "1           1       1         1    male   0.9167      1      2  151.55   \n",
      "2           2       1         0  female   2.0000      1      2  151.55   \n",
      "3           3       1         0    male  30.0000      1      2  151.55   \n",
      "4           4       1         0  female  25.0000      1      2  151.55   \n",
      "\n",
      "  embarked  \n",
      "0        S  \n",
      "1        S  \n",
      "2        S  \n",
      "3        S  \n",
      "4        S  \n"
     ]
    }
   ],
   "source": [
    "# load and save data\n",
    "df  = pd.read_csv('titanic_filtered.csv')\n",
    "print(df.head())"
   ]
  },
  {
   "cell_type": "code",
   "execution_count": 187,
   "metadata": {},
   "outputs": [
    {
     "name": "stdout",
     "output_type": "stream",
     "text": [
      "   Unnamed: 0  pclass  survived  gender      age  sibsp  parch    fare  \\\n",
      "0           0       1         1  female  29.0000      0      0  211.34   \n",
      "1           1       1         1    male   0.9167      1      2  151.55   \n",
      "2           2       1         0  female   2.0000      1      2  151.55   \n",
      "3           3       1         0    male  30.0000      1      2  151.55   \n",
      "4           4       1         0  female  25.0000      1      2  151.55   \n",
      "\n",
      "  embarked  \n",
      "0        S  \n",
      "1        S  \n",
      "2        S  \n",
      "3        S  \n",
      "4        S  \n",
      "Unnamed: 0    False\n",
      "pclass        False\n",
      "survived      False\n",
      "gender        False\n",
      "age           False\n",
      "sibsp         False\n",
      "parch         False\n",
      "fare          False\n",
      "embarked      False\n",
      "dtype: bool\n"
     ]
    }
   ],
   "source": [
    "\n",
    "df  = pd.read_csv(r'https://raw.githubusercontent.com/leangaurav/dsc_weekend_20200719/master/code/titanic_filtered.csv')\n",
    "print(df.head())\n",
    "print(df.isna().any())"
   ]
  },
  {
   "cell_type": "code",
   "execution_count": null,
   "metadata": {},
   "outputs": [],
   "source": [
    "# groups: groupby"
   ]
  },
  {
   "cell_type": "code",
   "execution_count": null,
   "metadata": {},
   "outputs": [],
   "source": [
    "# groups and aggregates"
   ]
  }
 ],
 "metadata": {
  "kernelspec": {
   "display_name": "Python 3",
   "language": "python",
   "name": "python3"
  },
  "language_info": {
   "codemirror_mode": {
    "name": "ipython",
    "version": 3
   },
   "file_extension": ".py",
   "mimetype": "text/x-python",
   "name": "python",
   "nbconvert_exporter": "python",
   "pygments_lexer": "ipython3",
   "version": "3.7.6"
  }
 },
 "nbformat": 4,
 "nbformat_minor": 2
}
