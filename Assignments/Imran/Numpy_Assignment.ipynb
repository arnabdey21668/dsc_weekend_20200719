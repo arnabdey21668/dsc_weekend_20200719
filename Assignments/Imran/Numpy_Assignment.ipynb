{
 "cells": [
  {
   "cell_type": "code",
   "execution_count": null,
   "metadata": {},
   "outputs": [],
   "source": [
    "# NUMPY\n",
    "# create a numpy array of 5 zeros.\n",
    "# check datatype, itemsize and shape of above\n",
    "# create a numpy array of ones of shape (5,4)\n",
    "# create a matrix of shape 4,5 with numbers from 1-20\n",
    "# multiply all elements of above array by 10\n",
    "# print odd elements from array\n",
    "# replace all even elements by their negative\n",
    "\n",
    "# create a linearly spaced matrix M1 of size 4x4 having values in range 1-16\n",
    "# create a transpose of above matrix call it M2\n",
    "# find sum of above matrix M3 = (M1 + M2)\n",
    "# Find Transpose of M3, Call it MT1. Check if M3 == MT1\n",
    "# find diffrence of M4 = (M1 - M2)\n",
    "# Find Transpose of M4, Call it MT2. Check if M4 == MT2. Also check if M4 == -MT2\n",
    "# create a matrix (3x4) R1 of random numbers between 10-40\n",
    "# find min and max column wise\n",
    "# replace the last column with sum of all the columns\n",
    "# create a matrix (3x4) R1 of random numbers between 10-40\n",
    "# replace all even elements with nan in R1\n",
    "# count number of nan in R1\n",
    "# check output of this code\n",
    "# a1 = np.arange(1,10).reshape(3,3)\n",
    "# a2 = np.arange(11,20).reshape(3,3)\n",
    "# a3 = np.append(a1,a2)\n",
    "# print(a3)\n",
    "# a3 = np.append(a1,a2, axis = 0)\n",
    "# print(a3)\n",
    "# a3 = np.append(a1,a2, axis = 1)\n",
    "# print(a3)"
   ]
  },
  {
   "cell_type": "code",
   "execution_count": 4,
   "metadata": {},
   "outputs": [
    {
     "name": "stdout",
     "output_type": "stream",
     "text": [
      "[0. 0. 0. 0. 0.]\n",
      "float64\n",
      "(5,)\n",
      "8\n"
     ]
    }
   ],
   "source": [
    "# create a numpy array of 5 zeros.\n",
    "# check datatype, itemsize and shape of above\n",
    "import numpy as np\n",
    "\n",
    "arr = np.zeros(5)\n",
    "print(arr)\n",
    "print(arr.dtype)\n",
    "print(arr.shape)\n",
    "print(arr.itemsize)"
   ]
  },
  {
   "cell_type": "code",
   "execution_count": 6,
   "metadata": {},
   "outputs": [
    {
     "name": "stdout",
     "output_type": "stream",
     "text": [
      "[[1. 1. 1. 1.]\n",
      " [1. 1. 1. 1.]\n",
      " [1. 1. 1. 1.]\n",
      " [1. 1. 1. 1.]\n",
      " [1. 1. 1. 1.]]\n"
     ]
    }
   ],
   "source": [
    "# create a numpy array of ones of shape (5,4)\n",
    "arr_ones = np.ones((5,4))\n",
    "print(arr_ones)"
   ]
  },
  {
   "cell_type": "code",
   "execution_count": 8,
   "metadata": {},
   "outputs": [
    {
     "name": "stdout",
     "output_type": "stream",
     "text": [
      "[[ 1  2  3  4  5]\n",
      " [ 6  7  8  9 10]\n",
      " [11 12 13 14 15]\n",
      " [16 17 18 19 20]]\n"
     ]
    }
   ],
   "source": [
    "# create a matrix of shape 4,5 with numbers from 1-20\n",
    "matrix = np.arange(1,21).reshape(4,5)\n",
    "print(matrix)"
   ]
  },
  {
   "cell_type": "code",
   "execution_count": 9,
   "metadata": {},
   "outputs": [
    {
     "name": "stdout",
     "output_type": "stream",
     "text": [
      "[[ 10  20  30  40  50]\n",
      " [ 60  70  80  90 100]\n",
      " [110 120 130 140 150]\n",
      " [160 170 180 190 200]]\n"
     ]
    }
   ],
   "source": [
    "# multiply all elements of above array by 10\n",
    "mul_matrix = matrix * 10\n",
    "print(mul_matrix)"
   ]
  },
  {
   "cell_type": "code",
   "execution_count": 12,
   "metadata": {},
   "outputs": [
    {
     "name": "stdout",
     "output_type": "stream",
     "text": [
      "[ 1  3  5  7  9 11 13 15 17 19]\n"
     ]
    }
   ],
   "source": [
    "#print odd elements from array\n",
    "print(matrix[matrix % 2 != 0])"
   ]
  },
  {
   "cell_type": "code",
   "execution_count": 25,
   "metadata": {},
   "outputs": [
    {
     "name": "stdout",
     "output_type": "stream",
     "text": [
      "[[  1  -2   3  -4   5]\n",
      " [ -6   7  -8   9 -10]\n",
      " [ 11 -12  13 -14  15]\n",
      " [-16  17 -18  19 -20]]\n"
     ]
    }
   ],
   "source": [
    "# replace all even elements by their negative\n",
    "even_matrix = np.where(matrix % 2 == 0, -1 * matrix, matrix)\n",
    "print(even_matrix)"
   ]
  },
  {
   "cell_type": "code",
   "execution_count": 26,
   "metadata": {},
   "outputs": [
    {
     "name": "stdout",
     "output_type": "stream",
     "text": [
      "[[ 1  2  3  4]\n",
      " [ 5  6  7  8]\n",
      " [ 9 10 11 12]\n",
      " [13 14 15 16]]\n"
     ]
    }
   ],
   "source": [
    "# create a linearly spaced matrix M1 of size 4x4 having values in range 1-16\n",
    "M1 = np.arange(1,17).reshape(4,4)\n",
    "print(M1)"
   ]
  },
  {
   "cell_type": "code",
   "execution_count": 27,
   "metadata": {},
   "outputs": [
    {
     "name": "stdout",
     "output_type": "stream",
     "text": [
      "[[ 1  5  9 13]\n",
      " [ 2  6 10 14]\n",
      " [ 3  7 11 15]\n",
      " [ 4  8 12 16]]\n"
     ]
    }
   ],
   "source": [
    "# create a transpose of above matrix call it M2\n",
    "M2 = M1.T\n",
    "print(M2)"
   ]
  },
  {
   "cell_type": "code",
   "execution_count": 28,
   "metadata": {},
   "outputs": [
    {
     "name": "stdout",
     "output_type": "stream",
     "text": [
      "[[ 2  7 12 17]\n",
      " [ 7 12 17 22]\n",
      " [12 17 22 27]\n",
      " [17 22 27 32]]\n"
     ]
    }
   ],
   "source": [
    "# find sum of above matrix M3 = (M1 + M2)\n",
    "M3 = M1 + M2\n",
    "print(M3)"
   ]
  },
  {
   "cell_type": "code",
   "execution_count": 30,
   "metadata": {},
   "outputs": [
    {
     "name": "stdout",
     "output_type": "stream",
     "text": [
      "True\n"
     ]
    }
   ],
   "source": [
    "# Find Transpose of M3, Call it MT1. Check if M3 == MT1\n",
    "MT1 = M3.T\n",
    "print((M3 == MT1).all())"
   ]
  },
  {
   "cell_type": "code",
   "execution_count": 31,
   "metadata": {},
   "outputs": [
    {
     "name": "stdout",
     "output_type": "stream",
     "text": [
      "[[ 0 -3 -6 -9]\n",
      " [ 3  0 -3 -6]\n",
      " [ 6  3  0 -3]\n",
      " [ 9  6  3  0]]\n"
     ]
    }
   ],
   "source": [
    "# find diffrence of M4 = (M1 - M2)\n",
    "M4 = M1 - M2\n",
    "print(M4)"
   ]
  },
  {
   "cell_type": "code",
   "execution_count": 33,
   "metadata": {},
   "outputs": [
    {
     "name": "stdout",
     "output_type": "stream",
     "text": [
      "False\n",
      "True\n"
     ]
    }
   ],
   "source": [
    "# Find Transpose of M4, Call it MT2. Check if M4 == MT2. Also check if M4 == -MT2\n",
    "MT2 = M4.T\n",
    "print((M4 == MT2).all())\n",
    "print((M4 == -MT2).all())"
   ]
  },
  {
   "cell_type": "code",
   "execution_count": 38,
   "metadata": {},
   "outputs": [
    {
     "name": "stdout",
     "output_type": "stream",
     "text": [
      "[[29 28 30 38]\n",
      " [30 33 35 23]\n",
      " [37 31 13 11]]\n"
     ]
    }
   ],
   "source": [
    "# create a matrix (3x4) R1 of random numbers between 10-40\n",
    "R1 = np.random.randint(10,40,size = (3,4))\n",
    "print(R1)"
   ]
  },
  {
   "cell_type": "code",
   "execution_count": 40,
   "metadata": {},
   "outputs": [
    {
     "name": "stdout",
     "output_type": "stream",
     "text": [
      "[29 28 13 11]\n",
      "[37 33 35 38]\n"
     ]
    }
   ],
   "source": [
    "# find min and max column wise\n",
    "min_col = R1.min(axis = 0)\n",
    "max_col = R1.max(axis = 0)\n",
    "print(min_col)\n",
    "print(max_col)"
   ]
  },
  {
   "cell_type": "code",
   "execution_count": 57,
   "metadata": {},
   "outputs": [
    {
     "name": "stdout",
     "output_type": "stream",
     "text": [
      "[[       29       338        30 399446208]\n",
      " [       30       338        35 399446208]\n",
      " [       37       338        13 399446208]]\n"
     ]
    }
   ],
   "source": [
    "# replace the last column with sum of all the columns\n",
    "R1[:,3] = R1.sum()\n",
    "print(R1)"
   ]
  },
  {
   "cell_type": "code",
   "execution_count": 58,
   "metadata": {},
   "outputs": [
    {
     "name": "stdout",
     "output_type": "stream",
     "text": [
      "[[19 34 11 25]\n",
      " [16 17 16 28]\n",
      " [23 26 31 39]]\n"
     ]
    }
   ],
   "source": [
    "# create a matrix (3x4) R1 of random numbers between 10-40\n",
    "R1 = np.random.randint(10,40,size = (3,4))\n",
    "print(R1)"
   ]
  },
  {
   "cell_type": "code",
   "execution_count": 59,
   "metadata": {},
   "outputs": [
    {
     "name": "stdout",
     "output_type": "stream",
     "text": [
      "[[19. nan 11. 25.]\n",
      " [nan 17. nan nan]\n",
      " [23. nan 31. 39.]]\n"
     ]
    }
   ],
   "source": [
    "# replace all even elements with nan in R1\n",
    "R1 = np.where(R1%2 == 0, np.nan, R1)\n",
    "print(R1)"
   ]
  },
  {
   "cell_type": "code",
   "execution_count": null,
   "metadata": {},
   "outputs": [],
   "source": [
    "# count number of nan in R1\n",
    "np_count = np."
   ]
  },
  {
   "cell_type": "code",
   "execution_count": 65,
   "metadata": {},
   "outputs": [
    {
     "name": "stdout",
     "output_type": "stream",
     "text": [
      "[[1 2 3]\n",
      " [4 5 6]\n",
      " [7 8 9]]\n",
      "[[11 12 13]\n",
      " [14 15 16]\n",
      " [17 18 19]]\n",
      "[ 1  2  3  4  5  6  7  8  9 11 12 13 14 15 16 17 18 19]\n",
      "[[ 1  2  3]\n",
      " [ 4  5  6]\n",
      " [ 7  8  9]\n",
      " [11 12 13]\n",
      " [14 15 16]\n",
      " [17 18 19]]\n",
      "[[ 1  2  3 11 12 13]\n",
      " [ 4  5  6 14 15 16]\n",
      " [ 7  8  9 17 18 19]]\n"
     ]
    }
   ],
   "source": [
    "# check output of this code\n",
    "a1 = np.arange(1,10).reshape(3,3)\n",
    "a2 = np.arange(11,20).reshape(3,3)\n",
    "a3 = np.append(a1,a2)\n",
    "print(a1)\n",
    "print(a2)\n",
    "print(a3)\n",
    "a3 = np.append(a1,a2, axis = 0)\n",
    "print(a3)\n",
    "a3 = np.append(a1,a2, axis = 1)\n",
    "print(a3)"
   ]
  },
  {
   "cell_type": "code",
   "execution_count": null,
   "metadata": {},
   "outputs": [],
   "source": []
  }
 ],
 "metadata": {
  "kernelspec": {
   "display_name": "Python 3",
   "language": "python",
   "name": "python3"
  },
  "language_info": {
   "codemirror_mode": {
    "name": "ipython",
    "version": 3
   },
   "file_extension": ".py",
   "mimetype": "text/x-python",
   "name": "python",
   "nbconvert_exporter": "python",
   "pygments_lexer": "ipython3",
   "version": "3.7.6"
  }
 },
 "nbformat": 4,
 "nbformat_minor": 4
}
