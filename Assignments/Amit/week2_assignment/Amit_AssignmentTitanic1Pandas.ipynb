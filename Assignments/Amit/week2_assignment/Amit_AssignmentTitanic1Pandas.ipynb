{
 "cells": [
  {
   "cell_type": "markdown",
   "metadata": {},
   "source": [
    "|Variable|Definition|Key|\n",
    "|---|---|---|\n",
    "|survival|Survival|0 = No, 1 = Yes|\n",
    "|pclass|Ticket class|1 = 1st, 2 = 2nd, 3 = 3rd|\n",
    "|gender|gender ||\n",
    "|Age |Age in years| |\n",
    "|sibsp |number of siblings / spouses aboard|\t|\n",
    "|parch |number of parents / children aboard| |\n",
    "|ticket|Ticket number ||\n",
    "|fare | fare| \t|\n",
    "|cabin |Cabin number|\t|\n",
    "|embarked|Port of Embarkation|C = Cherbourg, Q = Queenstown, S = Southampton|\n",
    "|boat | Lifeboat||\n",
    "|body | Body Identification Number||\n",
    "|home.dest| Home/destination||"
   ]
  },
  {
   "cell_type": "markdown",
   "metadata": {},
   "source": []
  },
  {
   "cell_type": "markdown",
   "metadata": {},
   "source": [
    "- Read data and describe it\n",
    "- Find columns with missingdata\n",
    "- Print shape of dataset\n",
    "- drop columns with more than 25% missing data\n",
    "- drop columns having independent values(which do not affect the survival rate).\n",
    "\n",
    "\n",
    "- check data types of all columns\n",
    "- convert price to numeric\n",
    "- find columns still having missing/na values and also count of missing data\n",
    "- fill na with mean for fare and age column column.\n",
    "- drop na values for embarked column.\n",
    "- dump the dataframe to a csv file 'titanic_filtered.csv'.\n",
    "\n",
    "\n",
    "- for surviced column replace 0 with D and 1 with A\n",
    "- find the frequency of different values in survived column\n",
    "- group by gender and survived and see the counts in each category\n",
    "- find different pclass and no of people in each class\n",
    "\n",
    "- find top 5 people with highest values of age. Count no of male and females in the top 5\n",
    "- find max age male and female who survived\n",
    "- get average age by gender\n",
    "- get average age by people survived vs not-survived"
   ]
  },
  {
   "cell_type": "code",
   "execution_count": 6,
   "metadata": {},
   "outputs": [],
   "source": [
    "import pandas as pd\n",
    "import numpy as np"
   ]
  },
  {
   "cell_type": "code",
   "execution_count": 68,
   "metadata": {},
   "outputs": [
    {
     "name": "stdout",
     "output_type": "stream",
     "text": [
      "      Unnamed: 0  pclass  survived  \\\n",
      "0              0       1         1   \n",
      "1              1       1         1   \n",
      "2              2       1         0   \n",
      "3              3       1         0   \n",
      "4              4       1         0   \n",
      "...          ...     ...       ...   \n",
      "1304        1304       3         0   \n",
      "1305        1305       3         0   \n",
      "1306        1306       3         0   \n",
      "1307        1307       3         0   \n",
      "1308        1308       3         0   \n",
      "\n",
      "                                                 name  gender      age  sibsp  \\\n",
      "0                       Allen, Miss. Elisabeth Walton  female  29.0000      0   \n",
      "1                      Allison, Master. Hudson Trevor    male   0.9167      1   \n",
      "2                        Allison, Miss. Helen Loraine  female   2.0000      1   \n",
      "3                Allison, Mr. Hudson Joshua Creighton    male  30.0000      1   \n",
      "4     Allison, Mrs. Hudson J C (Bessie Waldo Daniels)  female  25.0000      1   \n",
      "...                                               ...     ...      ...    ...   \n",
      "1304                             Zabour, Miss. Hileni  female  14.5000      1   \n",
      "1305                            Zabour, Miss. Thamine  female      NaN      1   \n",
      "1306                        Zakarian, Mr. Mapriededer    male  26.5000      0   \n",
      "1307                              Zakarian, Mr. Ortin    male  27.0000      0   \n",
      "1308                               Zimmerman, Mr. Leo    male  29.0000      0   \n",
      "\n",
      "      parch  ticket      fare    cabin embarked boat   body  \\\n",
      "0         0   24160  $211.34        B5        S    2    NaN   \n",
      "1         2  113781  $151.55   C22 C26        S   11    NaN   \n",
      "2         2  113781  $151.55   C22 C26        S  NaN    NaN   \n",
      "3         2  113781  $151.55   C22 C26        S  NaN  135.0   \n",
      "4         2  113781  $151.55   C22 C26        S  NaN    NaN   \n",
      "...     ...     ...       ...      ...      ...  ...    ...   \n",
      "1304      0    2665   $14.45       NaN        C  NaN  328.0   \n",
      "1305      0    2665   $14.45       NaN        C  NaN    NaN   \n",
      "1306      0    2656    $7.23       NaN        C  NaN  304.0   \n",
      "1307      0    2670    $7.23       NaN        C  NaN    NaN   \n",
      "1308      0  315082    $7.88       NaN        S  NaN    NaN   \n",
      "\n",
      "                            home.dest  \n",
      "0                        St Louis, MO  \n",
      "1     Montreal, PQ / Chesterville, ON  \n",
      "2     Montreal, PQ / Chesterville, ON  \n",
      "3     Montreal, PQ / Chesterville, ON  \n",
      "4     Montreal, PQ / Chesterville, ON  \n",
      "...                               ...  \n",
      "1304                              NaN  \n",
      "1305                              NaN  \n",
      "1306                              NaN  \n",
      "1307                              NaN  \n",
      "1308                              NaN  \n",
      "\n",
      "[1309 rows x 15 columns]\n",
      "        Unnamed: 0       pclass     survived          age        sibsp  \\\n",
      "count  1309.000000  1309.000000  1309.000000  1046.000000  1309.000000   \n",
      "mean    654.000000     2.294882     0.381971    29.881135     0.498854   \n",
      "std     378.020061     0.837836     0.486055    14.413500     1.041658   \n",
      "min       0.000000     1.000000     0.000000     0.166700     0.000000   \n",
      "25%     327.000000     2.000000     0.000000    21.000000     0.000000   \n",
      "50%     654.000000     3.000000     0.000000    28.000000     0.000000   \n",
      "75%     981.000000     3.000000     1.000000    39.000000     1.000000   \n",
      "max    1308.000000     3.000000     1.000000    80.000000     8.000000   \n",
      "\n",
      "             parch        body  \n",
      "count  1309.000000  121.000000  \n",
      "mean      0.385027  160.809917  \n",
      "std       0.865560   97.696922  \n",
      "min       0.000000    1.000000  \n",
      "25%       0.000000   72.000000  \n",
      "50%       0.000000  155.000000  \n",
      "75%       0.000000  256.000000  \n",
      "max       9.000000  328.000000  \n"
     ]
    }
   ],
   "source": [
    "#Read data and describe it\n",
    "df = pd.read_csv(r\"\\Users\\AMIAMIT\\Desktop\\Assignment_LB\\5th Assignment\\titanic_dataset.csv\")\n",
    "print(df)\n",
    "print(df.describe())"
   ]
  },
  {
   "cell_type": "code",
   "execution_count": 21,
   "metadata": {},
   "outputs": [
    {
     "name": "stdout",
     "output_type": "stream",
     "text": [
      "Index(['age', 'fare', 'cabin', 'embarked', 'boat', 'body', 'home.dest'], dtype='object')\n"
     ]
    }
   ],
   "source": [
    "#Find columns with missingdata\n",
    "print(df.columns[df.isna().any()])"
   ]
  },
  {
   "cell_type": "code",
   "execution_count": 22,
   "metadata": {},
   "outputs": [
    {
     "name": "stdout",
     "output_type": "stream",
     "text": [
      "(1309, 15)\n"
     ]
    }
   ],
   "source": [
    "#Print shape of dataset\n",
    "print(df.shape)"
   ]
  },
  {
   "cell_type": "code",
   "execution_count": 23,
   "metadata": {},
   "outputs": [
    {
     "name": "stdout",
     "output_type": "stream",
     "text": [
      "Index(['Unnamed: 0', 'pclass', 'survived', 'name', 'gender', 'age', 'sibsp',\n",
      "       'parch', 'ticket', 'fare', 'embarked'],\n",
      "      dtype='object')\n"
     ]
    }
   ],
   "source": [
    "#drop columns with more than 25% missing data\n",
    "p = len(df)*.75\n",
    "df.dropna(thresh = p, axis=1, inplace = True)\n",
    "print(df.columns)"
   ]
  },
  {
   "cell_type": "code",
   "execution_count": 26,
   "metadata": {},
   "outputs": [
    {
     "name": "stdout",
     "output_type": "stream",
     "text": [
      "Index(['pclass', 'survived', 'gender', 'age', 'sibsp', 'parch', 'ticket',\n",
      "       'fare', 'cabin', 'embarked', 'boat', 'body', 'home.dest'],\n",
      "      dtype='object')\n"
     ]
    }
   ],
   "source": [
    "#drop columns having independent values(which do not affect the survival rate).\n",
    "df.drop(columns = ['Unnamed: 0', 'name'], inplace= True)\n",
    "print(df.columns)"
   ]
  },
  {
   "cell_type": "code",
   "execution_count": 28,
   "metadata": {},
   "outputs": [
    {
     "name": "stdout",
     "output_type": "stream",
     "text": [
      "pclass         int64\n",
      "survived       int64\n",
      "gender        object\n",
      "age          float64\n",
      "sibsp          int64\n",
      "parch          int64\n",
      "ticket        object\n",
      "fare          object\n",
      "cabin         object\n",
      "embarked      object\n",
      "boat          object\n",
      "body         float64\n",
      "home.dest     object\n",
      "dtype: object\n"
     ]
    }
   ],
   "source": [
    "#check data types of all columns\n",
    "print(df.dtypes)"
   ]
  },
  {
   "cell_type": "code",
   "execution_count": 72,
   "metadata": {},
   "outputs": [],
   "source": [
    "#convert price to numeric\n"
   ]
  },
  {
   "cell_type": "code",
   "execution_count": 67,
   "metadata": {},
   "outputs": [
    {
     "name": "stdout",
     "output_type": "stream",
     "text": [
      "Index(['age', 'fare', 'cabin', 'embarked', 'boat', 'body', 'home.dest'], dtype='object')\n",
      "\n",
      "Count of missing data\n",
      "body         1188\n",
      "cabin        1014\n",
      "boat          823\n",
      "home.dest     564\n",
      "age           263\n",
      "embarked        2\n",
      "fare            1\n",
      "dtype: int64\n"
     ]
    }
   ],
   "source": [
    "#find columns still having missing/na values and also count of missing data\n",
    "missing_cols = df.columns[df.isna().any()]\n",
    "print(missing_cols)\n",
    "print('\\nCount of missing data')\n",
    "print(df.isnull().sum().sort_values(ascending = False).head(len(missing_cols)))"
   ]
  },
  {
   "cell_type": "code",
   "execution_count": 74,
   "metadata": {},
   "outputs": [
    {
     "name": "stdout",
     "output_type": "stream",
     "text": [
      "0\n",
      "33.27158841562917\n",
      "0\n",
      "24.038063865487707\n"
     ]
    }
   ],
   "source": [
    "#fill na with mean for fare and age column column.\n",
    "print(df['fare'].isna().sum())\n",
    "mean_fare = df.fare.mean()\n",
    "print(mean_fare)\n",
    "df['fare'].fillna(mean_fare, inplace = True)\n",
    "# for age\n",
    "print(df['age'].isna().sum())\n",
    "mean_age = df.age.mean()\n",
    "print(mean_age)\n",
    "df['age'].fillna(mean_age, inplace = True)"
   ]
  },
  {
   "cell_type": "code",
   "execution_count": 75,
   "metadata": {},
   "outputs": [
    {
     "name": "stdout",
     "output_type": "stream",
     "text": [
      "      Unnamed: 0  pclass  survived  \\\n",
      "0              0       1         1   \n",
      "1              1       1         1   \n",
      "2              2       1         0   \n",
      "3              3       1         0   \n",
      "4              4       1         0   \n",
      "...          ...     ...       ...   \n",
      "1304        1304       3         0   \n",
      "1305        1305       3         0   \n",
      "1306        1306       3         0   \n",
      "1307        1307       3         0   \n",
      "1308        1308       3         0   \n",
      "\n",
      "                                                 name  gender        age  \\\n",
      "0                       Allen, Miss. Elisabeth Walton  female  29.000000   \n",
      "1                      Allison, Master. Hudson Trevor    male   0.916700   \n",
      "2                        Allison, Miss. Helen Loraine  female   2.000000   \n",
      "3                Allison, Mr. Hudson Joshua Creighton    male  30.000000   \n",
      "4     Allison, Mrs. Hudson J C (Bessie Waldo Daniels)  female  25.000000   \n",
      "...                                               ...     ...        ...   \n",
      "1304                             Zabour, Miss. Hileni  female  14.500000   \n",
      "1305                            Zabour, Miss. Thamine  female   0.799083   \n",
      "1306                        Zakarian, Mr. Mapriededer    male  26.500000   \n",
      "1307                              Zakarian, Mr. Ortin    male  27.000000   \n",
      "1308                               Zimmerman, Mr. Leo    male  29.000000   \n",
      "\n",
      "      sibsp  parch  ticket    fare    cabin embarked boat   body  \\\n",
      "0         0      0   24160  211.34       B5        S    2    NaN   \n",
      "1         1      2  113781  151.55  C22 C26        S   11    NaN   \n",
      "2         1      2  113781  151.55  C22 C26        S  NaN    NaN   \n",
      "3         1      2  113781  151.55  C22 C26        S  NaN  135.0   \n",
      "4         1      2  113781  151.55  C22 C26        S  NaN    NaN   \n",
      "...     ...    ...     ...     ...      ...      ...  ...    ...   \n",
      "1304      1      0    2665   14.45      NaN        C  NaN  328.0   \n",
      "1305      1      0    2665   14.45      NaN        C  NaN    NaN   \n",
      "1306      0      0    2656    7.23      NaN        C  NaN  304.0   \n",
      "1307      0      0    2670    7.23      NaN        C  NaN    NaN   \n",
      "1308      0      0  315082    7.88      NaN        S  NaN    NaN   \n",
      "\n",
      "                            home.dest  \n",
      "0                        St Louis, MO  \n",
      "1     Montreal, PQ / Chesterville, ON  \n",
      "2     Montreal, PQ / Chesterville, ON  \n",
      "3     Montreal, PQ / Chesterville, ON  \n",
      "4     Montreal, PQ / Chesterville, ON  \n",
      "...                               ...  \n",
      "1304                              NaN  \n",
      "1305                              NaN  \n",
      "1306                              NaN  \n",
      "1307                              NaN  \n",
      "1308                              NaN  \n",
      "\n",
      "[1307 rows x 15 columns]\n"
     ]
    }
   ],
   "source": [
    "#drop na values for embarked column.\n",
    "df.dropna(subset=['embarked'], inplace=True)\n",
    "print(df)\n"
   ]
  },
  {
   "cell_type": "code",
   "execution_count": 77,
   "metadata": {},
   "outputs": [
    {
     "name": "stdout",
     "output_type": "stream",
     "text": [
      "duming to new csv completed\n"
     ]
    }
   ],
   "source": [
    "#dump the dataframe to a csv file 'titanic_filtered.csv'.\n",
    "df.to_csv('titanic_filtered_new.csv', index=False)\n",
    "print('duming to new csv completed')"
   ]
  },
  {
   "cell_type": "code",
   "execution_count": 78,
   "metadata": {
    "scrolled": true
   },
   "outputs": [
    {
     "name": "stdout",
     "output_type": "stream",
     "text": [
      "      Unnamed: 0  pclass survived  \\\n",
      "0              0       1        A   \n",
      "1              1       1        A   \n",
      "2              2       1        D   \n",
      "3              3       1        D   \n",
      "4              4       1        D   \n",
      "...          ...     ...      ...   \n",
      "1304        1304       3        D   \n",
      "1305        1305       3        D   \n",
      "1306        1306       3        D   \n",
      "1307        1307       3        D   \n",
      "1308        1308       3        D   \n",
      "\n",
      "                                                 name  gender        age  \\\n",
      "0                       Allen, Miss. Elisabeth Walton  female  29.000000   \n",
      "1                      Allison, Master. Hudson Trevor    male   0.916700   \n",
      "2                        Allison, Miss. Helen Loraine  female   2.000000   \n",
      "3                Allison, Mr. Hudson Joshua Creighton    male  30.000000   \n",
      "4     Allison, Mrs. Hudson J C (Bessie Waldo Daniels)  female  25.000000   \n",
      "...                                               ...     ...        ...   \n",
      "1304                             Zabour, Miss. Hileni  female  14.500000   \n",
      "1305                            Zabour, Miss. Thamine  female   0.799083   \n",
      "1306                        Zakarian, Mr. Mapriededer    male  26.500000   \n",
      "1307                              Zakarian, Mr. Ortin    male  27.000000   \n",
      "1308                               Zimmerman, Mr. Leo    male  29.000000   \n",
      "\n",
      "      sibsp  parch  ticket    fare    cabin embarked boat   body  \\\n",
      "0         0      0   24160  211.34       B5        S    2    NaN   \n",
      "1         1      2  113781  151.55  C22 C26        S   11    NaN   \n",
      "2         1      2  113781  151.55  C22 C26        S  NaN    NaN   \n",
      "3         1      2  113781  151.55  C22 C26        S  NaN  135.0   \n",
      "4         1      2  113781  151.55  C22 C26        S  NaN    NaN   \n",
      "...     ...    ...     ...     ...      ...      ...  ...    ...   \n",
      "1304      1      0    2665   14.45      NaN        C  NaN  328.0   \n",
      "1305      1      0    2665   14.45      NaN        C  NaN    NaN   \n",
      "1306      0      0    2656    7.23      NaN        C  NaN  304.0   \n",
      "1307      0      0    2670    7.23      NaN        C  NaN    NaN   \n",
      "1308      0      0  315082    7.88      NaN        S  NaN    NaN   \n",
      "\n",
      "                            home.dest  \n",
      "0                        St Louis, MO  \n",
      "1     Montreal, PQ / Chesterville, ON  \n",
      "2     Montreal, PQ / Chesterville, ON  \n",
      "3     Montreal, PQ / Chesterville, ON  \n",
      "4     Montreal, PQ / Chesterville, ON  \n",
      "...                               ...  \n",
      "1304                              NaN  \n",
      "1305                              NaN  \n",
      "1306                              NaN  \n",
      "1307                              NaN  \n",
      "1308                              NaN  \n",
      "\n",
      "[1307 rows x 15 columns]\n"
     ]
    }
   ],
   "source": [
    "# for surviced column replace 0 with D and 1 with A\n",
    "mapping = {0: 'D', 1: 'A'}\n",
    "df.replace({'survived': {0: 'D', 1: 'A'}}, inplace=True)\n",
    "print(df)"
   ]
  },
  {
   "cell_type": "code",
   "execution_count": 79,
   "metadata": {},
   "outputs": [
    {
     "name": "stdout",
     "output_type": "stream",
     "text": [
      "D    809\n",
      "A    498\n",
      "Name: survived, dtype: int64\n"
     ]
    }
   ],
   "source": [
    "#find the frequency of different values in survived column\n",
    "print(df.survived.value_counts())"
   ]
  },
  {
   "cell_type": "code",
   "execution_count": 80,
   "metadata": {},
   "outputs": [
    {
     "name": "stdout",
     "output_type": "stream",
     "text": [
      "     gender        age  counts\n",
      "0    female   0.166700       1\n",
      "1    female   0.750000       2\n",
      "2    female   0.799083      78\n",
      "3    female   0.916700       1\n",
      "4    female   1.000000       5\n",
      "..      ...        ...     ...\n",
      "162    male  70.000000       2\n",
      "163    male  70.500000       1\n",
      "164    male  71.000000       2\n",
      "165    male  74.000000       1\n",
      "166    male  80.000000       1\n",
      "\n",
      "[167 rows x 3 columns]\n"
     ]
    }
   ],
   "source": [
    "# group by gender and survived and see the counts in each category\n",
    "\n",
    "grp = df.groupby(by=[\"gender\",\"age\"])\n",
    "print(grp.size().reset_index(name='counts'))"
   ]
  },
  {
   "cell_type": "code",
   "execution_count": 81,
   "metadata": {},
   "outputs": [
    {
     "name": "stdout",
     "output_type": "stream",
     "text": [
      "3    709\n",
      "1    321\n",
      "2    277\n",
      "Name: pclass, dtype: int64\n"
     ]
    }
   ],
   "source": [
    "#find different pclass and no of people in each class\n",
    "d = df['pclass'].value_counts()\n",
    "print(d)"
   ]
  },
  {
   "cell_type": "code",
   "execution_count": 85,
   "metadata": {},
   "outputs": [
    {
     "name": "stdout",
     "output_type": "stream",
     "text": [
      "      Unnamed: 0  pclass survived  \\\n",
      "14            14       1        A   \n",
      "61            61       1        A   \n",
      "1235        1235       3        D   \n",
      "135          135       1        D   \n",
      "9              9       1        D   \n",
      "\n",
      "                                                   name  gender   age  sibsp  \\\n",
      "14                 Barkworth, Mr. Algernon Henry Wilson    male  80.0      0   \n",
      "61    Cavendish, Mrs. Tyrell William (Julia Florence...  female  76.0      1   \n",
      "1235                                Svensson, Mr. Johan    male  74.0      0   \n",
      "135                           Goldschmidt, Mr. George B    male  71.0      0   \n",
      "9                               Artagaveytia, Mr. Ramon    male  71.0      0   \n",
      "\n",
      "      parch    ticket   fare cabin embarked boat  body  \\\n",
      "14        0     27042  30.00   A23        S    B   NaN   \n",
      "61        0     19877  78.85   C46        S    6   NaN   \n",
      "1235      0    347060   7.78   NaN        S  NaN   NaN   \n",
      "135       0  PC 17754  34.65    A5        C  NaN   NaN   \n",
      "9         0  PC 17609  49.50   NaN        C  NaN  22.0   \n",
      "\n",
      "                    home.dest  \n",
      "14              Hessle, Yorks  \n",
      "61    Little Onn Hall, Staffs  \n",
      "1235                      NaN  \n",
      "135              New York, NY  \n",
      "9         Montevideo, Uruguay  \n",
      "   gender  counts\n",
      "0  female       1\n",
      "1    male       4\n"
     ]
    }
   ],
   "source": [
    "#find top 5 people with highest values of age. Count no of male and females in the top 5\n",
    "print(df.sort_values(by=['age'], ascending=False).head())\n",
    "print(df.sort_values(by=['age'], ascending=False).head().groupby(by=['gender']).size().reset_index(name='counts'))"
   ]
  },
  {
   "cell_type": "code",
   "execution_count": 84,
   "metadata": {},
   "outputs": [
    {
     "name": "stdout",
     "output_type": "stream",
     "text": [
      "gender\n",
      "female    76.0\n",
      "male      80.0\n",
      "Name: age, dtype: float64\n"
     ]
    }
   ],
   "source": [
    "#find max age male and female who survived\n",
    "print(df[df.survived == 'A'].groupby(by=['gender']).age.max())"
   ]
  },
  {
   "cell_type": "code",
   "execution_count": 86,
   "metadata": {},
   "outputs": [
    {
     "name": "stdout",
     "output_type": "stream",
     "text": [
      "gender\n",
      "female    23.907138\n",
      "male      24.048533\n",
      "Name: age, dtype: float64\n"
     ]
    }
   ],
   "source": [
    "#get average age by gender\n",
    "print(df.groupby(by=['gender']).age.mean())"
   ]
  },
  {
   "cell_type": "code",
   "execution_count": 87,
   "metadata": {},
   "outputs": [
    {
     "name": "stdout",
     "output_type": "stream",
     "text": [
      "survived\n",
      "A    24.71168\n",
      "D    23.55922\n",
      "Name: age, dtype: float64\n"
     ]
    }
   ],
   "source": [
    "# get average age by people survived vs not-survived\n",
    "\n",
    "print(df.groupby(by=['survived']).age.mean())"
   ]
  },
  {
   "cell_type": "code",
   "execution_count": null,
   "metadata": {},
   "outputs": [],
   "source": []
  },
  {
   "cell_type": "code",
   "execution_count": null,
   "metadata": {},
   "outputs": [],
   "source": []
  }
 ],
 "metadata": {
  "kernelspec": {
   "display_name": "Python 3",
   "language": "python",
   "name": "python3"
  },
  "language_info": {
   "codemirror_mode": {
    "name": "ipython",
    "version": 3
   },
   "file_extension": ".py",
   "mimetype": "text/x-python",
   "name": "python",
   "nbconvert_exporter": "python",
   "pygments_lexer": "ipython3",
   "version": "3.7.6"
  }
 },
 "nbformat": 4,
 "nbformat_minor": 2
}
