{
 "cells": [
  {
   "cell_type": "code",
   "execution_count": 4,
   "metadata": {},
   "outputs": [
    {
     "name": "stdout",
     "output_type": "stream",
     "text": [
      "[0. 0. 0. 0. 0.]\n",
      "float64\n",
      "8\n",
      "(5,)\n"
     ]
    }
   ],
   "source": [
    "#create a numpy array of 5 zeros.\n",
    "#check datatype, itemsize and shape of above\n",
    "\n",
    "import numpy as np\n",
    "a = np.zeros(5)\n",
    "print(a)\n",
    "\n",
    "print(a.dtype)\n",
    "print(a.itemsize)\n",
    "print(a.shape)\n"
   ]
  },
  {
   "cell_type": "code",
   "execution_count": 5,
   "metadata": {},
   "outputs": [
    {
     "name": "stdout",
     "output_type": "stream",
     "text": [
      "[[1. 1. 1. 1.]\n",
      " [1. 1. 1. 1.]\n",
      " [1. 1. 1. 1.]\n",
      " [1. 1. 1. 1.]\n",
      " [1. 1. 1. 1.]]\n"
     ]
    }
   ],
   "source": [
    "#create a numpy array of ones of shape (5,4)\n",
    "\n",
    "\n",
    "import numpy as np\n",
    "\n",
    "a = np.ones((5,4))\n",
    "print(a)"
   ]
  },
  {
   "cell_type": "code",
   "execution_count": 17,
   "metadata": {},
   "outputs": [
    {
     "name": "stdout",
     "output_type": "stream",
     "text": [
      "[[ 1  2  3  4  5]\n",
      " [ 6  7  8  9 10]\n",
      " [11 12 13 14 15]\n",
      " [16 17 18 19 20]]\n",
      "\n",
      "[[ 10  20  30  40  50]\n",
      " [ 60  70  80  90 100]\n",
      " [110 120 130 140 150]\n",
      " [160 170 180 190 200]]\n",
      "\n",
      "[ 1  3  5  7  9 11 13 15 17 19]\n",
      "\n",
      "[[  1  -2   3  -4   5]\n",
      " [ -6   7  -8   9 -10]\n",
      " [ 11 -12  13 -14  15]\n",
      " [-16  17 -18  19 -20]]\n"
     ]
    }
   ],
   "source": [
    "#create a matrix of shape 4,5 with numbers from 1-20\n",
    "\n",
    "import numpy as np\n",
    "\n",
    "a = np.arange(1,21)\n",
    "#print(a)\n",
    "\n",
    "b = a.reshape(4,5)\n",
    "print(b)\n",
    "print()\n",
    "\n",
    "\n",
    "\n",
    "#multiply all elements of above array by 10\n",
    "\n",
    "print(b*10)\n",
    "print()\n",
    "\n",
    "\n",
    "#print odd elements from array\n",
    "\n",
    "print(b[b%2!=0])\n",
    "print()\n",
    "\n",
    "\n",
    "#print(b)\n",
    "#replace all even elements by their negative\n",
    "\n",
    "c= np.where((b%2==0),-b,b)\n",
    "\n",
    "print(c)"
   ]
  },
  {
   "cell_type": "code",
   "execution_count": 36,
   "metadata": {},
   "outputs": [
    {
     "name": "stdout",
     "output_type": "stream",
     "text": [
      "[[ 1  2  3  4]\n",
      " [ 5  6  7  8]\n",
      " [ 9 10 11 12]\n",
      " [13 14 15 16]]\n",
      "\n",
      "[[ 1  5  9 13]\n",
      " [ 2  6 10 14]\n",
      " [ 3  7 11 15]\n",
      " [ 4  8 12 16]]\n",
      "\n",
      "[[ 2  7 12 17]\n",
      " [ 7 12 17 22]\n",
      " [12 17 22 27]\n",
      " [17 22 27 32]]\n",
      "\n",
      "[[ 2  7 12 17]\n",
      " [ 7 12 17 22]\n",
      " [12 17 22 27]\n",
      " [17 22 27 32]]\n",
      "\n",
      "[[ True  True  True  True]\n",
      " [ True  True  True  True]\n",
      " [ True  True  True  True]\n",
      " [ True  True  True  True]]\n",
      "\n",
      "[[ 0 -3 -6 -9]\n",
      " [ 3  0 -3 -6]\n",
      " [ 6  3  0 -3]\n",
      " [ 9  6  3  0]]\n",
      "\n",
      "[[ 0  3  6  9]\n",
      " [-3  0  3  6]\n",
      " [-6 -3  0  3]\n",
      " [-9 -6 -3  0]]\n",
      "\n",
      "[[ True False False False]\n",
      " [False  True False False]\n",
      " [False False  True False]\n",
      " [False False False  True]]\n",
      "\n",
      "[[ True  True  True  True]\n",
      " [ True  True  True  True]\n",
      " [ True  True  True  True]\n",
      " [ True  True  True  True]]\n"
     ]
    }
   ],
   "source": [
    "#create a linearly spaced matrix M1 of size 4x4 having values in range 1-16\n",
    "\n",
    "import numpy as np\n",
    "\n",
    "a = np.arange(1,17)\n",
    "m1 = a.reshape(4,4)\n",
    "print(m1)\n",
    "print()\n",
    "\n",
    "#create a transpose of above matrix call it M2\n",
    "\n",
    "m2 = m1.T\n",
    "\n",
    "print(m2)\n",
    "print()\n",
    "\n",
    "\n",
    "#find sum of above matrix M3 = (M1 + M2)\n",
    "\n",
    "m3 = m1+m2\n",
    "print(m3)\n",
    "print()\n",
    "\n",
    "\n",
    "#Find Transpose of M3, Call it MT1. Check if M3 == MT1\n",
    "\n",
    "mt1 = m3.T\n",
    "print(mt1)\n",
    "print()\n",
    "\n",
    "\n",
    "print(m3==mt1)\n",
    "print()\n",
    "\n",
    "\n",
    "#find diffrence of M4 = (M1 - M2)\n",
    "\n",
    "m4 = m1-m2\n",
    "print(m4)\n",
    "print()\n",
    "\n",
    "#Find Transpose of M4, Call it MT2. Check if M4 == MT2. Also check if M4 == -MT2\n",
    "\n",
    "mt2 = m4.T\n",
    "print(mt2)\n",
    "print()\n",
    "\n",
    "\n",
    "print(m4==mt2)\n",
    "print()\n",
    "\n",
    "print(m4==-mt2)"
   ]
  },
  {
   "cell_type": "code",
   "execution_count": 12,
   "metadata": {},
   "outputs": [
    {
     "name": "stdout",
     "output_type": "stream",
     "text": [
      "\n",
      "[[32 26 16 35]\n",
      " [10 39 16 11]\n",
      " [22 21 34 16]]\n",
      "\n",
      "[10 21 16 11]\n",
      "\n",
      "[32 39 34 35]\n",
      "\n",
      "[[ 32  26  16 109]\n",
      " [ 10  39  16  76]\n",
      " [ 22  21  34  93]]\n"
     ]
    }
   ],
   "source": [
    "#create a matrix (3x4) R1 of random numbers between 10-40\n",
    "\n",
    "import numpy as np\n",
    "\n",
    "r = np.arange(10,40)\n",
    "\n",
    "a = np.random.randint(10,40,12)\n",
    "#print(a)\n",
    "print()\n",
    "\n",
    "r1 = a.reshape(3,4)\n",
    "print(r1)\n",
    "print()\n",
    "\n",
    "\n",
    "#find min and max column wise\n",
    "\n",
    "min = np.min(r1,axis =0)\n",
    "print(min)\n",
    "print()\n",
    "\n",
    "max = np.max(r1,axis =0)\n",
    "print(max)\n",
    "print()\n",
    "\n",
    "\n",
    "\n",
    "#replace the last column with sum of all the columns\n",
    "#sum = np.sum(r1,axis=0)\n",
    "#print(sum)\n",
    "\n",
    "r1[:,3] = np.sum(r1,axis=1)\n",
    "\n",
    "print(r1)\n",
    "\n",
    "\n"
   ]
  },
  {
   "cell_type": "code",
   "execution_count": 13,
   "metadata": {},
   "outputs": [
    {
     "name": "stdout",
     "output_type": "stream",
     "text": [
      "[[32 35 36 29]\n",
      " [10 31 28 38]\n",
      " [26 38 25 32]]\n",
      "\n",
      "[[nan 35. nan 29.]\n",
      " [nan 31. nan nan]\n",
      " [nan nan 25. nan]]\n",
      "\n",
      "8\n"
     ]
    }
   ],
   "source": [
    "#create a matrix (3x4) R1 of random numbers between 10-40\n",
    "\n",
    "import numpy as np\n",
    "\n",
    "r = np.random.randint(10,40,12)\n",
    "r1 = r.reshape(3,4)\n",
    "print(r1)\n",
    "print()\n",
    "\n",
    "\n",
    "#replace all even elements with nan in R1\n",
    "r2 = np.where((r1%2==0),np.nan,r1)\n",
    "print(r2)\n",
    "print()\n",
    "\n",
    "\n",
    "#count number of nan in R1\n",
    "\n",
    "count = np.count_nonzero(np.isnan(r2))\n",
    "\n",
    "print(count)\n",
    "\n",
    "\n"
   ]
  },
  {
   "cell_type": "code",
   "execution_count": 45,
   "metadata": {},
   "outputs": [
    {
     "name": "stdout",
     "output_type": "stream",
     "text": [
      "[ 1  2  3  4  5  6  7  8  9 11 12 13 14 15 16 17 18 19]\n",
      "[[ 1  2  3]\n",
      " [ 4  5  6]\n",
      " [ 7  8  9]\n",
      " [11 12 13]\n",
      " [14 15 16]\n",
      " [17 18 19]]\n",
      "[[ 1  2  3 11 12 13]\n",
      " [ 4  5  6 14 15 16]\n",
      " [ 7  8  9 17 18 19]]\n"
     ]
    }
   ],
   "source": [
    "a1 = np.arange(1,10).reshape(3,3)\n",
    "a2 = np.arange(11,20).reshape(3,3)\n",
    "a3 = np.append(a1,a2)\n",
    "print(a3)\n",
    "a3 = np.append(a1,a2, axis = 0)\n",
    "print(a3)\n",
    "a3 = np.append(a1,a2, axis = 1)\n",
    "print(a3)"
   ]
  },
  {
   "cell_type": "code",
   "execution_count": null,
   "metadata": {},
   "outputs": [],
   "source": []
  },
  {
   "cell_type": "code",
   "execution_count": null,
   "metadata": {},
   "outputs": [],
   "source": []
  },
  {
   "cell_type": "code",
   "execution_count": null,
   "metadata": {},
   "outputs": [],
   "source": []
  },
  {
   "cell_type": "code",
   "execution_count": null,
   "metadata": {},
   "outputs": [],
   "source": []
  }
 ],
 "metadata": {
  "kernelspec": {
   "display_name": "Python 3",
   "language": "python",
   "name": "python3"
  },
  "language_info": {
   "codemirror_mode": {
    "name": "ipython",
    "version": 3
   },
   "file_extension": ".py",
   "mimetype": "text/x-python",
   "name": "python",
   "nbconvert_exporter": "python",
   "pygments_lexer": "ipython3",
   "version": "3.7.6"
  }
 },
 "nbformat": 4,
 "nbformat_minor": 4
}
