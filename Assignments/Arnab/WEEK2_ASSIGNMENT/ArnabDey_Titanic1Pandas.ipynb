{
 "cells": [
  {
   "cell_type": "markdown",
   "metadata": {},
   "source": [
    "|Variable|Definition|Key|\n",
    "|---|---|---|\n",
    "|survival|Survival|0 = No, 1 = Yes|\n",
    "|pclass|Ticket class|1 = 1st, 2 = 2nd, 3 = 3rd|\n",
    "|gender|gender ||\n",
    "|Age |Age in years| |\n",
    "|sibsp |number of siblings / spouses aboard|\t|\n",
    "|parch |number of parents / children aboard| |\n",
    "|ticket|Ticket number ||\n",
    "|fare | fare| \t|\n",
    "|cabin |Cabin number|\t|\n",
    "|embarked|Port of Embarkation|C = Cherbourg, Q = Queenstown, S = Southampton|\n",
    "|boat | Lifeboat||\n",
    "|body | Body Identification Number||\n",
    "|home.dest| Home/destination||"
   ]
  },
  {
   "cell_type": "markdown",
   "metadata": {},
   "source": []
  },
  {
   "cell_type": "markdown",
   "metadata": {},
   "source": [
    "- Read data and describe it\n",
    "- Find columns with missingdata\n",
    "- Print shape of dataset\n",
    "- drop columns with more than 25% missing data\n",
    "- drop columns having independent values(which do not affect the survival rate).\n",
    "\n",
    "\n",
    "- check data types of all columns\n",
    "- convert price to numeric\n",
    "- find columns still having missing/na values and also count of missing data\n",
    "- fill na with mean for fare and age column column.\n",
    "- drop na values for embarked column.\n",
    "- dump the dataframe to a csv file 'titanic_filtered.csv'.\n",
    "\n",
    "\n",
    "- for surviced column replace 0 with D and 1 with A\n",
    "- find the frequency of different values in survived column\n",
    "- group by gender and survived and see the counts in each category\n",
    "- find different pclass and no of people in each class\n",
    "\n",
    "- find top 5 people with highest values of age. Count no of male and females in the top 5\n",
    "- find max age male and female who survived\n",
    "- get average age by gender\n",
    "- get average age by people survived vs not-survived"
   ]
  },
  {
   "cell_type": "code",
   "execution_count": 1,
   "metadata": {},
   "outputs": [],
   "source": [
    "import numpy as np\n",
    "import pandas as pd"
   ]
  },
  {
   "cell_type": "code",
   "execution_count": 2,
   "metadata": {},
   "outputs": [
    {
     "name": "stdout",
     "output_type": "stream",
     "text": [
      "         Unnamed: 0       pclass     survived                  name gender  \\\n",
      "count   1309.000000  1309.000000  1309.000000                  1309   1309   \n",
      "unique          NaN          NaN          NaN                  1307      2   \n",
      "top             NaN          NaN          NaN  Connolly, Miss. Kate   male   \n",
      "freq            NaN          NaN          NaN                     2    843   \n",
      "mean     654.000000     2.294882     0.381971                   NaN    NaN   \n",
      "std      378.020061     0.837836     0.486055                   NaN    NaN   \n",
      "min        0.000000     1.000000     0.000000                   NaN    NaN   \n",
      "25%      327.000000     2.000000     0.000000                   NaN    NaN   \n",
      "50%      654.000000     3.000000     0.000000                   NaN    NaN   \n",
      "75%      981.000000     3.000000     1.000000                   NaN    NaN   \n",
      "max     1308.000000     3.000000     1.000000                   NaN    NaN   \n",
      "\n",
      "                age        sibsp        parch    ticket    fare        cabin  \\\n",
      "count   1046.000000  1309.000000  1309.000000      1309    1308          295   \n",
      "unique          NaN          NaN          NaN       929     263          186   \n",
      "top             NaN          NaN          NaN  CA. 2343  $8.05   C23 C25 C27   \n",
      "freq            NaN          NaN          NaN        11      60            6   \n",
      "mean      29.881135     0.498854     0.385027       NaN     NaN          NaN   \n",
      "std       14.413500     1.041658     0.865560       NaN     NaN          NaN   \n",
      "min        0.166700     0.000000     0.000000       NaN     NaN          NaN   \n",
      "25%       21.000000     0.000000     0.000000       NaN     NaN          NaN   \n",
      "50%       28.000000     0.000000     0.000000       NaN     NaN          NaN   \n",
      "75%       39.000000     1.000000     0.000000       NaN     NaN          NaN   \n",
      "max       80.000000     8.000000     9.000000       NaN     NaN          NaN   \n",
      "\n",
      "       embarked boat        body     home.dest  \n",
      "count      1307  486  121.000000           745  \n",
      "unique        3   27         NaN           369  \n",
      "top           S   13         NaN  New York, NY  \n",
      "freq        914   39         NaN            64  \n",
      "mean        NaN  NaN  160.809917           NaN  \n",
      "std         NaN  NaN   97.696922           NaN  \n",
      "min         NaN  NaN    1.000000           NaN  \n",
      "25%         NaN  NaN   72.000000           NaN  \n",
      "50%         NaN  NaN  155.000000           NaN  \n",
      "75%         NaN  NaN  256.000000           NaN  \n",
      "max         NaN  NaN  328.000000           NaN  \n"
     ]
    }
   ],
   "source": [
    "# Read data and describe it\n",
    "\n",
    "df = pd.read_csv('titanic_dataset.csv')\n",
    "print(df.describe(include='all'))"
   ]
  },
  {
   "cell_type": "code",
   "execution_count": 4,
   "metadata": {},
   "outputs": [
    {
     "name": "stdout",
     "output_type": "stream",
     "text": [
      "Index(['age', 'fare', 'cabin', 'embarked', 'boat', 'body', 'home.dest'], dtype='object')\n"
     ]
    }
   ],
   "source": [
    "# Find columns with missingdata\n",
    "\n",
    "print(df.columns[df.isnull().any()])"
   ]
  },
  {
   "cell_type": "code",
   "execution_count": 5,
   "metadata": {},
   "outputs": [
    {
     "name": "stdout",
     "output_type": "stream",
     "text": [
      "(1309, 15)\n"
     ]
    }
   ],
   "source": [
    "# Print shape of dataset\n",
    "\n",
    "print(df.shape)"
   ]
  },
  {
   "cell_type": "code",
   "execution_count": 6,
   "metadata": {},
   "outputs": [
    {
     "name": "stdout",
     "output_type": "stream",
     "text": [
      "List of columns with more than 25% missing date: ['cabin', 'boat', 'body', 'home.dest']\n",
      "After drop columns with more than 25% missing data:\n",
      "      Unnamed: 0  pclass  survived  \\\n",
      "0              0       1         1   \n",
      "1              1       1         1   \n",
      "2              2       1         0   \n",
      "3              3       1         0   \n",
      "4              4       1         0   \n",
      "...          ...     ...       ...   \n",
      "1304        1304       3         0   \n",
      "1305        1305       3         0   \n",
      "1306        1306       3         0   \n",
      "1307        1307       3         0   \n",
      "1308        1308       3         0   \n",
      "\n",
      "                                                 name  gender      age  sibsp  \\\n",
      "0                       Allen, Miss. Elisabeth Walton  female  29.0000      0   \n",
      "1                      Allison, Master. Hudson Trevor    male   0.9167      1   \n",
      "2                        Allison, Miss. Helen Loraine  female   2.0000      1   \n",
      "3                Allison, Mr. Hudson Joshua Creighton    male  30.0000      1   \n",
      "4     Allison, Mrs. Hudson J C (Bessie Waldo Daniels)  female  25.0000      1   \n",
      "...                                               ...     ...      ...    ...   \n",
      "1304                             Zabour, Miss. Hileni  female  14.5000      1   \n",
      "1305                            Zabour, Miss. Thamine  female      NaN      1   \n",
      "1306                        Zakarian, Mr. Mapriededer    male  26.5000      0   \n",
      "1307                              Zakarian, Mr. Ortin    male  27.0000      0   \n",
      "1308                               Zimmerman, Mr. Leo    male  29.0000      0   \n",
      "\n",
      "      parch  ticket      fare embarked  \n",
      "0         0   24160  $211.34         S  \n",
      "1         2  113781  $151.55         S  \n",
      "2         2  113781  $151.55         S  \n",
      "3         2  113781  $151.55         S  \n",
      "4         2  113781  $151.55         S  \n",
      "...     ...     ...       ...      ...  \n",
      "1304      0    2665   $14.45         C  \n",
      "1305      0    2665   $14.45         C  \n",
      "1306      0    2656    $7.23         C  \n",
      "1307      0    2670    $7.23         C  \n",
      "1308      0  315082    $7.88         S  \n",
      "\n",
      "[1309 rows x 11 columns]\n"
     ]
    }
   ],
   "source": [
    "# drop columns with more than 25% missing data\n",
    "\n",
    "print('List of columns with more than 25% missing date:',list(df.columns[df.isnull().mean() > 0.25]))\n",
    "df.drop(list(df.columns[df.isnull().mean() > 0.25]), axis=1, inplace=True)\n",
    "print('After drop columns with more than 25% missing data:',df,sep='\\n')"
   ]
  },
  {
   "cell_type": "code",
   "execution_count": 7,
   "metadata": {},
   "outputs": [
    {
     "name": "stdout",
     "output_type": "stream",
     "text": [
      "After drop columns having independent values(which do not affect the survival rate):\n",
      "      Unnamed: 0  pclass  survived  gender      age  sibsp  parch      fare  \\\n",
      "0              0       1         1  female  29.0000      0      0  $211.34    \n",
      "1              1       1         1    male   0.9167      1      2  $151.55    \n",
      "2              2       1         0  female   2.0000      1      2  $151.55    \n",
      "3              3       1         0    male  30.0000      1      2  $151.55    \n",
      "4              4       1         0  female  25.0000      1      2  $151.55    \n",
      "...          ...     ...       ...     ...      ...    ...    ...       ...   \n",
      "1304        1304       3         0  female  14.5000      1      0   $14.45    \n",
      "1305        1305       3         0  female      NaN      1      0   $14.45    \n",
      "1306        1306       3         0    male  26.5000      0      0    $7.23    \n",
      "1307        1307       3         0    male  27.0000      0      0    $7.23    \n",
      "1308        1308       3         0    male  29.0000      0      0    $7.88    \n",
      "\n",
      "     embarked  \n",
      "0           S  \n",
      "1           S  \n",
      "2           S  \n",
      "3           S  \n",
      "4           S  \n",
      "...       ...  \n",
      "1304        C  \n",
      "1305        C  \n",
      "1306        C  \n",
      "1307        C  \n",
      "1308        S  \n",
      "\n",
      "[1309 rows x 9 columns]\n"
     ]
    }
   ],
   "source": [
    "# drop columns having independent values(which do not affect the survival rate).\n",
    "\n",
    "df.drop(['name','ticket'], axis=1, inplace=True)\n",
    "print('After drop columns having independent values(which do not affect the survival rate):',df,sep='\\n')"
   ]
  },
  {
   "cell_type": "code",
   "execution_count": 8,
   "metadata": {},
   "outputs": [
    {
     "name": "stdout",
     "output_type": "stream",
     "text": [
      "Unnamed: 0      int64\n",
      "pclass          int64\n",
      "survived        int64\n",
      "gender         object\n",
      "age           float64\n",
      "sibsp           int64\n",
      "parch           int64\n",
      "fare           object\n",
      "embarked       object\n",
      "dtype: object\n"
     ]
    }
   ],
   "source": [
    "# check data types of all columns\n",
    "\n",
    "print(df.dtypes)"
   ]
  },
  {
   "cell_type": "code",
   "execution_count": 9,
   "metadata": {},
   "outputs": [
    {
     "name": "stdout",
     "output_type": "stream",
     "text": [
      "0       211.34\n",
      "1       151.55\n",
      "2       151.55\n",
      "3       151.55\n",
      "4       151.55\n",
      "         ...  \n",
      "1304     14.45\n",
      "1305     14.45\n",
      "1306      7.23\n",
      "1307      7.23\n",
      "1308      7.88\n",
      "Name: fare, Length: 1309, dtype: float64\n"
     ]
    }
   ],
   "source": [
    "# convert price to numeric\n",
    "\n",
    "df['fare'] = df['fare'].replace('[\\$,]', '', regex=True).astype(float)\n",
    "print(df['fare'])"
   ]
  },
  {
   "cell_type": "code",
   "execution_count": 10,
   "metadata": {},
   "outputs": [
    {
     "name": "stdout",
     "output_type": "stream",
     "text": [
      "Unnamed: 0      0\n",
      "pclass          0\n",
      "survived        0\n",
      "gender          0\n",
      "age           263\n",
      "sibsp           0\n",
      "parch           0\n",
      "fare            1\n",
      "embarked        2\n",
      "dtype: int64\n"
     ]
    }
   ],
   "source": [
    "# find columns still having missing/na values and also count of missing data\n",
    "\n",
    "print(df.isnull().sum())"
   ]
  },
  {
   "cell_type": "code",
   "execution_count": 11,
   "metadata": {},
   "outputs": [
    {
     "name": "stdout",
     "output_type": "stream",
     "text": [
      "      Unnamed: 0  pclass  survived  gender        age  sibsp  parch    fare  \\\n",
      "0              0       1         1  female  29.000000      0      0  211.34   \n",
      "1              1       1         1    male   0.916700      1      2  151.55   \n",
      "2              2       1         0  female   2.000000      1      2  151.55   \n",
      "3              3       1         0    male  30.000000      1      2  151.55   \n",
      "4              4       1         0  female  25.000000      1      2  151.55   \n",
      "...          ...     ...       ...     ...        ...    ...    ...     ...   \n",
      "1304        1304       3         0  female  14.500000      1      0   14.45   \n",
      "1305        1305       3         0  female  29.881135      1      0   14.45   \n",
      "1306        1306       3         0    male  26.500000      0      0    7.23   \n",
      "1307        1307       3         0    male  27.000000      0      0    7.23   \n",
      "1308        1308       3         0    male  29.000000      0      0    7.88   \n",
      "\n",
      "     embarked  \n",
      "0           S  \n",
      "1           S  \n",
      "2           S  \n",
      "3           S  \n",
      "4           S  \n",
      "...       ...  \n",
      "1304        C  \n",
      "1305        C  \n",
      "1306        C  \n",
      "1307        C  \n",
      "1308        S  \n",
      "\n",
      "[1309 rows x 9 columns]\n"
     ]
    }
   ],
   "source": [
    "# fill na with mean for fare and age column column.\n",
    "\n",
    "df.fillna(value={'fare':df['fare'].mean(),'age':df['age'].mean()}, inplace=True)\n",
    "print(df)"
   ]
  },
  {
   "cell_type": "code",
   "execution_count": 12,
   "metadata": {},
   "outputs": [
    {
     "name": "stdout",
     "output_type": "stream",
     "text": [
      "      Unnamed: 0  pclass  survived  gender        age  sibsp  parch    fare  \\\n",
      "0              0       1         1  female  29.000000      0      0  211.34   \n",
      "1              1       1         1    male   0.916700      1      2  151.55   \n",
      "2              2       1         0  female   2.000000      1      2  151.55   \n",
      "3              3       1         0    male  30.000000      1      2  151.55   \n",
      "4              4       1         0  female  25.000000      1      2  151.55   \n",
      "...          ...     ...       ...     ...        ...    ...    ...     ...   \n",
      "1304        1304       3         0  female  14.500000      1      0   14.45   \n",
      "1305        1305       3         0  female  29.881135      1      0   14.45   \n",
      "1306        1306       3         0    male  26.500000      0      0    7.23   \n",
      "1307        1307       3         0    male  27.000000      0      0    7.23   \n",
      "1308        1308       3         0    male  29.000000      0      0    7.88   \n",
      "\n",
      "     embarked  \n",
      "0           S  \n",
      "1           S  \n",
      "2           S  \n",
      "3           S  \n",
      "4           S  \n",
      "...       ...  \n",
      "1304        C  \n",
      "1305        C  \n",
      "1306        C  \n",
      "1307        C  \n",
      "1308        S  \n",
      "\n",
      "[1307 rows x 9 columns]\n"
     ]
    }
   ],
   "source": [
    "# drop na values for embarked column.\n",
    "\n",
    "df.dropna(subset=['embarked'], inplace=True)\n",
    "print(df)"
   ]
  },
  {
   "cell_type": "code",
   "execution_count": 13,
   "metadata": {},
   "outputs": [],
   "source": [
    "# dump the dataframe to a csv file 'titanic_filtered.csv'.\n",
    "\n",
    "df.to_csv('titanic_filtered_1.csv', index=False)"
   ]
  },
  {
   "cell_type": "code",
   "execution_count": 14,
   "metadata": {},
   "outputs": [
    {
     "name": "stdout",
     "output_type": "stream",
     "text": [
      "      Unnamed: 0  pclass survived  gender        age  sibsp  parch    fare  \\\n",
      "0              0       1        A  female  29.000000      0      0  211.34   \n",
      "1              1       1        A    male   0.916700      1      2  151.55   \n",
      "2              2       1        D  female   2.000000      1      2  151.55   \n",
      "3              3       1        D    male  30.000000      1      2  151.55   \n",
      "4              4       1        D  female  25.000000      1      2  151.55   \n",
      "...          ...     ...      ...     ...        ...    ...    ...     ...   \n",
      "1304        1304       3        D  female  14.500000      1      0   14.45   \n",
      "1305        1305       3        D  female  29.881135      1      0   14.45   \n",
      "1306        1306       3        D    male  26.500000      0      0    7.23   \n",
      "1307        1307       3        D    male  27.000000      0      0    7.23   \n",
      "1308        1308       3        D    male  29.000000      0      0    7.88   \n",
      "\n",
      "     embarked  \n",
      "0           S  \n",
      "1           S  \n",
      "2           S  \n",
      "3           S  \n",
      "4           S  \n",
      "...       ...  \n",
      "1304        C  \n",
      "1305        C  \n",
      "1306        C  \n",
      "1307        C  \n",
      "1308        S  \n",
      "\n",
      "[1307 rows x 9 columns]\n"
     ]
    }
   ],
   "source": [
    "# for surviced column replace 0 with D and 1 with A\n",
    "\n",
    "mapping = {0: 'D', 1: 'A'}\n",
    "df.replace({'survived': {0: 'D', 1: 'A'}}, inplace=True)\n",
    "print(df)"
   ]
  },
  {
   "cell_type": "code",
   "execution_count": 15,
   "metadata": {},
   "outputs": [
    {
     "name": "stdout",
     "output_type": "stream",
     "text": [
      "D    809\n",
      "A    498\n",
      "Name: survived, dtype: int64\n"
     ]
    }
   ],
   "source": [
    "# find the frequency of different values in survived column\n",
    "\n",
    "print(df.survived.value_counts())"
   ]
  },
  {
   "cell_type": "code",
   "execution_count": 16,
   "metadata": {},
   "outputs": [
    {
     "name": "stdout",
     "output_type": "stream",
     "text": [
      "   gender survived  counts\n",
      "0  female        A     337\n",
      "1  female        D     127\n",
      "2    male        A     161\n",
      "3    male        D     682\n"
     ]
    }
   ],
   "source": [
    "# group by gender and survived and see the counts in each category\n",
    "\n",
    "grp = df.groupby(by=[\"gender\",\"survived\"])\n",
    "print(grp.size().reset_index(name='counts'))"
   ]
  },
  {
   "cell_type": "code",
   "execution_count": 17,
   "metadata": {},
   "outputs": [
    {
     "name": "stdout",
     "output_type": "stream",
     "text": [
      "3    709\n",
      "1    321\n",
      "2    277\n",
      "Name: pclass, dtype: int64\n"
     ]
    }
   ],
   "source": [
    "# find different pclass and no of people in each class\n",
    "\n",
    "print(df.pclass.value_counts())"
   ]
  },
  {
   "cell_type": "code",
   "execution_count": 18,
   "metadata": {},
   "outputs": [
    {
     "name": "stdout",
     "output_type": "stream",
     "text": [
      "      Unnamed: 0  pclass survived  gender   age  sibsp  parch   fare embarked\n",
      "14            14       1        A    male  80.0      0      0  30.00        S\n",
      "61            61       1        A  female  76.0      1      0  78.85        S\n",
      "1235        1235       3        D    male  74.0      0      0   7.78        S\n",
      "135          135       1        D    male  71.0      0      0  34.65        C\n",
      "9              9       1        D    male  71.0      0      0  49.50        C\n",
      "   gender  counts\n",
      "0  female       1\n",
      "1    male       4\n"
     ]
    }
   ],
   "source": [
    "# find top 5 people with highest values of age. Count no of male and females in the top 5\n",
    "\n",
    "print(df.sort_values(by=['age'], ascending=False).head())\n",
    "print(df.sort_values(by=['age'], ascending=False).head().groupby(by=['gender']).size().reset_index(name='counts'))"
   ]
  },
  {
   "cell_type": "code",
   "execution_count": 19,
   "metadata": {},
   "outputs": [
    {
     "name": "stdout",
     "output_type": "stream",
     "text": [
      "gender\n",
      "female    76.0\n",
      "male      80.0\n",
      "Name: age, dtype: float64\n"
     ]
    }
   ],
   "source": [
    "# find max age male and female who survived\n",
    "\n",
    "print(df[df.survived == 'A'].groupby(by=['gender']).age.max())"
   ]
  },
  {
   "cell_type": "code",
   "execution_count": 20,
   "metadata": {},
   "outputs": [
    {
     "name": "stdout",
     "output_type": "stream",
     "text": [
      "gender\n",
      "female    28.795931\n",
      "male      30.430716\n",
      "Name: age, dtype: float64\n"
     ]
    }
   ],
   "source": [
    "# get average age by gender\n",
    "\n",
    "print(df.groupby(by=['gender']).age.mean())"
   ]
  },
  {
   "cell_type": "code",
   "execution_count": 21,
   "metadata": {},
   "outputs": [
    {
     "name": "stdout",
     "output_type": "stream",
     "text": [
      "survived\n",
      "A    28.974711\n",
      "D    30.389368\n",
      "Name: age, dtype: float64\n"
     ]
    }
   ],
   "source": [
    "# get average age by people survived vs not-survived\n",
    "\n",
    "print(df.groupby(by=['survived']).age.mean())"
   ]
  }
 ],
 "metadata": {
  "kernelspec": {
   "display_name": "Python 3",
   "language": "python",
   "name": "python3"
  },
  "language_info": {
   "codemirror_mode": {
    "name": "ipython",
    "version": 3
   },
   "file_extension": ".py",
   "mimetype": "text/x-python",
   "name": "python",
   "nbconvert_exporter": "python",
   "pygments_lexer": "ipython3",
   "version": "3.7.6"
  }
 },
 "nbformat": 4,
 "nbformat_minor": 2
}
