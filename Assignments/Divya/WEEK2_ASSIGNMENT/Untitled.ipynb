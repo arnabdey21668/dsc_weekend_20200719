{
 "cells": [
  {
   "cell_type": "code",
   "execution_count": 31,
   "metadata": {},
   "outputs": [
    {
     "ename": "SyntaxError",
     "evalue": "invalid syntax (<ipython-input-31-aab6b82fcea7>, line 4)",
     "output_type": "error",
     "traceback": [
      "\u001b[1;36m  File \u001b[1;32m\"<ipython-input-31-aab6b82fcea7>\"\u001b[1;36m, line \u001b[1;32m4\u001b[0m\n\u001b[1;33m    a2 =np.array( [[0 0 0],\u001b[0m\n\u001b[1;37m                      ^\u001b[0m\n\u001b[1;31mSyntaxError\u001b[0m\u001b[1;31m:\u001b[0m invalid syntax\n"
     ]
    }
   ],
   "source": [
    "import numpy as np \n",
    "a1 = np.empty(shape=(1,3))\n",
    "a1 = ([1 , 2 , 3])\n",
    "a2 =np.array( [[0 0 0],\n",
    "            [0 0 0],\n",
    "           [ 0 0 0]\n",
    "     ])\n",
    "a2+a1"
   ]
  }
 ],
 "metadata": {
  "kernelspec": {
   "display_name": "Python 3",
   "language": "python",
   "name": "python3"
  },
  "language_info": {
   "codemirror_mode": {
    "name": "ipython",
    "version": 3
   },
   "file_extension": ".py",
   "mimetype": "text/x-python",
   "name": "python",
   "nbconvert_exporter": "python",
   "pygments_lexer": "ipython3",
   "version": "3.7.6"
  }
 },
 "nbformat": 4,
 "nbformat_minor": 4
}
