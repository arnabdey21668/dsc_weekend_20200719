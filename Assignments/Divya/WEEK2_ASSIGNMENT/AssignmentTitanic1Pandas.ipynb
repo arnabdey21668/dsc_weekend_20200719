{
 "cells": [
  {
   "cell_type": "markdown",
   "metadata": {},
   "source": [
    "|Variable|Definition|Key|\n",
    "|---|---|---|\n",
    "|survival|Survival|0 = No, 1 = Yes|\n",
    "|pclass|Ticket class|1 = 1st, 2 = 2nd, 3 = 3rd|\n",
    "|gender|gender ||\n",
    "|Age |Age in years| |\n",
    "|sibsp |number of siblings / spouses aboard|\t|\n",
    "|parch |number of parents / children aboard| |\n",
    "|ticket|Ticket number ||\n",
    "|fare | fare| \t|\n",
    "|cabin |Cabin number|\t|\n",
    "|embarked|Port of Embarkation|C = Cherbourg, Q = Queenstown, S = Southampton|\n",
    "|boat | Lifeboat||\n",
    "|body | Body Identification Number||\n",
    "|home.dest| Home/destination||"
   ]
  },
  {
   "cell_type": "markdown",
   "metadata": {},
   "source": []
  },
  {
   "cell_type": "markdown",
   "metadata": {},
   "source": [
    "- Read data and describe it\n",
    "- Find columns with missingdata\n",
    "- Print shape of dataset\n",
    "- drop columns with more than 25% missing data\n",
    "- drop columns having independent values(which do not affect the survival rate).\n",
    "\n",
    "\n",
    "- check data types of all columns\n",
    "- convert price to numeric\n",
    "- find columns still having missing/na values and also count of missing data\n",
    "- fill na with mean for fare and age column column.\n",
    "- drop na values for embarked column.\n",
    "- dump the dataframe to a csv file 'titanic_filtered.csv'.\n",
    "\n",
    "\n",
    "- for surviced column replace 0 with D and 1 with A\n",
    "- find the frequency of different values in survived column\n",
    "- group by gender and survived and see the counts in each category\n",
    "- find different pclass and no of people in each class\n",
    "\n",
    "- find top 5 people with highest values of age. Count no of male and females in the top 5\n",
    "- find max age male and female who survived\n",
    "- get average age by gender\n",
    "- get average age by people survived vs not-survived"
   ]
  },
  {
   "cell_type": "code",
   "execution_count": 320,
   "metadata": {},
   "outputs": [],
   "source": [
    "import numpy as np\n",
    "import pandas as pd\n"
   ]
  },
  {
   "cell_type": "code",
   "execution_count": 321,
   "metadata": {
    "scrolled": true
   },
   "outputs": [
    {
     "data": {
      "text/html": [
       "<div>\n",
       "<style scoped>\n",
       "    .dataframe tbody tr th:only-of-type {\n",
       "        vertical-align: middle;\n",
       "    }\n",
       "\n",
       "    .dataframe tbody tr th {\n",
       "        vertical-align: top;\n",
       "    }\n",
       "\n",
       "    .dataframe thead th {\n",
       "        text-align: right;\n",
       "    }\n",
       "</style>\n",
       "<table border=\"1\" class=\"dataframe\">\n",
       "  <thead>\n",
       "    <tr style=\"text-align: right;\">\n",
       "      <th></th>\n",
       "      <th>Unnamed: 0</th>\n",
       "      <th>pclass</th>\n",
       "      <th>survived</th>\n",
       "      <th>age</th>\n",
       "      <th>sibsp</th>\n",
       "      <th>parch</th>\n",
       "      <th>body</th>\n",
       "    </tr>\n",
       "  </thead>\n",
       "  <tbody>\n",
       "    <tr>\n",
       "      <th>count</th>\n",
       "      <td>1309.000000</td>\n",
       "      <td>1309.000000</td>\n",
       "      <td>1309.000000</td>\n",
       "      <td>1046.000000</td>\n",
       "      <td>1309.000000</td>\n",
       "      <td>1309.000000</td>\n",
       "      <td>121.000000</td>\n",
       "    </tr>\n",
       "    <tr>\n",
       "      <th>mean</th>\n",
       "      <td>654.000000</td>\n",
       "      <td>2.294882</td>\n",
       "      <td>0.381971</td>\n",
       "      <td>29.881135</td>\n",
       "      <td>0.498854</td>\n",
       "      <td>0.385027</td>\n",
       "      <td>160.809917</td>\n",
       "    </tr>\n",
       "    <tr>\n",
       "      <th>std</th>\n",
       "      <td>378.020061</td>\n",
       "      <td>0.837836</td>\n",
       "      <td>0.486055</td>\n",
       "      <td>14.413500</td>\n",
       "      <td>1.041658</td>\n",
       "      <td>0.865560</td>\n",
       "      <td>97.696922</td>\n",
       "    </tr>\n",
       "    <tr>\n",
       "      <th>min</th>\n",
       "      <td>0.000000</td>\n",
       "      <td>1.000000</td>\n",
       "      <td>0.000000</td>\n",
       "      <td>0.166700</td>\n",
       "      <td>0.000000</td>\n",
       "      <td>0.000000</td>\n",
       "      <td>1.000000</td>\n",
       "    </tr>\n",
       "    <tr>\n",
       "      <th>25%</th>\n",
       "      <td>327.000000</td>\n",
       "      <td>2.000000</td>\n",
       "      <td>0.000000</td>\n",
       "      <td>21.000000</td>\n",
       "      <td>0.000000</td>\n",
       "      <td>0.000000</td>\n",
       "      <td>72.000000</td>\n",
       "    </tr>\n",
       "    <tr>\n",
       "      <th>50%</th>\n",
       "      <td>654.000000</td>\n",
       "      <td>3.000000</td>\n",
       "      <td>0.000000</td>\n",
       "      <td>28.000000</td>\n",
       "      <td>0.000000</td>\n",
       "      <td>0.000000</td>\n",
       "      <td>155.000000</td>\n",
       "    </tr>\n",
       "    <tr>\n",
       "      <th>75%</th>\n",
       "      <td>981.000000</td>\n",
       "      <td>3.000000</td>\n",
       "      <td>1.000000</td>\n",
       "      <td>39.000000</td>\n",
       "      <td>1.000000</td>\n",
       "      <td>0.000000</td>\n",
       "      <td>256.000000</td>\n",
       "    </tr>\n",
       "    <tr>\n",
       "      <th>max</th>\n",
       "      <td>1308.000000</td>\n",
       "      <td>3.000000</td>\n",
       "      <td>1.000000</td>\n",
       "      <td>80.000000</td>\n",
       "      <td>8.000000</td>\n",
       "      <td>9.000000</td>\n",
       "      <td>328.000000</td>\n",
       "    </tr>\n",
       "  </tbody>\n",
       "</table>\n",
       "</div>"
      ],
      "text/plain": [
       "        Unnamed: 0       pclass     survived          age        sibsp  \\\n",
       "count  1309.000000  1309.000000  1309.000000  1046.000000  1309.000000   \n",
       "mean    654.000000     2.294882     0.381971    29.881135     0.498854   \n",
       "std     378.020061     0.837836     0.486055    14.413500     1.041658   \n",
       "min       0.000000     1.000000     0.000000     0.166700     0.000000   \n",
       "25%     327.000000     2.000000     0.000000    21.000000     0.000000   \n",
       "50%     654.000000     3.000000     0.000000    28.000000     0.000000   \n",
       "75%     981.000000     3.000000     1.000000    39.000000     1.000000   \n",
       "max    1308.000000     3.000000     1.000000    80.000000     8.000000   \n",
       "\n",
       "             parch        body  \n",
       "count  1309.000000  121.000000  \n",
       "mean      0.385027  160.809917  \n",
       "std       0.865560   97.696922  \n",
       "min       0.000000    1.000000  \n",
       "25%       0.000000   72.000000  \n",
       "50%       0.000000  155.000000  \n",
       "75%       0.000000  256.000000  \n",
       "max       9.000000  328.000000  "
      ]
     },
     "execution_count": 321,
     "metadata": {},
     "output_type": "execute_result"
    }
   ],
   "source": [
    "# Read data and describe it\n",
    "titanic_df = pd.read_csv('titanic_dataset.csv')\n",
    "titanic_df.describe()\n"
   ]
  },
  {
   "cell_type": "code",
   "execution_count": 322,
   "metadata": {
    "scrolled": true
   },
   "outputs": [
    {
     "name": "stdout",
     "output_type": "stream",
     "text": [
      "      Unnamed: 0  pclass  survived   name  gender    age  sibsp  parch  \\\n",
      "0          False   False     False  False   False  False  False  False   \n",
      "1          False   False     False  False   False  False  False  False   \n",
      "2          False   False     False  False   False  False  False  False   \n",
      "3          False   False     False  False   False  False  False  False   \n",
      "4          False   False     False  False   False  False  False  False   \n",
      "...          ...     ...       ...    ...     ...    ...    ...    ...   \n",
      "1304       False   False     False  False   False  False  False  False   \n",
      "1305       False   False     False  False   False   True  False  False   \n",
      "1306       False   False     False  False   False  False  False  False   \n",
      "1307       False   False     False  False   False  False  False  False   \n",
      "1308       False   False     False  False   False  False  False  False   \n",
      "\n",
      "      ticket   fare  cabin  embarked   boat   body  home.dest  \n",
      "0      False  False  False     False  False   True      False  \n",
      "1      False  False  False     False  False   True      False  \n",
      "2      False  False  False     False   True   True      False  \n",
      "3      False  False  False     False   True  False      False  \n",
      "4      False  False  False     False   True   True      False  \n",
      "...      ...    ...    ...       ...    ...    ...        ...  \n",
      "1304   False  False   True     False   True  False       True  \n",
      "1305   False  False   True     False   True   True       True  \n",
      "1306   False  False   True     False   True  False       True  \n",
      "1307   False  False   True     False   True   True       True  \n",
      "1308   False  False   True     False   True   True       True  \n",
      "\n",
      "[1309 rows x 15 columns]\n",
      "\n",
      "Unnamed: 0    False\n",
      "pclass        False\n",
      "survived      False\n",
      "name          False\n",
      "gender        False\n",
      "age            True\n",
      "sibsp         False\n",
      "parch         False\n",
      "ticket        False\n",
      "fare           True\n",
      "cabin          True\n",
      "embarked       True\n",
      "boat           True\n",
      "body           True\n",
      "home.dest      True\n",
      "dtype: bool\n",
      "\n"
     ]
    },
    {
     "data": {
      "text/plain": [
       "Index(['age', 'fare', 'cabin', 'embarked', 'boat', 'body', 'home.dest'], dtype='object')"
      ]
     },
     "execution_count": 322,
     "metadata": {},
     "output_type": "execute_result"
    }
   ],
   "source": [
    "# Find columns with missingdata\n",
    "mask = titanic_df.isnull()\n",
    "print(mask)\n",
    "print()\n",
    "print(mask.any())\n",
    "print()\n",
    "titanic_df.columns[mask.any()]"
   ]
  },
  {
   "cell_type": "code",
   "execution_count": 323,
   "metadata": {
    "scrolled": true
   },
   "outputs": [
    {
     "data": {
      "text/plain": [
       "(1309, 15)"
      ]
     },
     "execution_count": 323,
     "metadata": {},
     "output_type": "execute_result"
    }
   ],
   "source": [
    "# Print shape of dataset\n",
    "titanic_df.shape\n"
   ]
  },
  {
   "cell_type": "code",
   "execution_count": 324,
   "metadata": {
    "scrolled": false
   },
   "outputs": [
    {
     "name": "stdout",
     "output_type": "stream",
     "text": [
      "<class 'pandas.core.frame.DataFrame'>\n",
      "RangeIndex: 1309 entries, 0 to 1308\n",
      "Data columns (total 15 columns):\n",
      " #   Column      Non-Null Count  Dtype  \n",
      "---  ------      --------------  -----  \n",
      " 0   Unnamed: 0  1309 non-null   int64  \n",
      " 1   pclass      1309 non-null   int64  \n",
      " 2   survived    1309 non-null   int64  \n",
      " 3   name        1309 non-null   object \n",
      " 4   gender      1309 non-null   object \n",
      " 5   age         1046 non-null   float64\n",
      " 6   sibsp       1309 non-null   int64  \n",
      " 7   parch       1309 non-null   int64  \n",
      " 8   ticket      1309 non-null   object \n",
      " 9   fare        1308 non-null   object \n",
      " 10  cabin       295 non-null    object \n",
      " 11  embarked    1307 non-null   object \n",
      " 12  boat        486 non-null    object \n",
      " 13  body        121 non-null    float64\n",
      " 14  home.dest   745 non-null    object \n",
      "dtypes: float64(2), int64(5), object(8)\n",
      "memory usage: 153.5+ KB\n",
      "Original titanic_df info /n None\n",
      "\n",
      "Columns with more than 25% missing data \n",
      " Index(['cabin', 'boat', 'body', 'home.dest'], dtype='object')\n",
      "\n",
      "\n",
      "<class 'pandas.core.frame.DataFrame'>\n",
      "RangeIndex: 1309 entries, 0 to 1308\n",
      "Data columns (total 11 columns):\n",
      " #   Column      Non-Null Count  Dtype  \n",
      "---  ------      --------------  -----  \n",
      " 0   Unnamed: 0  1309 non-null   int64  \n",
      " 1   pclass      1309 non-null   int64  \n",
      " 2   survived    1309 non-null   int64  \n",
      " 3   name        1309 non-null   object \n",
      " 4   gender      1309 non-null   object \n",
      " 5   age         1046 non-null   float64\n",
      " 6   sibsp       1309 non-null   int64  \n",
      " 7   parch       1309 non-null   int64  \n",
      " 8   ticket      1309 non-null   object \n",
      " 9   fare        1308 non-null   object \n",
      " 10  embarked    1307 non-null   object \n",
      "dtypes: float64(1), int64(5), object(5)\n",
      "memory usage: 112.6+ KB\n",
      "DF after drop \n",
      " None\n"
     ]
    }
   ],
   "source": [
    "# drop columns with more than 25% missing data\n",
    "\n",
    "print(\"Original titanic_df info /n\", titanic_df.info())\n",
    "print()\n",
    "print(\"Columns with more than 25% missing data \\n\",titanic_df.columns[mask.sum()/mask.count()  > 0.25])\n",
    "print()\n",
    "col_drp = titanic_df.columns[mask.sum()/mask.count()  > 0.25]\n",
    "titanic_df.drop(col_drp,axis=1,inplace=True)\n",
    "print()\n",
    "print(\"DF after drop \\n\",titanic_df.info())\n"
   ]
  },
  {
   "cell_type": "code",
   "execution_count": 325,
   "metadata": {},
   "outputs": [],
   "source": [
    "# drop columns having independent values(which do not affect the survival rate)."
   ]
  },
  {
   "cell_type": "code",
   "execution_count": 326,
   "metadata": {},
   "outputs": [
    {
     "data": {
      "text/plain": [
       "0       211.34\n",
       "1       151.55\n",
       "2       151.55\n",
       "3       151.55\n",
       "4       151.55\n",
       "         ...  \n",
       "1304     14.45\n",
       "1305     14.45\n",
       "1306      7.23\n",
       "1307      7.23\n",
       "1308      7.88\n",
       "Name: fare, Length: 1309, dtype: float64"
      ]
     },
     "execution_count": 326,
     "metadata": {},
     "output_type": "execute_result"
    }
   ],
   "source": [
    "#  convert price to numeric\n",
    "# titanic_df['fare'] = titanic_df['fare'].replace({'\\$': '', ',': ''}, regex=True).astype(float)\n",
    "# titanic_df['fare']\n",
    "titanic_df['fare'] = titanic_df['fare'].str.replace(',','').str.replace('$','').astype('float')\n",
    "titanic_df['fare']"
   ]
  },
  {
   "cell_type": "code",
   "execution_count": 327,
   "metadata": {
    "scrolled": true
   },
   "outputs": [
    {
     "name": "stdout",
     "output_type": "stream",
     "text": [
      "Index(['age', 'fare', 'embarked'], dtype='object')\n",
      "Unnamed: 0      0\n",
      "pclass          0\n",
      "survived        0\n",
      "name            0\n",
      "gender          0\n",
      "age           263\n",
      "sibsp           0\n",
      "parch           0\n",
      "ticket          0\n",
      "fare            1\n",
      "embarked        2\n",
      "dtype: int64\n"
     ]
    }
   ],
   "source": [
    "#  find columns still having missing/na values and also count of missing data\n",
    "mis = titanic_df.isnull()\n",
    "print(titanic_df.columns[mis.any()])\n",
    "print(mis.sum())"
   ]
  },
  {
   "cell_type": "code",
   "execution_count": 328,
   "metadata": {
    "scrolled": true
   },
   "outputs": [
    {
     "name": "stdout",
     "output_type": "stream",
     "text": [
      "Index(['embarked'], dtype='object')\n",
      "Unnamed: 0    0\n",
      "pclass        0\n",
      "survived      0\n",
      "name          0\n",
      "gender        0\n",
      "age           0\n",
      "sibsp         0\n",
      "parch         0\n",
      "ticket        0\n",
      "fare          0\n",
      "embarked      2\n",
      "dtype: int64\n"
     ]
    }
   ],
   "source": [
    "# fill na with mean for fare and age column column.\n",
    "titanic_df.fillna({'age':titanic_df['age'].mean(),'fare':titanic_df['fare'].mean()},inplace=True)\n",
    "mis = titanic_df.isnull()\n",
    "print(titanic_df.columns[mis.any()])\n",
    "print(mis.sum())"
   ]
  },
  {
   "cell_type": "code",
   "execution_count": 329,
   "metadata": {
    "scrolled": true
   },
   "outputs": [
    {
     "name": "stdout",
     "output_type": "stream",
     "text": [
      "True\n",
      "\n",
      "False\n"
     ]
    }
   ],
   "source": [
    "# drop na values for embarked column.\n",
    "print((titanic_df['embarked'].isnull()).any())\n",
    "titanic_df['embarked'].dropna(inplace=True)\n",
    "print()\n",
    "print((titanic_df['embarked'].isnull()).any())"
   ]
  },
  {
   "cell_type": "code",
   "execution_count": 330,
   "metadata": {},
   "outputs": [],
   "source": [
    "# dump the dataframe to a csv file 'titanic_filtered.csv'.\n",
    "titanic_df.to_csv(r'C:\\Users\\DIVYA\\Documents\\DataScienceCourse\\Python\\numpy\\dsc_weekend_20200719\\Assignments\\Divya\\WEEK2_ASSIGNMENT\\titanic_filtered_divya1.csv', index = False)"
   ]
  },
  {
   "cell_type": "code",
   "execution_count": 331,
   "metadata": {
    "scrolled": true
   },
   "outputs": [
    {
     "name": "stdout",
     "output_type": "stream",
     "text": [
      "0       1\n",
      "1       1\n",
      "2       0\n",
      "3       0\n",
      "4       0\n",
      "       ..\n",
      "1304    0\n",
      "1305    0\n",
      "1306    0\n",
      "1307    0\n",
      "1308    0\n",
      "Name: survived, Length: 1309, dtype: int64\n",
      "\n",
      "0       A\n",
      "1       A\n",
      "2       D\n",
      "3       D\n",
      "4       D\n",
      "       ..\n",
      "1304    D\n",
      "1305    D\n",
      "1306    D\n",
      "1307    D\n",
      "1308    D\n",
      "Name: survived, Length: 1309, dtype: object\n"
     ]
    },
    {
     "data": {
      "text/plain": [
       "0       A\n",
       "1       A\n",
       "2       D\n",
       "3       D\n",
       "4       D\n",
       "       ..\n",
       "1304    D\n",
       "1305    D\n",
       "1306    D\n",
       "1307    D\n",
       "1308    D\n",
       "Name: survived, Length: 1309, dtype: object"
      ]
     },
     "execution_count": 331,
     "metadata": {},
     "output_type": "execute_result"
    }
   ],
   "source": [
    "#for surviced column replace 0 with D and 1 with A\n",
    "print(titanic_df['survived'])\n",
    "titanic_df['survived']=titanic_df['survived'].replace(0,'D').replace(1,'A')\n",
    "print()\n",
    "print(titanic_df['survived'])\n",
    "titanic_df['survived']"
   ]
  },
  {
   "cell_type": "code",
   "execution_count": 332,
   "metadata": {
    "scrolled": true
   },
   "outputs": [
    {
     "data": {
      "text/plain": [
       "D    809\n",
       "A    500\n",
       "Name: survived, dtype: int64"
      ]
     },
     "execution_count": 332,
     "metadata": {},
     "output_type": "execute_result"
    }
   ],
   "source": [
    "# find the frequency of different values in survived column\n",
    "titanic_df['survived'].value_counts()\n"
   ]
  },
  {
   "cell_type": "code",
   "execution_count": 333,
   "metadata": {
    "scrolled": true
   },
   "outputs": [
    {
     "data": {
      "text/html": [
       "<div>\n",
       "<style scoped>\n",
       "    .dataframe tbody tr th:only-of-type {\n",
       "        vertical-align: middle;\n",
       "    }\n",
       "\n",
       "    .dataframe tbody tr th {\n",
       "        vertical-align: top;\n",
       "    }\n",
       "\n",
       "    .dataframe thead th {\n",
       "        text-align: right;\n",
       "    }\n",
       "</style>\n",
       "<table border=\"1\" class=\"dataframe\">\n",
       "  <thead>\n",
       "    <tr style=\"text-align: right;\">\n",
       "      <th></th>\n",
       "      <th></th>\n",
       "      <th>Unnamed: 0</th>\n",
       "      <th>pclass</th>\n",
       "      <th>name</th>\n",
       "      <th>age</th>\n",
       "      <th>sibsp</th>\n",
       "      <th>parch</th>\n",
       "      <th>ticket</th>\n",
       "      <th>fare</th>\n",
       "      <th>embarked</th>\n",
       "    </tr>\n",
       "    <tr>\n",
       "      <th>gender</th>\n",
       "      <th>survived</th>\n",
       "      <th></th>\n",
       "      <th></th>\n",
       "      <th></th>\n",
       "      <th></th>\n",
       "      <th></th>\n",
       "      <th></th>\n",
       "      <th></th>\n",
       "      <th></th>\n",
       "      <th></th>\n",
       "    </tr>\n",
       "  </thead>\n",
       "  <tbody>\n",
       "    <tr>\n",
       "      <th rowspan=\"2\" valign=\"top\">female</th>\n",
       "      <th>A</th>\n",
       "      <td>339</td>\n",
       "      <td>339</td>\n",
       "      <td>339</td>\n",
       "      <td>339</td>\n",
       "      <td>339</td>\n",
       "      <td>339</td>\n",
       "      <td>339</td>\n",
       "      <td>339</td>\n",
       "      <td>337</td>\n",
       "    </tr>\n",
       "    <tr>\n",
       "      <th>D</th>\n",
       "      <td>127</td>\n",
       "      <td>127</td>\n",
       "      <td>127</td>\n",
       "      <td>127</td>\n",
       "      <td>127</td>\n",
       "      <td>127</td>\n",
       "      <td>127</td>\n",
       "      <td>127</td>\n",
       "      <td>127</td>\n",
       "    </tr>\n",
       "    <tr>\n",
       "      <th rowspan=\"2\" valign=\"top\">male</th>\n",
       "      <th>A</th>\n",
       "      <td>161</td>\n",
       "      <td>161</td>\n",
       "      <td>161</td>\n",
       "      <td>161</td>\n",
       "      <td>161</td>\n",
       "      <td>161</td>\n",
       "      <td>161</td>\n",
       "      <td>161</td>\n",
       "      <td>161</td>\n",
       "    </tr>\n",
       "    <tr>\n",
       "      <th>D</th>\n",
       "      <td>682</td>\n",
       "      <td>682</td>\n",
       "      <td>682</td>\n",
       "      <td>682</td>\n",
       "      <td>682</td>\n",
       "      <td>682</td>\n",
       "      <td>682</td>\n",
       "      <td>682</td>\n",
       "      <td>682</td>\n",
       "    </tr>\n",
       "  </tbody>\n",
       "</table>\n",
       "</div>"
      ],
      "text/plain": [
       "                 Unnamed: 0  pclass  name  age  sibsp  parch  ticket  fare  \\\n",
       "gender survived                                                              \n",
       "female A                339     339   339  339    339    339     339   339   \n",
       "       D                127     127   127  127    127    127     127   127   \n",
       "male   A                161     161   161  161    161    161     161   161   \n",
       "       D                682     682   682  682    682    682     682   682   \n",
       "\n",
       "                 embarked  \n",
       "gender survived            \n",
       "female A              337  \n",
       "       D              127  \n",
       "male   A              161  \n",
       "       D              682  "
      ]
     },
     "execution_count": 333,
     "metadata": {},
     "output_type": "execute_result"
    }
   ],
   "source": [
    "# - group by gender and survived and see the counts in each category\n",
    "titanic_df.groupby(['gender','survived']).count()\n"
   ]
  },
  {
   "cell_type": "code",
   "execution_count": 334,
   "metadata": {
    "scrolled": true
   },
   "outputs": [
    {
     "data": {
      "text/plain": [
       "3    709\n",
       "1    323\n",
       "2    277\n",
       "Name: pclass, dtype: int64"
      ]
     },
     "execution_count": 334,
     "metadata": {},
     "output_type": "execute_result"
    }
   ],
   "source": [
    "# find different pclass and no of people in each class\n",
    "titanic_df['pclass'].value_counts()\n"
   ]
  },
  {
   "cell_type": "code",
   "execution_count": 335,
   "metadata": {
    "scrolled": true
   },
   "outputs": [
    {
     "name": "stdout",
     "output_type": "stream",
     "text": [
      "People with hightest age \n",
      "                                                    name   age\n",
      "14                 Barkworth, Mr. Algernon Henry Wilson  80.0\n",
      "61    Cavendish, Mrs. Tyrell William (Julia Florence...  76.0\n",
      "1235                                Svensson, Mr. Johan  74.0\n",
      "135                           Goldschmidt, Mr. George B  71.0\n",
      "9                               Artagaveytia, Mr. Ramon  71.0\n"
     ]
    },
    {
     "data": {
      "text/plain": [
       "male      4\n",
       "female    1\n",
       "Name: gender, dtype: int64"
      ]
     },
     "execution_count": 335,
     "metadata": {},
     "output_type": "execute_result"
    }
   ],
   "source": [
    "# find top 5 people with highest values of age. Count no of male and females in the top 5\n",
    "# (titanic_df['age'].sort_values(ascending=False)).head()\n",
    "a = (titanic_df.sort_values('age',ascending=False)).head()\n",
    "\n",
    "print(\"People with hightest age \\n\",a[['name','age']])\n",
    "a['gender'].value_counts()\n"
   ]
  },
  {
   "cell_type": "code",
   "execution_count": 336,
   "metadata": {
    "scrolled": true
   },
   "outputs": [
    {
     "name": "stdout",
     "output_type": "stream",
     "text": [
      "14    80.0\n",
      "Name: age, dtype: float64\n",
      "61    76.0\n",
      "Name: age, dtype: float64\n"
     ]
    }
   ],
   "source": [
    "# find max age male and female who survived\n",
    "\n",
    "a = (titanic_df.sort_values('age',ascending=False)).head()\n",
    "# a\n",
    "# print('Male with highest age :',(a.where(a['gender']=='male').head(1)['age']).to_string(index=False))\n",
    "# a.where(a['gender']=='female')\n",
    "\n",
    "print((a.loc[(a['gender'] == 'male')].head(1))['age'])\n",
    "print((a.loc[(titanic_df['gender'] == 'female')].head(1))['age'])\n"
   ]
  },
  {
   "cell_type": "code",
   "execution_count": 337,
   "metadata": {
    "scrolled": true
   },
   "outputs": [
    {
     "data": {
      "text/plain": [
       "gender\n",
       "female    28.886935\n",
       "male      30.430716\n",
       "Name: age, dtype: float64"
      ]
     },
     "execution_count": 337,
     "metadata": {},
     "output_type": "execute_result"
    }
   ],
   "source": [
    "# get average age by gender\n",
    "titanic_df.groupby(\"gender\")['age'].mean()\n"
   ]
  },
  {
   "cell_type": "code",
   "execution_count": 342,
   "metadata": {},
   "outputs": [
    {
     "data": {
      "text/plain": [
       "survived\n",
       "A    29.058812\n",
       "D    30.389368\n",
       "Name: age, dtype: float64"
      ]
     },
     "execution_count": 342,
     "metadata": {},
     "output_type": "execute_result"
    }
   ],
   "source": [
    "# get average age by people survived vs not-survived\n",
    "titanic_df.groupby(\"survived\")['age'].mean()\n"
   ]
  }
 ],
 "metadata": {
  "kernelspec": {
   "display_name": "Python 3",
   "language": "python",
   "name": "python3"
  },
  "language_info": {
   "codemirror_mode": {
    "name": "ipython",
    "version": 3
   },
   "file_extension": ".py",
   "mimetype": "text/x-python",
   "name": "python",
   "nbconvert_exporter": "python",
   "pygments_lexer": "ipython3",
   "version": "3.7.6"
  }
 },
 "nbformat": 4,
 "nbformat_minor": 2
}
