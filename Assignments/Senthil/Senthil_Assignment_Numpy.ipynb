{
 "cells": [
  {
   "cell_type": "markdown",
   "metadata": {},
   "source": [
    "## NUMPY\n",
    "- create a numpy array of 5 zeros.\n",
    "    - check datatype, itemsize and shape of above\n",
    "- create a numpy array of ones of shape (5,4)\n",
    "- create a matrix of shape 4,5 with numbers from 1-20\n",
    "- multiply all elements of above array by 10\n",
    "- print odd elements from array\n",
    "- replace all even elements by their negative\n",
    "  \n",
    "  \n",
    "  \n",
    "- create a linearly spaced matrix M1 of size 4x4 having values in range 1-16\n",
    "- create a transpose of above matrix call it M2\n",
    "- find sum of above matrix M3 = (M1 + M2)\n",
    "- Find Transpose of M3, Call it MT1. Check if M3 == MT1\n",
    "- find diffrence of M4 = (M1 - M2)\n",
    "- Find Transpose of M4, Call it MT2. Check if M4 == MT2. Also check if M4 == -MT2\n",
    "  \n",
    "\n",
    "- create a matrix (3x4) R1 of random numbers between 10-40\n",
    "- find min and max column wise\n",
    "- replace the last column with sum of all the columns\n",
    "\n",
    "\n",
    "- create a matrix (3x4) R1 of random numbers between 10-40\n",
    "- replace all even elements with nan in R1\n",
    "- count number of nan in R1\n",
    "\n",
    "\n",
    "\n",
    "- check output of this code  \n",
    "`a1 = np.arange(1,10).reshape(3,3)\n",
    "a2 = np.arange(11,20).reshape(3,3)\n",
    "a3 = np.append(a1,a2)\n",
    "print(a3)\n",
    "a3 = np.append(a1,a2, axis = 0)\n",
    "print(a3)\n",
    "a3 = np.append(a1,a2, axis = 1)\n",
    "print(a3)\n",
    "`\n"
   ]
  },
  {
   "cell_type": "code",
   "execution_count": 9,
   "metadata": {},
   "outputs": [
    {
     "name": "stdout",
     "output_type": "stream",
     "text": [
      "[0. 0. 0. 0. 0.]\n",
      "<function size at 0x0000022557E78048>\n",
      "<function shape at 0x0000022557E6E048>\n",
      "<class 'numpy.dtype'>\n"
     ]
    }
   ],
   "source": [
    "import numpy as np\n",
    "\n",
    "print(np.zeros(5))\n",
    "print(np.size)\n",
    "print(np.shape)\n",
    "print(np.dtype)"
   ]
  },
  {
   "cell_type": "code",
   "execution_count": 13,
   "metadata": {},
   "outputs": [
    {
     "data": {
      "text/plain": [
       "array([[1., 1., 1., 1.],\n",
       "       [1., 1., 1., 1.],\n",
       "       [1., 1., 1., 1.],\n",
       "       [1., 1., 1., 1.],\n",
       "       [1., 1., 1., 1.]])"
      ]
     },
     "execution_count": 13,
     "metadata": {},
     "output_type": "execute_result"
    }
   ],
   "source": [
    "#create a numpy array of ones of shape (5,4)\n",
    "np.ones((5,4))"
   ]
  },
  {
   "cell_type": "code",
   "execution_count": 25,
   "metadata": {},
   "outputs": [
    {
     "name": "stdout",
     "output_type": "stream",
     "text": [
      "[[ 1  2  3  4  5]\n",
      " [ 6  7  8  9 10]\n",
      " [11 12 13 14 15]\n",
      " [16 17 18 19 20]]\n",
      "[[ 10  20  30  40  50]\n",
      " [ 60  70  80  90 100]\n",
      " [110 120 130 140 150]\n",
      " [160 170 180 190 200]]\n",
      "[ 1  3  5  7  9 11 13 15 17 19]\n",
      "[ 10  30  50  70  90 110 130 150 170 190]\n",
      "[ -2  -4  -6  -8 -10 -12 -14 -16 -18 -20]\n"
     ]
    }
   ],
   "source": [
    "#create a matrix of shape 4,5 with numbers from 1-20\n",
    "a=np.arange(1,21)\n",
    "b=a.reshape(4,5)\n",
    "print(b)\n",
    "#multiply all elements of above array by 10\n",
    "c=b*10\n",
    "print(c)\n",
    "#print odd elements from array\n",
    "d=(b%2!=0)\n",
    "print(b[d])\n",
    "\n",
    "print(c[d])\n",
    "#replace all even elements by their negative\n",
    "\n",
    "e=(b%2==0)\n",
    "\n",
    "print(b[e]*-1)\n"
   ]
  },
  {
   "cell_type": "code",
   "execution_count": 37,
   "metadata": {},
   "outputs": [
    {
     "name": "stdout",
     "output_type": "stream",
     "text": [
      "M1 [[ 1  2  3  4]\n",
      " [ 5  6  7  8]\n",
      " [ 9 10 11 12]\n",
      " [13 14 15 16]]\n",
      "M2 [[ 1  5  9 13]\n",
      " [ 2  6 10 14]\n",
      " [ 3  7 11 15]\n",
      " [ 4  8 12 16]]\n",
      "M3 [[ 2  7 12 17]\n",
      " [ 7 12 17 22]\n",
      " [12 17 22 27]\n",
      " [17 22 27 32]]\n",
      "True\n",
      "M4 [[ 0 -3 -6 -9]\n",
      " [ 3  0 -3 -6]\n",
      " [ 6  3  0 -3]\n",
      " [ 9  6  3  0]]\n",
      "False\n"
     ]
    }
   ],
   "source": [
    "#create a linearly spaced matrix M1 of size 4x4 having values in range 1-16\n",
    "\n",
    "M0=a=np.arange(1,17)\n",
    "M1=a.reshape(4,4)\n",
    "print(\"M1\",M1)\n",
    "#create a transpose of above matrix call it M2\n",
    "M2=M1.T\n",
    "print(\"M2\",M2)\n",
    "#find sum of above matrix M3 = (M1 + M2)\n",
    "M3 =M1+M2\n",
    "print(\"M3\",M3)\n",
    "#Find Transpose of M3, Call it MT1. Check if M3 == MT1\n",
    "MT1=M3.T\n",
    "if (M3.all()==MT1.all()):\n",
    "    print(True)\n",
    "else:\n",
    "    print(False)\n",
    "\n",
    "#find diffrence of M4 = (M1 - M2)\n",
    "M4 = M1-M2\n",
    "print(\"M4\",M4)\n",
    "#Find Transpose of M4, Call it MT2. Check if M4 == MT2. Also check if M4 == -MT2\n",
    "MT2 =M4.T\n",
    "if (M4.all()==~MT2.all()):\n",
    "    print(True)\n",
    "else:\n",
    "    print(False)\n"
   ]
  },
  {
   "cell_type": "code",
   "execution_count": 38,
   "metadata": {},
   "outputs": [
    {
     "name": "stdout",
     "output_type": "stream",
     "text": [
      "[[20 27 34 11]\n",
      " [34 26 12 25]\n",
      " [25 32 30 38]]\n",
      "minmum [20 26 12 11]\n",
      "maximum  [34 32 34 38]\n"
     ]
    }
   ],
   "source": [
    "#create a matrix (3x4) R1 of random numbers between 10-40\n",
    "import numpy as np\n",
    "R1=np.random.randint(10,40, size=(3,4))\n",
    "print(R1)\n",
    "#find min and max column wise\n",
    "\n",
    "print(\"minmum\",R1.min(axis=0))\n",
    "print(\"maximum \",R1.max(axis=0))\n",
    "\n",
    "#replace the last column with sum of all the columns"
   ]
  },
  {
   "cell_type": "code",
   "execution_count": 40,
   "metadata": {},
   "outputs": [
    {
     "name": "stdout",
     "output_type": "stream",
     "text": [
      "[ 1  2  3  4  5  6  7  8  9 11 12 13 14 15 16 17 18 19]\n",
      "[[ 1  2  3]\n",
      " [ 4  5  6]\n",
      " [ 7  8  9]\n",
      " [11 12 13]\n",
      " [14 15 16]\n",
      " [17 18 19]]\n",
      "[[ 1  2  3 11 12 13]\n",
      " [ 4  5  6 14 15 16]\n",
      " [ 7  8  9 17 18 19]]\n"
     ]
    }
   ],
   "source": [
    "a1 = np.arange(1,10).reshape(3,3)\n",
    "a2 = np.arange(11,20).reshape(3,3)\n",
    "a3 = np.append(a1,a2)\n",
    "print(a3)\n",
    "a3 = np.append(a1,a2, axis = 0)\n",
    "print(a3)\n",
    "a3 = np.append(a1,a2, axis = 1)\n",
    "print(a3)"
   ]
  },
  {
   "cell_type": "code",
   "execution_count": null,
   "metadata": {},
   "outputs": [],
   "source": []
  }
 ],
 "metadata": {
  "kernelspec": {
   "display_name": "Python 3",
   "language": "python",
   "name": "python3"
  },
  "language_info": {
   "codemirror_mode": {
    "name": "ipython",
    "version": 3
   },
   "file_extension": ".py",
   "mimetype": "text/x-python",
   "name": "python",
   "nbconvert_exporter": "python",
   "pygments_lexer": "ipython3",
   "version": "3.7.6"
  }
 },
 "nbformat": 4,
 "nbformat_minor": 2
}
