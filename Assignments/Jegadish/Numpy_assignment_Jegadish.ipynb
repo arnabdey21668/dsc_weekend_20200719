{
 "cells": [
  {
   "cell_type": "code",
   "execution_count": 2,
   "metadata": {},
   "outputs": [
    {
     "name": "stdout",
     "output_type": "stream",
     "text": [
      "[0 0 0 0 0]\n",
      "Datatype of ndarray: int16\n",
      "shape of ndarray : (5,)\n",
      "Size of each items in ndarray : 2\n"
     ]
    }
   ],
   "source": [
    "import numpy as np\n",
    "a = np.zeros((5), dtype=np.int16)\n",
    "print(a)\n",
    "print('Datatype of ndarray:',a.dtype)\n",
    "print('shape of ndarray :', a.shape) \n",
    "print('Size of each items in ndarray :', a.itemsize) "
   ]
  },
  {
   "cell_type": "code",
   "execution_count": 19,
   "metadata": {},
   "outputs": [
    {
     "name": "stdout",
     "output_type": "stream",
     "text": [
      "[[1 1 1 1]\n",
      " [1 1 1 1]\n",
      " [1 1 1 1]\n",
      " [1 1 1 1]\n",
      " [1 1 1 1]]\n"
     ]
    }
   ],
   "source": [
    "#•\tcreate a numpy array of ones of shape (5,4)\n",
    "a = np.ones((5,4), dtype=np.int16)\n",
    "print(a)\n"
   ]
  },
  {
   "cell_type": "code",
   "execution_count": 76,
   "metadata": {},
   "outputs": [
    {
     "name": "stdout",
     "output_type": "stream",
     "text": [
      "[[ 0  1  2  3  4]\n",
      " [ 5  6  7  8  9]\n",
      " [10 11 12 13 14]\n",
      " [15 16 17 18 19]]\n",
      "multiply all elements of above array by 10\n",
      "[[  0  10  20  30  40]\n",
      " [ 50  60  70  80  90]\n",
      " [100 110 120 130 140]\n",
      " [150 160 170 180 190]]\n"
     ]
    }
   ],
   "source": [
    "#•\tcreate a matrix of shape 4,5 with numbers from 1-20\n",
    "inp_list = np.arange(20).reshape(4,5) \n",
    "print(inp_list)\n",
    "\n",
    "#•\tmultiply all elements of above array by 10\n",
    "print('multiply all elements of above array by 10')\n",
    "b=np.full((4,5), 10)\n",
    "print(np.multiply(inp_list,b))"
   ]
  },
  {
   "cell_type": "code",
   "execution_count": 58,
   "metadata": {},
   "outputs": [
    {
     "name": "stdout",
     "output_type": "stream",
     "text": [
      "Odd number from matrix(4,5) [ 1  3  5  7  9 11 13 15 17 19]\n"
     ]
    }
   ],
   "source": [
    "#•\tprint odd elements from array\n",
    "inp_list = np.arange(20)\n",
    "print(\"Odd number from matrix(4,5)\",inp_list[inp_list%2==1])"
   ]
  },
  {
   "cell_type": "code",
   "execution_count": 87,
   "metadata": {},
   "outputs": [
    {
     "name": "stdout",
     "output_type": "stream",
     "text": [
      "[  0   1  -2   3  -4   5  -6   7  -8   9 -10  11 -12  13 -14  15 -16  17\n",
      " -18  19]\n"
     ]
    }
   ],
   "source": [
    "#replace all even elements by their negative\n",
    "inp_list = np.arange(20)\n",
    "a = np.where(inp_list%2==0, inp_list * -1, inp_list)\n",
    "print(a)"
   ]
  },
  {
   "cell_type": "code",
   "execution_count": 89,
   "metadata": {},
   "outputs": [
    {
     "name": "stdout",
     "output_type": "stream",
     "text": [
      "[ 1  2  3  4  5  6  7  8  9 11 12 13 14 15 16 17 18 19]\n",
      "[[ 1  2  3]\n",
      " [ 4  5  6]\n",
      " [ 7  8  9]\n",
      " [11 12 13]\n",
      " [14 15 16]\n",
      " [17 18 19]]\n",
      "[[ 1  2  3 11 12 13]\n",
      " [ 4  5  6 14 15 16]\n",
      " [ 7  8  9 17 18 19]]\n"
     ]
    }
   ],
   "source": [
    "#•\tcreate a linearly spaced matrix M1 of size 4x4 having values in range 1-16\n",
    "a1 = np.arange(1,10).reshape(3,3) \n",
    "a2 = np.arange(11,20).reshape(3,3) \n",
    "a3 = np.append(a1,a2) \n",
    "print(a3) \n",
    "a3 = np.append(a1,a2, axis = 0) \n",
    "print(a3) \n",
    "a3 = np.append(a1,a2, axis = 1) \n",
    "print(a3)\n",
    "\n"
   ]
  },
  {
   "cell_type": "code",
   "execution_count": 163,
   "metadata": {},
   "outputs": [
    {
     "name": "stdout",
     "output_type": "stream",
     "text": [
      "[[ 1  2  3  4]\n",
      " [ 5  6  7  8]\n",
      " [ 9 10 11 12]\n",
      " [13 14 15 16]]\n"
     ]
    }
   ],
   "source": [
    "#•\tcreate a linearly spaced matrix M1 of size 4x4 having values in range 1-16\n",
    "M1=np.linspace(1,16,16,dtype=np.int32).reshape(4,4)\n",
    "print(M1)"
   ]
  },
  {
   "cell_type": "code",
   "execution_count": 164,
   "metadata": {},
   "outputs": [
    {
     "name": "stdout",
     "output_type": "stream",
     "text": [
      "[[13 14 15 16]\n",
      " [ 9 10 11 12]\n",
      " [ 5  6  7  8]\n",
      " [ 1  2  3  4]]\n"
     ]
    }
   ],
   "source": [
    "#•\tcreate a transpose of above matrix call it M2\n",
    "M2 = M1[::-1]\n",
    "print(M2)"
   ]
  },
  {
   "cell_type": "code",
   "execution_count": 165,
   "metadata": {},
   "outputs": [
    {
     "name": "stdout",
     "output_type": "stream",
     "text": [
      "[[14 16 18 20]\n",
      " [14 16 18 20]\n",
      " [14 16 18 20]\n",
      " [14 16 18 20]]\n"
     ]
    }
   ],
   "source": [
    "#•\tfind sum of above matrix M3 = (M1 + M2)\n",
    "M3= np.add(M1,M2)\n",
    "print(M3)"
   ]
  },
  {
   "cell_type": "code",
   "execution_count": 166,
   "metadata": {},
   "outputs": [
    {
     "name": "stdout",
     "output_type": "stream",
     "text": [
      "[[14 16 18 20]\n",
      " [14 16 18 20]\n",
      " [14 16 18 20]\n",
      " [14 16 18 20]]\n"
     ]
    },
    {
     "data": {
      "text/plain": [
       "True"
      ]
     },
     "execution_count": 166,
     "metadata": {},
     "output_type": "execute_result"
    }
   ],
   "source": [
    "#•\tFind Transpose of M3, Call it MT1. Check if M3 == MT1\n",
    "MT1=M3[::-1]\n",
    "print(MT1)\n",
    "np.array_equiv(M3,MT1)"
   ]
  },
  {
   "cell_type": "code",
   "execution_count": 167,
   "metadata": {},
   "outputs": [
    {
     "name": "stdout",
     "output_type": "stream",
     "text": [
      "[[-12 -12 -12 -12]\n",
      " [ -4  -4  -4  -4]\n",
      " [  4   4   4   4]\n",
      " [ 12  12  12  12]]\n"
     ]
    }
   ],
   "source": [
    "#•\tfind diffrence of M4 = (M1 - M2)\n",
    "M4=np.subtract(M1,M2)\n",
    "print(M4)"
   ]
  },
  {
   "cell_type": "code",
   "execution_count": 168,
   "metadata": {},
   "outputs": [
    {
     "name": "stdout",
     "output_type": "stream",
     "text": [
      "M4 == MT2?\n",
      " False\n",
      "M4 == -MT2?\n",
      " True\n"
     ]
    }
   ],
   "source": [
    "#•\tFind Transpose of M4, Call it MT2. Check if M4 == MT2. Also check if M4 == -MT2\n",
    "MT2=M4[::-1]\n",
    "print(\"M4 == MT2?\\n\",np.array_equiv(M4,MT2))\n",
    "\n",
    "print(\"M4 == -MT2?\\n\",np.array_equiv(M4,MT2*-1))\n"
   ]
  },
  {
   "cell_type": "code",
   "execution_count": 12,
   "metadata": {},
   "outputs": [
    {
     "name": "stdout",
     "output_type": "stream",
     "text": [
      "[[32 18 11 36]\n",
      " [26 15 19 19]\n",
      " [34 19 11 37]]\n"
     ]
    }
   ],
   "source": [
    "#•\tcreate a matrix (3x4) R1 of random numbers between 10-40\n",
    "x=np.random.randint(10,40,12).reshape(3,4)\n",
    "print(x)"
   ]
  },
  {
   "cell_type": "code",
   "execution_count": 13,
   "metadata": {},
   "outputs": [
    {
     "name": "stdout",
     "output_type": "stream",
     "text": [
      "min value of every column:  [26 15 11 19]\n",
      "min value of every column:  [34 19 19 37]\n"
     ]
    }
   ],
   "source": [
    "#•\tfind min and max column wise\n",
    "min = np.amin(x, axis=0)\n",
    "print('min value of every column: ', min)\n",
    "max = np.amax(x, axis=0)\n",
    "print('min value of every column: ', max)"
   ]
  },
  {
   "cell_type": "code",
   "execution_count": 14,
   "metadata": {},
   "outputs": [
    {
     "name": "stdout",
     "output_type": "stream",
     "text": [
      "[[ 32  18  11  97]\n",
      " [ 26  15  19  79]\n",
      " [ 34  19  11 101]]\n"
     ]
    }
   ],
   "source": [
    "#•\treplace the last column with sum of all the columns\n",
    "x[:,3] = np.sum(x, axis=1)\n",
    "print(x)\n"
   ]
  },
  {
   "cell_type": "code",
   "execution_count": 15,
   "metadata": {},
   "outputs": [
    {
     "name": "stdout",
     "output_type": "stream",
     "text": [
      "[[ nan  nan  11.  97.]\n",
      " [ nan  15.  19.  79.]\n",
      " [ nan  19.  11. 101.]]\n"
     ]
    }
   ],
   "source": [
    "#•\treplace all even elements with nan in R1\n",
    "a = np.where(x%2==0, np.nan, x)\n",
    "print(a)"
   ]
  },
  {
   "cell_type": "code",
   "execution_count": 18,
   "metadata": {},
   "outputs": [
    {
     "name": "stdout",
     "output_type": "stream",
     "text": [
      "number of nan in R1: 4\n"
     ]
    }
   ],
   "source": [
    "a_count=np.isnan(a).sum()\n",
    "print('number of nan in R1:',a_count)"
   ]
  },
  {
   "cell_type": "code",
   "execution_count": null,
   "metadata": {},
   "outputs": [],
   "source": []
  }
 ],
 "metadata": {
  "kernelspec": {
   "display_name": "Python 3",
   "language": "python",
   "name": "python3"
  },
  "language_info": {
   "codemirror_mode": {
    "name": "ipython",
    "version": 3
   },
   "file_extension": ".py",
   "mimetype": "text/x-python",
   "name": "python",
   "nbconvert_exporter": "python",
   "pygments_lexer": "ipython3",
   "version": "3.7.6"
  }
 },
 "nbformat": 4,
 "nbformat_minor": 4
}
