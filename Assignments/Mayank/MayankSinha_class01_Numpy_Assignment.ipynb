{
 "cells": [
  {
   "cell_type": "code",
   "execution_count": 7,
   "metadata": {},
   "outputs": [
    {
     "name": "stdout",
     "output_type": "stream",
     "text": [
      "<class 'numpy.ndarray'>\n",
      "int32\n",
      "4\n",
      "(5,)\n"
     ]
    }
   ],
   "source": [
    "#create a numpy array of 5 zeros.\n",
    "\n",
    "import numpy as np\n",
    "np_array = np.array([0,0,0,0,0])\n",
    "print(type(np_array))\n",
    "print(np_array.dtype)\n",
    "print(np_array.itemsize)\n",
    "print(np_array.shape)"
   ]
  },
  {
   "cell_type": "code",
   "execution_count": 11,
   "metadata": {},
   "outputs": [
    {
     "name": "stdout",
     "output_type": "stream",
     "text": [
      "[[ 1  2  3  4]\n",
      " [ 5  6  7  8]\n",
      " [ 9 10 11 12]\n",
      " [13 14 15 16]\n",
      " [17 18 19 20]]\n",
      "(5, 4)\n"
     ]
    }
   ],
   "source": [
    "#create a numpy array of ones of shape (5,4)\n",
    "\n",
    "import numpy as np\n",
    "x = np.array([[1,2,3,4],[5,6,7,8],[9,10,11,12],[13,14,15,16],[17,18,19,20]])\n",
    "print(x)\n",
    "print(x.shape)"
   ]
  },
  {
   "cell_type": "code",
   "execution_count": 13,
   "metadata": {},
   "outputs": [
    {
     "name": "stdout",
     "output_type": "stream",
     "text": [
      "[[ 10  20  30  40 170]\n",
      " [ 50  60  70  80 180]\n",
      " [ 90 100 110 120 190]\n",
      " [130 140 150 160 200]]\n",
      "(4, 5)\n"
     ]
    }
   ],
   "source": [
    "#create a matrix of shape 4,5 with numbers from 1-20\n",
    "\n",
    "import numpy as np\n",
    "x_1 = np.array([[1,2,3,4,17],[5,6,7,8,18],[9,10,11,12,19],[13,14,15,16,20]])\n",
    "print(x_1)\n",
    "print(x_1.shape)"
   ]
  },
  {
   "cell_type": "code",
   "execution_count": 15,
   "metadata": {},
   "outputs": [
    {
     "name": "stdout",
     "output_type": "stream",
     "text": [
      "[[ 10  20  30  40 170]\n",
      " [ 50  60  70  80 180]\n",
      " [ 90 100 110 120 190]\n",
      " [130 140 150 160 200]]\n",
      "(4, 5)\n"
     ]
    }
   ],
   "source": [
    "#multiply all elements of above array by 10\n",
    "\n",
    "import numpy as np\n",
    "x_1 = np.array([[1,2,3,4,17],[5,6,7,8,18],[9,10,11,12,19],[13,14,15,16,20]])\n",
    "y = x_1*10\n",
    "print(y)\n",
    "print(y.shape)"
   ]
  },
  {
   "cell_type": "code",
   "execution_count": 17,
   "metadata": {},
   "outputs": [
    {
     "name": "stdout",
     "output_type": "stream",
     "text": [
      "[ 10  20  30  40 170]\n",
      "[ 50  60  70  80 180]\n",
      "[ 90 100 110 120 190]\n",
      "[130 140 150 160 200]\n"
     ]
    }
   ],
   "source": [
    "#print odd elements from array\n",
    "\n",
    "import numpy as np\n",
    "x_1 = np.array([[1,2,3,4,17],[5,6,7,8,18],[9,10,11,12,19],[13,14,15,16,20]])\n",
    "y = x_1*10\n",
    "for data in y:\n",
    "    print(data)\n",
    "    import time\n",
    "    time.sleep(2)"
   ]
  },
  {
   "cell_type": "code",
   "execution_count": 42,
   "metadata": {},
   "outputs": [
    {
     "name": "stdout",
     "output_type": "stream",
     "text": [
      "[ -2  -4  -6  -8 -18 -10 -12 -14 -16 -20]\n"
     ]
    }
   ],
   "source": [
    "##replace all even elements by their negative\n",
    "\n",
    "import numpy as np\n",
    "a = np.array([[1,2,3,4,17],[5,6,7,8,18],[9,10,11,12,19],[13,14,15,16,20]])\n",
    "y = a%2 == 0\n",
    "print(a[y]*-1)"
   ]
  },
  {
   "cell_type": "code",
   "execution_count": 45,
   "metadata": {},
   "outputs": [
    {
     "name": "stdout",
     "output_type": "stream",
     "text": [
      "[[ 0  1  2  3]\n",
      " [ 4  5  6  7]\n",
      " [ 8  9 10 11]\n",
      " [12 13 14 15]]\n"
     ]
    }
   ],
   "source": [
    "#create a linearly spaced matrix M1 of size 4x4 having values in range 1-16\n",
    "\n",
    "M1 = np.arange(0,16).reshape(4,4)\n",
    "print(M1)"
   ]
  },
  {
   "cell_type": "code",
   "execution_count": 46,
   "metadata": {},
   "outputs": [
    {
     "name": "stdout",
     "output_type": "stream",
     "text": [
      "[[ 0  4  8 12]\n",
      " [ 1  5  9 13]\n",
      " [ 2  6 10 14]\n",
      " [ 3  7 11 15]]\n"
     ]
    }
   ],
   "source": [
    "#create a transpose of above matrix call it M2\n",
    "\n",
    "M2 = np.transpose(M1)\n",
    "print(M2)"
   ]
  },
  {
   "cell_type": "code",
   "execution_count": 47,
   "metadata": {},
   "outputs": [
    {
     "name": "stdout",
     "output_type": "stream",
     "text": [
      "[[ 0  5 10 15]\n",
      " [ 5 10 15 20]\n",
      " [10 15 20 25]\n",
      " [15 20 25 30]]\n"
     ]
    }
   ],
   "source": [
    "#find sum of above matrix M3 = (M1 + M2)\n",
    "\n",
    "M3 = M1 + M2\n",
    "print(M3)"
   ]
  },
  {
   "cell_type": "code",
   "execution_count": 57,
   "metadata": {},
   "outputs": [
    {
     "name": "stdout",
     "output_type": "stream",
     "text": [
      "[[ 0  5 10 15]\n",
      " [ 5 10 15 20]\n",
      " [10 15 20 25]\n",
      " [15 20 25 30]]\n",
      "[[ True  True  True  True]\n",
      " [ True  True  True  True]\n",
      " [ True  True  True  True]\n",
      " [ True  True  True  True]]\n"
     ]
    }
   ],
   "source": [
    "#Find Transpose of M3, Call it MT1. Check if M3 == MT1\n",
    "\n",
    "MT1 = np.transpose(M3)\n",
    "print(MT1)\n",
    "print(M3 == MT1)"
   ]
  },
  {
   "cell_type": "code",
   "execution_count": 51,
   "metadata": {},
   "outputs": [
    {
     "name": "stdout",
     "output_type": "stream",
     "text": [
      "[[ 0 -3 -6 -9]\n",
      " [ 3  0 -3 -6]\n",
      " [ 6  3  0 -3]\n",
      " [ 9  6  3  0]]\n"
     ]
    }
   ],
   "source": [
    "#find diffrence of M4 = (M1 - M2)\n",
    "\n",
    "M4 = M1 - M2\n",
    "print(M4)"
   ]
  },
  {
   "cell_type": "code",
   "execution_count": 58,
   "metadata": {},
   "outputs": [
    {
     "name": "stdout",
     "output_type": "stream",
     "text": [
      "[[ True False False False]\n",
      " [False  True False False]\n",
      " [False False  True False]\n",
      " [False False False  True]]\n",
      "[[ True  True  True  True]\n",
      " [ True  True  True  True]\n",
      " [ True  True  True  True]\n",
      " [ True  True  True  True]]\n"
     ]
    }
   ],
   "source": [
    "#Find Transpose of M4, Call it MT2. Check if M4 == MT2. Also check if M4 == -MT2\n",
    "\n",
    "MT2 = np.transpose(M4)\n",
    "print(M4 == MT2)\n",
    "print(M4 == -MT2)"
   ]
  },
  {
   "cell_type": "code",
   "execution_count": 66,
   "metadata": {},
   "outputs": [
    {
     "name": "stdout",
     "output_type": "stream",
     "text": [
      "[[24 28 27 34]\n",
      " [25 37 30 24]\n",
      " [26 27 35 33]]\n"
     ]
    }
   ],
   "source": [
    "#create a matrix (3x4) R1 of random numbers between 10-40\n",
    "\n",
    "a = np.random.randint(10,40,size=(3,4))\n",
    "print(a)"
   ]
  },
  {
   "cell_type": "code",
   "execution_count": 69,
   "metadata": {},
   "outputs": [
    {
     "name": "stdout",
     "output_type": "stream",
     "text": [
      "[[26 13 30 29]\n",
      " [13 25 15 31]\n",
      " [19 10 25 20]]\n",
      "Min. Column [13 10 15 20]\n",
      "Max. Column [26 25 30 31]\n",
      "Min. Row [13 13 10]\n",
      "Max. Row [30 31 25]\n"
     ]
    }
   ],
   "source": [
    "#find min and max column wise\n",
    "\n",
    "a = np.random.randint(10,40,size=(3,4))\n",
    "print(a)\n",
    "print(\"Min. Column\",a.min(axis=0))\n",
    "print(\"Max. Column\",a.max(axis=0))\n",
    "print(\"Min. Row\",a.min(axis=1))\n",
    "print(\"Max. Row\",a.max(axis=1))"
   ]
  },
  {
   "cell_type": "code",
   "execution_count": 81,
   "metadata": {},
   "outputs": [
    {
     "name": "stdout",
     "output_type": "stream",
     "text": [
      "[[10 22 21 25]\n",
      " [20 21 12 38]\n",
      " [32 11 15 31]]\n",
      "---------\n",
      "[78 91 89]\n",
      "---------\n",
      "[[10 22 21 78]\n",
      " [20 21 12 91]\n",
      " [32 11 15 89]]\n"
     ]
    }
   ],
   "source": [
    "#replace the last column with sum of all the columns\n",
    "\n",
    "a = np.random.randint(low = 10,high = 40,size=(3,4))\n",
    "print(a)\n",
    "sum_data = np.sum(a, axis = 1)\n",
    "print(\"---------\")\n",
    "print(sum_data)\n",
    "a[:,3] = sum_data\n",
    "print(\"---------\")\n",
    "print(a)"
   ]
  },
  {
   "cell_type": "code",
   "execution_count": 82,
   "metadata": {},
   "outputs": [
    {
     "name": "stdout",
     "output_type": "stream",
     "text": [
      "[[34 26 34 36]\n",
      " [24 34 18 21]\n",
      " [31 12 26 28]]\n"
     ]
    }
   ],
   "source": [
    "#create a matrix (3x4) R1 of random numbers between 10-40\n",
    "\n",
    "R1 = np.random.randint(low = 10,high = 40,size=(3,4))\n",
    "print(R1)"
   ]
  },
  {
   "cell_type": "code",
   "execution_count": 92,
   "metadata": {},
   "outputs": [
    {
     "name": "stdout",
     "output_type": "stream",
     "text": [
      "[[37. 30. 27. 21.]\n",
      " [15. 19. 18. 15.]\n",
      " [15. 14. 38. 20.]]\n",
      "[[False  True False False]\n",
      " [False False  True False]\n",
      " [False  True  True  True]]\n",
      "--------------------------------\n",
      "[[37. nan 27. 21.]\n",
      " [15. 19. nan 15.]\n",
      " [15. nan nan nan]]\n"
     ]
    }
   ],
   "source": [
    "#replace all even elements with nan in R1\n",
    "\n",
    "R1 = np.random.randint(low = 10,high = 40,size=(3,4))\n",
    "R1 = R1.astype(\"float\")\n",
    "print(R1)\n",
    "even_num = R1%2 == 0\n",
    "print(even_num)\n",
    "R1[even_num] = np.nan\n",
    "print(\"--------------------------------\")\n",
    "print(R1)"
   ]
  },
  {
   "cell_type": "code",
   "execution_count": 93,
   "metadata": {},
   "outputs": [
    {
     "name": "stdout",
     "output_type": "stream",
     "text": [
      "5\n"
     ]
    }
   ],
   "source": [
    "#count number of nan in R1\n",
    "\n",
    "print(np.count_nonzero(np.isnan(R1)))"
   ]
  },
  {
   "cell_type": "code",
   "execution_count": 94,
   "metadata": {},
   "outputs": [
    {
     "name": "stdout",
     "output_type": "stream",
     "text": [
      "[ 1  2  3  4  5  6  7  8  9 11 12 13 14 15 16 17 18 19]\n",
      "[[ 1  2  3]\n",
      " [ 4  5  6]\n",
      " [ 7  8  9]\n",
      " [11 12 13]\n",
      " [14 15 16]\n",
      " [17 18 19]]\n",
      "[[ 1  2  3 11 12 13]\n",
      " [ 4  5  6 14 15 16]\n",
      " [ 7  8  9 17 18 19]]\n"
     ]
    }
   ],
   "source": [
    "#check output of this code\n",
    "\n",
    "a1 = np.arange(1,10).reshape(3,3)\n",
    "a2 = np.arange(11,20).reshape(3,3)\n",
    "a3 = np.append(a1,a2)\n",
    "print(a3)\n",
    "a3 = np.append(a1,a2, axis = 0)\n",
    "print(a3)\n",
    "a3 = np.append(a1,a2, axis = 1)\n",
    "print(a3)"
   ]
  },
  {
   "cell_type": "code",
   "execution_count": null,
   "metadata": {},
   "outputs": [],
   "source": []
  }
 ],
 "metadata": {
  "kernelspec": {
   "display_name": "Python 3",
   "language": "python",
   "name": "python3"
  },
  "language_info": {
   "codemirror_mode": {
    "name": "ipython",
    "version": 3
   },
   "file_extension": ".py",
   "mimetype": "text/x-python",
   "name": "python",
   "nbconvert_exporter": "python",
   "pygments_lexer": "ipython3",
   "version": "3.7.6"
  }
 },
 "nbformat": 4,
 "nbformat_minor": 4
}
