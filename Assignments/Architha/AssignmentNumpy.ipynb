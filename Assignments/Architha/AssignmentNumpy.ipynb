{
 "cells": [
  {
   "cell_type": "code",
   "execution_count": null,
   "metadata": {},
   "outputs": [],
   "source": [
    "## NUMPY\n",
    "# - create a numpy array of 5 zeros.\n",
    "#     - check datatype, itemsize and shape of above\n",
    "# - create a numpy array of ones of shape (5,4)\n",
    "# - create a matrix of shape 4,5 with numbers from 1-20\n",
    "# - multiply all elements of above array by 10\n",
    "# - print odd elements from array\n",
    "# - replace all even elements by their negative\n",
    "  \n",
    "  \n",
    "  \n",
    "# - create a linearly spaced matrix M1 of size 4x4 having values in range 1-16\n",
    "# - create a transpose of above matrix call it M2\n",
    "# - find sum of above matrix M3 = (M1 + M2)\n",
    "# - Find Transpose of M3, Call it MT1. Check if M3 == MT1\n",
    "# - find diffrence of M4 = (M1 - M2)\n",
    "# - Find Transpose of M4, Call it MT2. Check if M4 == MT2. Also check if M4 == -MT2\n",
    "  \n",
    "\n",
    "# - create a matrix (3x4) R1 of random numbers between 10-40\n",
    "# - find min and max column wise\n",
    "# - replace the last column with sum of all the columns\n",
    "\n",
    "\n",
    "# - create a matrix (3x4) R1 of random numbers between 10-40\n",
    "# - replace all even elements with nan in R1\n",
    "# - count number of nan in R1\n",
    "\n",
    "\n",
    "\n",
    "# - check output of this code  \n",
    "# `a1 = np.arange(1,10).reshape(3,3)\n",
    "# a2 = np.arange(11,20).reshape(3,3)\n",
    "# a3 = np.append(a1,a2)\n",
    "# print(a3)\n",
    "# a3 = np.append(a1,a2, axis = 0)\n",
    "# print(a3)\n",
    "# a3 = np.append(a1,a2, axis = 1)\n",
    "# print(a3)\n",
    "\n",
    "\n"
   ]
  },
  {
   "cell_type": "code",
   "execution_count": 3,
   "metadata": {},
   "outputs": [
    {
     "name": "stdout",
     "output_type": "stream",
     "text": [
      "[0. 0. 0. 0. 0.]\n",
      "float64\n",
      "8\n",
      "(5,)\n"
     ]
    }
   ],
   "source": [
    "# - create a numpy array of 5 zeros.\n",
    "#     - check datatype, itemsize and shape of above\n",
    "\n",
    "import numpy as np\n",
    "a=np.zeros(5)\n",
    "print(a)\n",
    "print(a.dtype)\n",
    "print(a.itemsize)\n",
    "print(a.shape)"
   ]
  },
  {
   "cell_type": "code",
   "execution_count": 4,
   "metadata": {},
   "outputs": [
    {
     "name": "stdout",
     "output_type": "stream",
     "text": [
      "[[1. 1. 1. 1.]\n",
      " [1. 1. 1. 1.]\n",
      " [1. 1. 1. 1.]\n",
      " [1. 1. 1. 1.]\n",
      " [1. 1. 1. 1.]]\n"
     ]
    }
   ],
   "source": [
    "#- create a numpy array of ones of shape (5,4)\n",
    "\n",
    "import numpy as np\n",
    "a=np.ones((5,4))\n",
    "print(a)"
   ]
  },
  {
   "cell_type": "code",
   "execution_count": 5,
   "metadata": {},
   "outputs": [
    {
     "name": "stdout",
     "output_type": "stream",
     "text": [
      "[[ 1  2  3  4  5]\n",
      " [ 6  7  8  9 10]\n",
      " [11 12 13 14 15]\n",
      " [16 17 18 19 20]]\n"
     ]
    }
   ],
   "source": [
    "#- create a matrix of shape 4,5 with numbers from 1-20\n",
    "import numpy as np\n",
    "a=np.arange(1,21).reshape(4,5)\n",
    "print(a)"
   ]
  },
  {
   "cell_type": "code",
   "execution_count": 6,
   "metadata": {},
   "outputs": [
    {
     "name": "stdout",
     "output_type": "stream",
     "text": [
      "[[ 10  20  30  40  50]\n",
      " [ 60  70  80  90 100]\n",
      " [110 120 130 140 150]\n",
      " [160 170 180 190 200]]\n"
     ]
    }
   ],
   "source": [
    "#- multiply all elements of above array by 10\n",
    "import numpy as np\n",
    "a=np.arange(1,21).reshape(4,5)\n",
    "print(a*10)"
   ]
  },
  {
   "cell_type": "code",
   "execution_count": 9,
   "metadata": {},
   "outputs": [
    {
     "name": "stdout",
     "output_type": "stream",
     "text": [
      "[[ 1  2  3  4  5]\n",
      " [ 6  7  8  9 10]\n",
      " [11 12 13 14 15]\n",
      " [16 17 18 19 20]]\n",
      "[ 1  3  5  7  9 11 13 15 17 19]\n"
     ]
    }
   ],
   "source": [
    "#- print odd elements from array\n",
    "import numpy as np\n",
    "a=np.arange(1,21).reshape(4,5)\n",
    "print(a)\n",
    "i=a%2!=0\n",
    "print(a[i])"
   ]
  },
  {
   "cell_type": "code",
   "execution_count": 41,
   "metadata": {},
   "outputs": [
    {
     "name": "stdout",
     "output_type": "stream",
     "text": [
      "[[ 1  2  3  4  5]\n",
      " [ 6  7  8  9 10]\n",
      " [11 12 13 14 15]\n",
      " [16 17 18 19 20]]\n",
      "[[  1  -2   3  -4   5]\n",
      " [ -6   7  -8   9 -10]\n",
      " [ 11 -12  13 -14  15]\n",
      " [-16  17 -18  19 -20]]\n"
     ]
    }
   ],
   "source": [
    "#- replace all even elements by their negative\n",
    "import numpy as np\n",
    "a=np.arange(1,21).reshape(4,5)\n",
    "print(a)\n",
    "i=a%2==0\n",
    "a[i]=-1*a[i]\n",
    "print(a)\n",
    "\n"
   ]
  },
  {
   "cell_type": "code",
   "execution_count": 29,
   "metadata": {},
   "outputs": [
    {
     "name": "stdout",
     "output_type": "stream",
     "text": [
      "[[ 1.          2.06666667  3.13333333  4.2       ]\n",
      " [ 5.26666667  6.33333333  7.4         8.46666667]\n",
      " [ 9.53333333 10.6        11.66666667 12.73333333]\n",
      " [13.8        14.86666667 15.93333333 17.        ]]\n"
     ]
    }
   ],
   "source": [
    "#- create a linearly spaced matrix M1 of size 4x4 having values in range 1-16\n",
    "\n",
    "import numpy as np\n",
    "m1=np.linspace(1,17,16).reshape(4,4)\n",
    "print(m1)"
   ]
  },
  {
   "cell_type": "code",
   "execution_count": 30,
   "metadata": {},
   "outputs": [
    {
     "name": "stdout",
     "output_type": "stream",
     "text": [
      "[[ 1.          5.26666667  9.53333333 13.8       ]\n",
      " [ 2.06666667  6.33333333 10.6        14.86666667]\n",
      " [ 3.13333333  7.4        11.66666667 15.93333333]\n",
      " [ 4.2         8.46666667 12.73333333 17.        ]]\n"
     ]
    }
   ],
   "source": [
    "#- create a transpose of above matrix call it M2\n",
    "import numpy as np\n",
    "m1=np.linspace(1,17,16).reshape(4,4)\n",
    "m2=m1.T\n",
    "print(m2)"
   ]
  },
  {
   "cell_type": "code",
   "execution_count": 31,
   "metadata": {},
   "outputs": [
    {
     "name": "stdout",
     "output_type": "stream",
     "text": [
      "[[ 2.          7.33333333 12.66666667 18.        ]\n",
      " [ 7.33333333 12.66666667 18.         23.33333333]\n",
      " [12.66666667 18.         23.33333333 28.66666667]\n",
      " [18.         23.33333333 28.66666667 34.        ]]\n"
     ]
    }
   ],
   "source": [
    "#- find sum of above matrix M3 = (M1 + M2)\n",
    "import numpy as np\n",
    "m1=np.linspace(1,17,16).reshape(4,4)\n",
    "m2=m1.T\n",
    "m3=m1+m2\n",
    "print(m3)"
   ]
  },
  {
   "cell_type": "code",
   "execution_count": 33,
   "metadata": {},
   "outputs": [
    {
     "name": "stdout",
     "output_type": "stream",
     "text": [
      "[[ 2.          7.33333333 12.66666667 18.        ]\n",
      " [ 7.33333333 12.66666667 18.         23.33333333]\n",
      " [12.66666667 18.         23.33333333 28.66666667]\n",
      " [18.         23.33333333 28.66666667 34.        ]]\n",
      "[[ True  True  True  True]\n",
      " [ True  True  True  True]\n",
      " [ True  True  True  True]\n",
      " [ True  True  True  True]]\n"
     ]
    }
   ],
   "source": [
    "#- Find Transpose of M3, Call it MT1. Check if M3 == MT1\n",
    "import numpy as np\n",
    "m1=np.linspace(1,17,16).reshape(4,4)\n",
    "m2=m1.T\n",
    "m3=m1+m2\n",
    "mt1=m3.T\n",
    "print(mt1)\n",
    "print(m3==mt1)"
   ]
  },
  {
   "cell_type": "code",
   "execution_count": 75,
   "metadata": {},
   "outputs": [
    {
     "name": "stdout",
     "output_type": "stream",
     "text": [
      "[[ 1.          2.06666667  3.13333333  4.2       ]\n",
      " [ 5.26666667  6.33333333  7.4         8.46666667]\n",
      " [ 9.53333333 10.6        11.66666667 12.73333333]\n",
      " [13.8        14.86666667 15.93333333 17.        ]]\n",
      "[[ 1.          5.26666667  9.53333333 13.8       ]\n",
      " [ 2.06666667  6.33333333 10.6        14.86666667]\n",
      " [ 3.13333333  7.4        11.66666667 15.93333333]\n",
      " [ 4.2         8.46666667 12.73333333 17.        ]]\n",
      "[[ 0.  -3.2 -6.4 -9.6]\n",
      " [ 3.2  0.  -3.2 -6.4]\n",
      " [ 6.4  3.2  0.  -3.2]\n",
      " [ 9.6  6.4  3.2  0. ]]\n"
     ]
    }
   ],
   "source": [
    "#- find diffrence of M4 = (M1 - M2)\n",
    "import numpy as np\n",
    "m1=np.linspace(1,17,16).reshape(4,4)\n",
    "m2=m1.T\n",
    "m4=m1-m2\n",
    "print(m1)\n",
    "print(m2)\n",
    "print(m4)"
   ]
  },
  {
   "cell_type": "code",
   "execution_count": 35,
   "metadata": {},
   "outputs": [
    {
     "name": "stdout",
     "output_type": "stream",
     "text": [
      "[[ 0.   3.2  6.4  9.6]\n",
      " [-3.2  0.   3.2  6.4]\n",
      " [-6.4 -3.2  0.   3.2]\n",
      " [-9.6 -6.4 -3.2  0. ]]\n",
      "[[ True False False False]\n",
      " [False  True False False]\n",
      " [False False  True False]\n",
      " [False False False  True]]\n",
      "[[ True  True  True  True]\n",
      " [ True  True  True  True]\n",
      " [ True  True  True  True]\n",
      " [ True  True  True  True]]\n"
     ]
    }
   ],
   "source": [
    "#- Find Transpose of M4, Call it MT2. Check if M4 == MT2. Also check if M4 == -MT2\n",
    "\n",
    "import numpy as np\n",
    "m1=np.linspace(1,17,16).reshape(4,4)\n",
    "m2=m1.T\n",
    "m4=m1-m2\n",
    "mt2=m4.T\n",
    "print(mt2)\n",
    "print(m4==mt2)\n",
    "print(m4==(-1*mt2))"
   ]
  },
  {
   "cell_type": "code",
   "execution_count": 37,
   "metadata": {},
   "outputs": [
    {
     "name": "stdout",
     "output_type": "stream",
     "text": [
      "[[24 38 36 14]\n",
      " [24 24 18 21]\n",
      " [27 30 36 31]]\n"
     ]
    }
   ],
   "source": [
    "#- create a matrix (3x4) R1 of random numbers between 10-40\n",
    "\n",
    "import numpy as np\n",
    "r1=np.random.randint(10,40,12)\n",
    "print(r1.reshape(3,4))"
   ]
  },
  {
   "cell_type": "code",
   "execution_count": 39,
   "metadata": {},
   "outputs": [
    {
     "name": "stdout",
     "output_type": "stream",
     "text": [
      "[[29 24 22 14]\n",
      " [29 27 27 31]\n",
      " [35 37 12 37]]\n",
      "[29 24 12 14]\n",
      "[35 37 27 37]\n"
     ]
    }
   ],
   "source": [
    "#- find min and max column wise\n",
    "\n",
    "import numpy as np\n",
    "r1=np.random.randint(10,40,12).reshape(3,4)\n",
    "print(r1)\n",
    "print(r1.min(axis=0))\n",
    "print(r1.max(axis=0))"
   ]
  },
  {
   "cell_type": "code",
   "execution_count": 46,
   "metadata": {},
   "outputs": [
    {
     "name": "stdout",
     "output_type": "stream",
     "text": [
      "[[18 15 37 14]\n",
      " [11 28 32 25]\n",
      " [16 16 39 33]]\n",
      "[14 25 33]\n",
      "[ 84  96 104]\n",
      "[[ 18  15  37  84]\n",
      " [ 11  28  32  96]\n",
      " [ 16  16  39 104]]\n"
     ]
    }
   ],
   "source": [
    "#- replace the last column with sum of all the columns\n",
    "import numpy as np\n",
    "r1=np.random.randint(10,40,12).reshape(3,4)\n",
    "print(r1)\n",
    "print(r1[:,3])\n",
    "print(r1.sum(axis=1))\n",
    "r1[:,3]=r1.sum(axis=1)\n",
    "print(r1)"
   ]
  },
  {
   "cell_type": "code",
   "execution_count": 73,
   "metadata": {},
   "outputs": [
    {
     "name": "stdout",
     "output_type": "stream",
     "text": [
      "[[32. 37. 38. 13.]\n",
      " [21. 26. 39. 15.]\n",
      " [26. 28. 21. 32.]]\n",
      "[[nan 37. nan 13.]\n",
      " [21. nan 39. 15.]\n",
      " [nan nan 21. nan]]\n",
      "6\n"
     ]
    }
   ],
   "source": [
    "# - create a matrix (3x4) R1 of random numbers between 10-40\n",
    "# - replace all even elements with nan in R1\n",
    "# - count number of nan in R1\n",
    "\n",
    "import numpy as np\n",
    "r1=np.random.randint(10,40,12).reshape(3,4)\n",
    "res=np.array(r1,dtype='float64') #nan is float type.\n",
    "print(res)\n",
    "i=res%2==0\n",
    "res[i]=np.nan           #replaced even numbers with nan.\n",
    "print(res)\n",
    "n=np.isnan(res)         #check for nan values in the ndarray.\n",
    "print(n.sum())          #count of nan values."
   ]
  },
  {
   "cell_type": "code",
   "execution_count": 50,
   "metadata": {},
   "outputs": [
    {
     "name": "stdout",
     "output_type": "stream",
     "text": [
      "[ 1  2  3  4  5  6  7  8  9 11 12 13 14 15 16 17 18 19]\n",
      "[[ 1  2  3]\n",
      " [ 4  5  6]\n",
      " [ 7  8  9]\n",
      " [11 12 13]\n",
      " [14 15 16]\n",
      " [17 18 19]]\n",
      "[[ 1  2  3 11 12 13]\n",
      " [ 4  5  6 14 15 16]\n",
      " [ 7  8  9 17 18 19]]\n"
     ]
    }
   ],
   "source": [
    "import numpy as np\n",
    "a1 = np.arange(1,10).reshape(3,3)\n",
    "a2 = np.arange(11,20).reshape(3,3)\n",
    "a3 = np.append(a1,a2)\n",
    "print(a3)\n",
    "a3 = np.append(a1,a2, axis = 0)\n",
    "print(a3)\n",
    "a3 = np.append(a1,a2, axis = 1)\n",
    "print(a3)"
   ]
  },
  {
   "cell_type": "code",
   "execution_count": null,
   "metadata": {},
   "outputs": [],
   "source": []
  }
 ],
 "metadata": {
  "kernelspec": {
   "display_name": "Python 3",
   "language": "python",
   "name": "python3"
  },
  "language_info": {
   "codemirror_mode": {
    "name": "ipython",
    "version": 3
   },
   "file_extension": ".py",
   "mimetype": "text/x-python",
   "name": "python",
   "nbconvert_exporter": "python",
   "pygments_lexer": "ipython3",
   "version": "3.7.6"
  }
 },
 "nbformat": 4,
 "nbformat_minor": 2
}
