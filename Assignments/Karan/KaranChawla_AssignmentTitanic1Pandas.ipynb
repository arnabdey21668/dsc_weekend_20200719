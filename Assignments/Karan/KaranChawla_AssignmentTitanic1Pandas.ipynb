{
 "cells": [
  {
   "cell_type": "markdown",
   "metadata": {},
   "source": [
    "|Variable|Definition|Key|\n",
    "|---|---|---|\n",
    "|survival|Survival|0 = No, 1 = Yes|\n",
    "|pclass|Ticket class|1 = 1st, 2 = 2nd, 3 = 3rd|\n",
    "|gender|gender ||\n",
    "|Age |Age in years| |\n",
    "|sibsp |number of siblings / spouses aboard|\t|\n",
    "|parch |number of parents / children aboard| |\n",
    "|ticket|Ticket number ||\n",
    "|fare | fare| \t|\n",
    "|cabin |Cabin number|\t|\n",
    "|embarked|Port of Embarkation|C = Cherbourg, Q = Queenstown, S = Southampton|\n",
    "|boat | Lifeboat||\n",
    "|body | Body Identification Number||\n",
    "|home.dest| Home/destination||"
   ]
  },
  {
   "cell_type": "markdown",
   "metadata": {},
   "source": []
  },
  {
   "cell_type": "markdown",
   "metadata": {},
   "source": [
    "- Read data and describe it\n",
    "- Find columns with missingdata\n",
    "- Print shape of dataset\n",
    "- drop columns with more than 25% missing data\n",
    "- drop columns having independent values(which do not affect the survival rate).\n",
    "\n",
    "\n",
    "- check data types of all columns\n",
    "- convert price to numeric\n",
    "- find columns still having missing/na values and also count of missing data\n",
    "- fill na with mean for fare and age column column.\n",
    "- drop na values for embarked column.\n",
    "- dump the dataframe to a csv file 'titanic_filtered.csv'.\n",
    "\n",
    "\n",
    "- for surviced column replace 0 with D and 1 with A\n",
    "- find the frequency of different values in survived column\n",
    "- group by gender and survived and see the counts in each category\n",
    "- find different pclass and no of people in each class\n",
    "\n",
    "- find top 5 people with highest values of age. Count no of male and females in the top 5\n",
    "- find max age male and female who survived\n",
    "- get average age by gender\n",
    "- get average age by people survived vs not-survived"
   ]
  },
  {
   "cell_type": "code",
   "execution_count": 4,
   "metadata": {},
   "outputs": [],
   "source": [
    "import numpy as np\n",
    "import pandas as pd\n"
   ]
  },
  {
   "cell_type": "code",
   "execution_count": 5,
   "metadata": {},
   "outputs": [
    {
     "name": "stdout",
     "output_type": "stream",
     "text": [
      "        Unnamed: 0       pclass     survived          age        sibsp  \\\n",
      "count  1309.000000  1309.000000  1309.000000  1046.000000  1309.000000   \n",
      "mean    654.000000     2.294882     0.381971    29.881135     0.498854   \n",
      "std     378.020061     0.837836     0.486055    14.413500     1.041658   \n",
      "min       0.000000     1.000000     0.000000     0.166700     0.000000   \n",
      "25%     327.000000     2.000000     0.000000    21.000000     0.000000   \n",
      "50%     654.000000     3.000000     0.000000    28.000000     0.000000   \n",
      "75%     981.000000     3.000000     1.000000    39.000000     1.000000   \n",
      "max    1308.000000     3.000000     1.000000    80.000000     8.000000   \n",
      "\n",
      "             parch        body  \n",
      "count  1309.000000  121.000000  \n",
      "mean      0.385027  160.809917  \n",
      "std       0.865560   97.696922  \n",
      "min       0.000000    1.000000  \n",
      "25%       0.000000   72.000000  \n",
      "50%       0.000000  155.000000  \n",
      "75%       0.000000  256.000000  \n",
      "max       9.000000  328.000000  \n"
     ]
    }
   ],
   "source": [
    "# Read data and describe it\n",
    "\n",
    "titanic_dataset = pd.read_csv('titanic_dataset.csv')\n",
    "print(titanic_dataset.describe())"
   ]
  },
  {
   "cell_type": "code",
   "execution_count": 6,
   "metadata": {},
   "outputs": [
    {
     "name": "stdout",
     "output_type": "stream",
     "text": [
      "      Unnamed: 0  pclass  survived   name  gender    age  sibsp  parch  \\\n",
      "0          False   False     False  False   False  False  False  False   \n",
      "1          False   False     False  False   False  False  False  False   \n",
      "2          False   False     False  False   False  False  False  False   \n",
      "3          False   False     False  False   False  False  False  False   \n",
      "4          False   False     False  False   False  False  False  False   \n",
      "...          ...     ...       ...    ...     ...    ...    ...    ...   \n",
      "1304       False   False     False  False   False  False  False  False   \n",
      "1305       False   False     False  False   False   True  False  False   \n",
      "1306       False   False     False  False   False  False  False  False   \n",
      "1307       False   False     False  False   False  False  False  False   \n",
      "1308       False   False     False  False   False  False  False  False   \n",
      "\n",
      "      ticket   fare  cabin  embarked   boat   body  home.dest  \n",
      "0      False  False  False     False  False   True      False  \n",
      "1      False  False  False     False  False   True      False  \n",
      "2      False  False  False     False   True   True      False  \n",
      "3      False  False  False     False   True  False      False  \n",
      "4      False  False  False     False   True   True      False  \n",
      "...      ...    ...    ...       ...    ...    ...        ...  \n",
      "1304   False  False   True     False   True  False       True  \n",
      "1305   False  False   True     False   True   True       True  \n",
      "1306   False  False   True     False   True  False       True  \n",
      "1307   False  False   True     False   True   True       True  \n",
      "1308   False  False   True     False   True   True       True  \n",
      "\n",
      "[1309 rows x 15 columns]\n"
     ]
    }
   ],
   "source": [
    "# Find columns with missingdata\n",
    "\n",
    "print(titanic_dataset.isna())"
   ]
  },
  {
   "cell_type": "code",
   "execution_count": 7,
   "metadata": {},
   "outputs": [
    {
     "name": "stdout",
     "output_type": "stream",
     "text": [
      "(1309, 15)\n"
     ]
    }
   ],
   "source": [
    "# Print shape of dataset\n",
    "\n",
    "print(titanic_dataset.shape)"
   ]
  },
  {
   "cell_type": "code",
   "execution_count": 8,
   "metadata": {},
   "outputs": [
    {
     "name": "stdout",
     "output_type": "stream",
     "text": [
      "      Unnamed: 0  pclass  survived  \\\n",
      "0              0       1         1   \n",
      "1              1       1         1   \n",
      "2              2       1         0   \n",
      "3              3       1         0   \n",
      "4              4       1         0   \n",
      "...          ...     ...       ...   \n",
      "1304        1304       3         0   \n",
      "1305        1305       3         0   \n",
      "1306        1306       3         0   \n",
      "1307        1307       3         0   \n",
      "1308        1308       3         0   \n",
      "\n",
      "                                                 name  gender      age  sibsp  \\\n",
      "0                       Allen, Miss. Elisabeth Walton  female  29.0000      0   \n",
      "1                      Allison, Master. Hudson Trevor    male   0.9167      1   \n",
      "2                        Allison, Miss. Helen Loraine  female   2.0000      1   \n",
      "3                Allison, Mr. Hudson Joshua Creighton    male  30.0000      1   \n",
      "4     Allison, Mrs. Hudson J C (Bessie Waldo Daniels)  female  25.0000      1   \n",
      "...                                               ...     ...      ...    ...   \n",
      "1304                             Zabour, Miss. Hileni  female  14.5000      1   \n",
      "1305                            Zabour, Miss. Thamine  female      NaN      1   \n",
      "1306                        Zakarian, Mr. Mapriededer    male  26.5000      0   \n",
      "1307                              Zakarian, Mr. Ortin    male  27.0000      0   \n",
      "1308                               Zimmerman, Mr. Leo    male  29.0000      0   \n",
      "\n",
      "      parch  ticket      fare embarked boat                        home.dest  \n",
      "0         0   24160  $211.34         S    2                     St Louis, MO  \n",
      "1         2  113781  $151.55         S   11  Montreal, PQ / Chesterville, ON  \n",
      "2         2  113781  $151.55         S  NaN  Montreal, PQ / Chesterville, ON  \n",
      "3         2  113781  $151.55         S  NaN  Montreal, PQ / Chesterville, ON  \n",
      "4         2  113781  $151.55         S  NaN  Montreal, PQ / Chesterville, ON  \n",
      "...     ...     ...       ...      ...  ...                              ...  \n",
      "1304      0    2665   $14.45         C  NaN                              NaN  \n",
      "1305      0    2665   $14.45         C  NaN                              NaN  \n",
      "1306      0    2656    $7.23         C  NaN                              NaN  \n",
      "1307      0    2670    $7.23         C  NaN                              NaN  \n",
      "1308      0  315082    $7.88         S  NaN                              NaN  \n",
      "\n",
      "[1309 rows x 13 columns]\n"
     ]
    }
   ],
   "source": [
    "# drop columns with more than 25% missing data\n",
    "\n",
    "# print(titanic_dataset.isin([' ']))\n",
    "\n",
    "# drop_columns = titanic_dataset.loc[:, titanic_dataset.isin(['Nan']).mean() < 0.25]\n",
    "# print(drop_columns)\n",
    "\n",
    "drop_columns = titanic_dataset.dropna(thresh=0.25*len(titanic_dataset), axis=1)\n",
    "print(drop_columns)"
   ]
  },
  {
   "cell_type": "code",
   "execution_count": 9,
   "metadata": {},
   "outputs": [
    {
     "name": "stdout",
     "output_type": "stream",
     "text": [
      "None\n"
     ]
    }
   ],
   "source": [
    "# drop columns having independent values(which do not affect the survival rate)\n",
    "\n",
    "drop_ind_columns = titanic_dataset.drop(['name', 'ticket', 'cabin', 'boat', 'body', 'home.dest'], axis = 1, inplace = True)\n",
    "print(drop_ind_columns)"
   ]
  },
  {
   "cell_type": "code",
   "execution_count": 10,
   "metadata": {},
   "outputs": [
    {
     "name": "stdout",
     "output_type": "stream",
     "text": [
      "Unnamed: 0      int64\n",
      "pclass          int64\n",
      "survived        int64\n",
      "gender         object\n",
      "age           float64\n",
      "sibsp           int64\n",
      "parch           int64\n",
      "fare           object\n",
      "embarked       object\n",
      "dtype: object\n"
     ]
    }
   ],
   "source": [
    "# check data types of all columns\n",
    "\n",
    "print(titanic_dataset.dtypes)"
   ]
  },
  {
   "cell_type": "code",
   "execution_count": 31,
   "metadata": {},
   "outputs": [
    {
     "name": "stdout",
     "output_type": "stream",
     "text": [
      "0       211.34\n",
      "1       151.55\n",
      "2       151.55\n",
      "3       151.55\n",
      "4       151.55\n",
      "         ...  \n",
      "1304     14.45\n",
      "1305     14.45\n",
      "1306      7.23\n",
      "1307      7.23\n",
      "1308      7.88\n",
      "Name: fare, Length: 1309, dtype: float64\n"
     ]
    }
   ],
   "source": [
    "# convert price to numeric\n",
    "\n",
    "titanic_dataset.fare= titanic_dataset[titanic_dataset.columns[7]].replace(['\\$'], '', regex = True).astype(float)\n",
    "print(titanic_dataset.fare)"
   ]
  },
  {
   "cell_type": "code",
   "execution_count": 5,
   "metadata": {},
   "outputs": [
    {
     "name": "stdout",
     "output_type": "stream",
     "text": [
      "Unnamed: 0      0\n",
      "pclass          0\n",
      "survived        0\n",
      "gender          0\n",
      "age           263\n",
      "sibsp           0\n",
      "parch           0\n",
      "fare            1\n",
      "embarked        2\n",
      "dtype: int64\n"
     ]
    }
   ],
   "source": [
    "# find columns still having missing/na values and also count of missing data\n",
    "\n",
    "print(titanic_dataset.isna().sum())"
   ]
  },
  {
   "cell_type": "code",
   "execution_count": 40,
   "metadata": {},
   "outputs": [
    {
     "name": "stdout",
     "output_type": "stream",
     "text": [
      "None\n",
      "None\n",
      "Unnamed: 0    0\n",
      "pclass        0\n",
      "survived      0\n",
      "gender        0\n",
      "age           0\n",
      "sibsp         0\n",
      "parch         0\n",
      "fare          0\n",
      "embarked      2\n",
      "dtype: int64\n"
     ]
    }
   ],
   "source": [
    "# fill na with mean for fare and age column column\n",
    "\n",
    "fare_mean = titanic_dataset.fare.fillna(titanic_dataset.fare.mean(), inplace = True)\n",
    "print(fare_mean)\n",
    "age_mean = titanic_dataset.age.fillna(titanic_dataset.age.mean(), inplace = True)\n",
    "print(age_mean)\n",
    "\n",
    "print(titanic_dataset.isna().sum())"
   ]
  },
  {
   "cell_type": "code",
   "execution_count": 45,
   "metadata": {},
   "outputs": [
    {
     "name": "stdout",
     "output_type": "stream",
     "text": [
      "0          0\n",
      "1          1\n",
      "2          2\n",
      "3          3\n",
      "4          4\n",
      "        ... \n",
      "1304    1304\n",
      "1305    1305\n",
      "1306    1306\n",
      "1307    1307\n",
      "1308    1308\n",
      "Name: embarked, Length: 1309, dtype: object\n"
     ]
    }
   ],
   "source": [
    "# drop na values for embarked column\n",
    "\n",
    "titanic_dataset.embarked = titanic_dataset.dropna(axis=1)\n",
    "print(titanic_dataset.embarked)"
   ]
  },
  {
   "cell_type": "code",
   "execution_count": 53,
   "metadata": {},
   "outputs": [
    {
     "name": "stdout",
     "output_type": "stream",
     "text": [
      "Unnamed: 0    0\n",
      "pclass        0\n",
      "survived      0\n",
      "gender        0\n",
      "age           0\n",
      "sibsp         0\n",
      "parch         0\n",
      "fare          0\n",
      "embarked      0\n",
      "dtype: int64\n",
      "Unnamed: 0      int64\n",
      "pclass          int64\n",
      "survived        int64\n",
      "gender         object\n",
      "age           float64\n",
      "sibsp           int64\n",
      "parch           int64\n",
      "fare          float64\n",
      "embarked       object\n",
      "dtype: object\n"
     ]
    }
   ],
   "source": [
    "print(titanic_dataset.isna().sum())\n",
    "\n",
    "print(titanic_dataset.dtypes)"
   ]
  },
  {
   "cell_type": "code",
   "execution_count": 11,
   "metadata": {},
   "outputs": [],
   "source": [
    "titanic_dataset_filtered = pd.read_csv('titanic_filtered.csv')"
   ]
  },
  {
   "cell_type": "code",
   "execution_count": 60,
   "metadata": {},
   "outputs": [
    {
     "name": "stdout",
     "output_type": "stream",
     "text": [
      "None\n"
     ]
    }
   ],
   "source": [
    "# for surviced column replace 0 with D and 1 with A\n",
    "\n",
    "df = titanic_dataset_filtered.replace({'survived' : {0 : 'D', 1 : 'A'}}, inplace = True)\n",
    "print(df)\n"
   ]
  },
  {
   "cell_type": "code",
   "execution_count": 83,
   "metadata": {},
   "outputs": [
    {
     "name": "stdout",
     "output_type": "stream",
     "text": [
      "0    809\n",
      "1    498\n",
      "Name: survived, dtype: int64\n"
     ]
    }
   ],
   "source": [
    "# find the frequency of different values in survived column\n",
    "\n",
    "freq = titanic_dataset_filtered.survived.value_counts()\n",
    "print(freq)"
   ]
  },
  {
   "cell_type": "code",
   "execution_count": 61,
   "metadata": {},
   "outputs": [
    {
     "name": "stdout",
     "output_type": "stream",
     "text": [
      "     gender      age  counts\n",
      "0    female   0.1667       1\n",
      "1    female   0.7500       2\n",
      "2    female   0.9167       1\n",
      "3    female   1.0000       5\n",
      "4    female   2.0000       7\n",
      "..      ...      ...     ...\n",
      "162    male  70.0000       2\n",
      "163    male  70.5000       1\n",
      "164    male  71.0000       2\n",
      "165    male  74.0000       1\n",
      "166    male  80.0000       1\n",
      "\n",
      "[167 rows x 3 columns]\n"
     ]
    }
   ],
   "source": [
    "# group by gender and survived and see the counts in each category\n",
    "\n",
    "grp = titanic_dataset_filtered.groupby(by=[\"gender\",\"age\"])\n",
    "print(grp.size().reset_index(name='counts'))"
   ]
  },
  {
   "cell_type": "code",
   "execution_count": 26,
   "metadata": {},
   "outputs": [
    {
     "name": "stdout",
     "output_type": "stream",
     "text": [
      "        Unnamed: 0  survived  gender  age  sibsp  parch  fare  embarked\n",
      "pclass                                                                 \n",
      "1              321       321     321  321    321    321   321       321\n",
      "2              277       277     277  277    277    277   277       277\n",
      "3              709       709     709  709    709    709   709       709\n"
     ]
    }
   ],
   "source": [
    "# find different pclass and no of people in each class\n",
    "\n",
    "grp1 = titanic_dataset_filtered.groupby(by=['pclass'])\n",
    "r = grp1.count()\n",
    "print(r)"
   ]
  },
  {
   "cell_type": "code",
   "execution_count": 64,
   "metadata": {},
   "outputs": [
    {
     "name": "stdout",
     "output_type": "stream",
     "text": [
      "      Unnamed: 0  pclass survived  gender   age  sibsp  parch   fare embarked\n",
      "14            14       1        A    male  80.0      0      0  30.00        S\n",
      "61            61       1        A  female  76.0      1      0  78.85        S\n",
      "1233        1235       3        D    male  74.0      0      0   7.78        S\n",
      "135          135       1        D    male  71.0      0      0  34.65        C\n",
      "9              9       1        D    male  71.0      0      0  49.50        C\n",
      "   gender  counts\n",
      "0  female       1\n",
      "1    male       4\n"
     ]
    }
   ],
   "source": [
    "# find top 5 people with highest values of age. Count no of male and females in the top 5\n",
    "\n",
    "print(titanic_dataset_filtered.sort_values(by = 'age', ascending = False).head(5))\n",
    "print(titanic_dataset_filtered.sort_values(by = 'age', ascending = False).head(5).groupby(by=['gender']).size().reset_index(name='counts'))\n"
   ]
  },
  {
   "cell_type": "code",
   "execution_count": 65,
   "metadata": {},
   "outputs": [
    {
     "name": "stdout",
     "output_type": "stream",
     "text": [
      "gender\n",
      "female    76.0\n",
      "male      80.0\n",
      "Name: age, dtype: float64\n"
     ]
    }
   ],
   "source": [
    "# find max age male and female who survived\n",
    "\n",
    "print(titanic_dataset_filtered[titanic_dataset_filtered.survived == 'A'].groupby(by=['gender']).age.max())"
   ]
  },
  {
   "cell_type": "code",
   "execution_count": 59,
   "metadata": {},
   "outputs": [
    {
     "name": "stdout",
     "output_type": "stream",
     "text": [
      "gender\n",
      "female    28.795931\n",
      "male      30.430716\n",
      "Name: age, dtype: float64\n"
     ]
    }
   ],
   "source": [
    "# get average age by gender\n",
    "\n",
    "avg_age = titanic_dataset_filtered.groupby(by = 'gender').age.mean()\n",
    "print(avg_age)"
   ]
  },
  {
   "cell_type": "code",
   "execution_count": 62,
   "metadata": {},
   "outputs": [
    {
     "name": "stdout",
     "output_type": "stream",
     "text": [
      "survived\n",
      "A    28.974711\n",
      "D    30.389368\n",
      "Name: age, dtype: float64\n"
     ]
    }
   ],
   "source": [
    "# get average age by people survived vs not-survived\n",
    "\n",
    "avg_age = titanic_dataset_filtered.groupby(by = ['survived']).age.mean()\n",
    "print(avg_age)"
   ]
  },
  {
   "cell_type": "code",
   "execution_count": null,
   "metadata": {},
   "outputs": [],
   "source": []
  }
 ],
 "metadata": {
  "kernelspec": {
   "display_name": "Python 3",
   "language": "python",
   "name": "python3"
  },
  "language_info": {
   "codemirror_mode": {
    "name": "ipython",
    "version": 3
   },
   "file_extension": ".py",
   "mimetype": "text/x-python",
   "name": "python",
   "nbconvert_exporter": "python",
   "pygments_lexer": "ipython3",
   "version": "3.7.6"
  }
 },
 "nbformat": 4,
 "nbformat_minor": 2
}
